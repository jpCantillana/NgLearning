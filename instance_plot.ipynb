{
 "cells": [
  {
   "cell_type": "markdown",
   "metadata": {},
   "source": [
    "<h1>Exploring the data</h1>"
   ]
  },
  {
   "cell_type": "markdown",
   "metadata": {},
   "source": [
    "<h2>Loading the data</h2>"
   ]
  },
  {
   "cell_type": "code",
   "execution_count": 1,
   "metadata": {},
   "outputs": [],
   "source": [
    "import os\n",
    "\n",
    "data_files_list = [\"./export/\"+f for f in os.listdir(\"./export\") ]\n",
    "instance_dict = {}\n",
    "for dir_str in data_files_list:\n",
    "    with open(dir_str, 'r') as text_file:\n",
    "        cnt = 0\n",
    "        instance = \"\"\n",
    "        for line in text_file:\n",
    "            if cnt < 9:\n",
    "                if cnt == 0:\n",
    "                    instance = line.split()[0]\n",
    "                    instance_dict[instance] = []\n",
    "                cnt += 1\n",
    "                continue\n",
    "            split_line = line.split()\n",
    "            instance_dict[instance].append([int(i) for i in split_line])\n",
    "        text_file.close()\n",
    "\n",
    "ng_dict = {}\n",
    "cnt = -1\n",
    "with open(\"ng_outs.csv\", 'r') as text_file:\n",
    "    for line in text_file:\n",
    "        if cnt < 2:\n",
    "            cnt += 1\n",
    "            continue\n",
    "        raw_line = line.strip()\n",
    "        split_line_list = raw_line.split(sep=\";\")\n",
    "        instance = split_line_list[3]\n",
    "        if instance not in ng_dict:\n",
    "            ng_dict[instance] = [[0 for i in range(101)]]\n",
    "        ng_dict[instance].append([0] + [int(i) for i in split_line_list[5:-1]])\n",
    "        if len(split_line_list[5:-1]) != 100:\n",
    "            print(\"case found for instance \"+instance)\n",
    "    text_file.close()"
   ]
  },
  {
   "cell_type": "markdown",
   "metadata": {},
   "source": [
    "<h2>Data preparation</h2>"
   ]
  },
  {
   "cell_type": "code",
   "execution_count": 2,
   "metadata": {},
   "outputs": [],
   "source": [
    "from math import sqrt\n",
    "import torch\n",
    "from torch_geometric.data import Data\n",
    "from torch_geometric.loader import DataLoader"
   ]
  },
  {
   "cell_type": "code",
   "execution_count": 3,
   "metadata": {},
   "outputs": [],
   "source": [
    "complete_graph_list = []\n",
    "for i in range(101):\n",
    "    for j in range(101):\n",
    "        if i != j:\n",
    "            complete_graph_list.append([i,j])\n",
    "edge_index = torch.tensor(complete_graph_list, dtype=torch.long).t().contiguous()\n",
    "n_edges = len(complete_graph_list)"
   ]
  },
  {
   "cell_type": "code",
   "execution_count": 4,
   "metadata": {},
   "outputs": [],
   "source": [
    "for instance_name in ng_dict:\n",
    "    for i in range(101):\n",
    "        for j in range(101):\n",
    "            if i == j:\n",
    "                ng_dict[instance_name][i][j] = 0"
   ]
  },
  {
   "cell_type": "code",
   "execution_count": 5,
   "metadata": {},
   "outputs": [],
   "source": [
    "data_list = []\n",
    "for instance_name in ng_dict:\n",
    "    y = torch.tensor(ng_dict[instance_name], dtype=torch.double)\n",
    "    x = torch.tensor(instance_dict[instance_name], dtype=torch.double)\n",
    "    attr = [[i] for i in range(n_edges)]\n",
    "    loc_dict = {(i[0],j[0]): sqrt((i[1]-j[1])**2 + (i[2]-j[2])**2) for i in instance_dict[instance_name] for j in instance_dict[instance_name]}\n",
    "    cnt = -1\n",
    "    for i in range(101):\n",
    "        for j in range(101):\n",
    "            if i != j:\n",
    "                cnt += 1\n",
    "                attr[cnt].append(loc_dict[i,j])\n",
    "    attr = torch.tensor(attr, dtype=torch.double)\n",
    "    pos = []\n",
    "    for i in instance_dict[instance_name]:\n",
    "        pos.append([i[1], i[2]])\n",
    "    pos = torch.tensor(pos, dtype=torch.double)\n",
    "    data_list.append(Data(x=x, y=y, edge_index=edge_index, pos=pos, edge_attr=attr))"
   ]
  },
  {
   "cell_type": "code",
   "execution_count": 6,
   "metadata": {},
   "outputs": [],
   "source": [
    "# Just to produce edges as an adjacency matrix\n",
    "complete_adj_matrix_list = [[0 for i in range(101)] for i in range(101)]\n",
    "for edge in complete_graph_list:\n",
    "    i, j = edge\n",
    "    complete_adj_matrix_list[i][j] = 1"
   ]
  },
  {
   "cell_type": "code",
   "execution_count": 7,
   "metadata": {},
   "outputs": [],
   "source": [
    "class Instances:\n",
    "    def __init__(self, data_list):\n",
    "        self.data_list = data_list\n",
    "    \n",
    "    def to_torch_geometric(self, start=0, end=-1, batch_size=1):\n",
    "        return DataLoader(data_list[start:end], batch_size=batch_size)\n",
    "    \n",
    "    def to_conv_nets(self, start=0, end=-1, batch_size=1):\n",
    "        final_data = []\n",
    "        nodes = []\n",
    "        nodes_coor = []\n",
    "        nodes_timew = []\n",
    "        x_edges = []\n",
    "        x_edges_values = []\n",
    "        y_edges = []\n",
    "        cnt = 0\n",
    "        current_batch = 0\n",
    "        for graph in self.data_list[start:end]:\n",
    "            if cnt >= batch_size:\n",
    "                cnt = 0\n",
    "                current_batch += 1\n",
    "                nodes = torch.tensor(nodes, dtype=torch.long)\n",
    "                nodes_coor = torch.tensor(nodes_coor, dtype=torch.float)\n",
    "                nodes_timew = torch.tensor(nodes_timew, dtype=torch.long)\n",
    "                x_edges = torch.tensor(x_edges, dtype=torch.long)\n",
    "                x_edges_values = torch.tensor(x_edges_values, dtype=torch.float)\n",
    "                y_edges = torch.tensor(y_edges, dtype=torch.long)\n",
    "                final_data.append((x_edges, x_edges_values, nodes, nodes_coor, nodes_timew, y_edges))\n",
    "                nodes = []\n",
    "                nodes_coor = []\n",
    "                nodes_timew = []\n",
    "                x_edges = []\n",
    "                x_edges_values = []\n",
    "                y_edges = []\n",
    "            nodes.append([i for i in range(101)]) \n",
    "            nodes_coor.append(graph.pos.tolist())\n",
    "            tw = []\n",
    "            x_raw = graph.x.tolist()\n",
    "            for i in range(101):\n",
    "                tw.append([x_raw[i][4], x_raw[i][5]])\n",
    "            nodes_timew.append(tw)\n",
    "            x_edges.append(complete_adj_matrix_list)\n",
    "            dist_matrix = [[0 for _ in range(101)] for _ in range(101)]\n",
    "            dist_list = [i for _, i in graph.edge_attr.tolist()]\n",
    "            pos_dist = 0\n",
    "            for i in range(101):\n",
    "                for j in range(101):\n",
    "                    if i != j:\n",
    "                        dist_matrix[i][j] = dist_list[pos_dist]\n",
    "                        pos_dist += 1\n",
    "            x_edges_values.append(dist_matrix)\n",
    "            y_edges.append(graph.y.tolist()) #TODO: remove the transpose and also the contiguous when generating y\n",
    "            cnt += 1\n",
    "        return final_data"
   ]
  },
  {
   "cell_type": "code",
   "execution_count": 8,
   "metadata": {},
   "outputs": [],
   "source": [
    "data_source = Instances(data_list)"
   ]
  },
  {
   "cell_type": "code",
   "execution_count": 9,
   "metadata": {},
   "outputs": [],
   "source": [
    "datatorch = data_source.to_conv_nets(start=428, end=430, batch_size=1)"
   ]
  },
  {
   "cell_type": "code",
   "execution_count": 10,
   "metadata": {},
   "outputs": [],
   "source": [
    "x_edges, x_edges_values, nodes, nodes_coor, nodes_timew, y_edges = datatorch[0]"
   ]
  },
  {
   "cell_type": "code",
   "execution_count": 11,
   "metadata": {},
   "outputs": [],
   "source": [
    "import plotly.graph_objects as go\n",
    "import matplotlib.pyplot as plt\n",
    "import networkx as nx"
   ]
  },
  {
   "cell_type": "code",
   "execution_count": 12,
   "metadata": {},
   "outputs": [],
   "source": [
    "G = nx.Graph()\n",
    "G.add_nodes_from([i for i in range(101)])\n",
    "pos = {i:(int(nodes_coor[0][i][0]), int(nodes_coor[0][i][1])) for i in range(101)}"
   ]
  },
  {
   "cell_type": "code",
   "execution_count": 13,
   "metadata": {},
   "outputs": [],
   "source": [
    "tw_dict = {i:(int(nodes_timew[0][i][0]), int(nodes_timew[0][i][1]), int(nodes_timew[0][i][1]) - int(nodes_timew[0][i][0])) for i in range(101)}"
   ]
  },
  {
   "cell_type": "code",
   "execution_count": 21,
   "metadata": {},
   "outputs": [
    {
     "name": "stdout",
     "output_type": "stream",
     "text": [
      "[0, 60, 120, 180, 240, 300, 360, 420, 480, 540, 600, 660, 720, 780, 840, 900, 960, 1020, 1080, 1140]\n"
     ]
    }
   ],
   "source": [
    "print(list(range(0,max(tw_dict.items(), key=lambda x: x[1][1])[1][1], min(tw_dict.items(), key=lambda x: x[1][2])[1][2])))"
   ]
  },
  {
   "cell_type": "code",
   "execution_count": 131,
   "metadata": {},
   "outputs": [],
   "source": [
    "# print(min(tw_dict.items(), key=lambda x: x[1][2])[1][2])\n",
    "window_length = min(tw_dict.items(), key=lambda x: x[1][2])[1][2]\n",
    "max_time = max(tw_dict.items(), key=lambda x: x[1][1])[1][1] + window_length\n",
    "t_dict = {}\n",
    "for t in range(0, max_time, window_length):\n",
    "    valid_nodes = []\n",
    "    for i in range(101):\n",
    "        if tw_dict[i][0] <= t and tw_dict[i][1] >= t:\n",
    "            valid_nodes.append(i)\n",
    "    t_dict[t] = valid_nodes"
   ]
  },
  {
   "cell_type": "code",
   "execution_count": 24,
   "metadata": {},
   "outputs": [
    {
     "data": {
      "image/png": "[encoded data removed]",
      "text/plain": [
       "<Figure size 640x480 with 1 Axes>"
      ]
     },
     "metadata": {},
     "output_type": "display_data"
    }
   ],
   "source": [
    "nx.draw_networkx(G, pos=pos)\n",
    "plt.show()"
   ]
  },
  {
   "cell_type": "code",
   "execution_count": 25,
   "metadata": {},
   "outputs": [],
   "source": [
    "edge_x = []\n",
    "edge_y = []\n",
    "for i in range(101):\n",
    "    for j in range(101):\n",
    "        if y_edges[0][i][j] > 0.5:\n",
    "            x0, y0 = pos[i]\n",
    "            x1, y1 = pos[j]\n",
    "            edge_x.append(x0)\n",
    "            edge_x.append(x1)\n",
    "            edge_x.append(None)\n",
    "            edge_y.append(y0)\n",
    "            edge_y.append(y1)\n",
    "            edge_y.append(None)\n",
    "            G.add_edge(i,j)\n",
    "\n",
    "edge_trace = go.Scatter(\n",
    "    x=edge_x, y=edge_y,\n",
    "    line=dict(width=0.5, color='#888'),\n",
    "    hoverinfo='none',\n",
    "    mode='lines')\n",
    "\n",
    "node_x = []\n",
    "node_y = []\n",
    "for node in G.nodes():\n",
    "    x, y = pos[node]\n",
    "    node_x.append(x)\n",
    "    node_y.append(y)\n",
    "\n",
    "node_trace = go.Scatter(\n",
    "    x=node_x, y=node_y,\n",
    "    mode='markers',\n",
    "    hoverinfo='text',\n",
    "    marker=dict(\n",
    "        showscale=True,\n",
    "        # colorscale options\n",
    "        #'Greys' | 'YlGnBu' | 'Greens' | 'YlOrRd' | 'Bluered' | 'RdBu' |\n",
    "        #'Reds' | 'Blues' | 'Picnic' | 'Rainbow' | 'Portland' | 'Jet' |\n",
    "        #'Hot' | 'Blackbody' | 'Earth' | 'Electric' | 'Viridis' |\n",
    "        colorscale='YlGnBu',\n",
    "        reversescale=True,\n",
    "        color=[],\n",
    "        size=10,\n",
    "        colorbar=dict(\n",
    "            thickness=15,\n",
    "            title='Node Connections',\n",
    "            xanchor='left',\n",
    "            titleside='right'\n",
    "        ),\n",
    "        line_width=2))\n",
    "\n"
   ]
  },
  {
   "cell_type": "code",
   "execution_count": 26,
   "metadata": {},
   "outputs": [
    {
     "data": {
      "application/vnd.plotly.v1+json": {
       "config": {
        "plotlyServerURL": "https://plot.ly"
       },
       "data": [
        {
         "hoverinfo": "none",
         "line": {
          "color": "#888",
          "width": 0.5
         },
         "mode": "lines",
         "type": "scatter",
         "x": [
          42,
          41,
          null,
          50,
          46,
          null,
          47,
          49,
          null,
          41,
          37,
          null,
          62,
          59,
          null,
          58,
          65,
          null,
          50,
          53,
          null,
          31,
          38,
          null,
          45,
          50,
          null,
          53,
          50,
          null,
          57,
          64,
          null,
          41,
          41,
          null,
          46,
          46,
          null,
          39,
          43,
          null,
          38,
          39,
          null,
          32,
          29,
          null,
          49,
          46,
          null,
          47,
          55,
          null,
          71,
          60,
          null,
          41,
          42,
          null,
          44,
          43,
          null,
          32,
          45,
          null,
          39,
          39,
          null,
          65,
          65,
          null,
          59,
          59,
          null,
          27,
          34,
          null,
          39,
          39,
          null,
          52,
          59,
          null,
          39,
          38,
          null,
          34,
          29,
          null,
          73,
          50,
          null,
          29,
          32,
          null,
          51,
          46,
          null,
          58,
          65,
          null,
          62,
          60,
          null,
          48,
          41,
          null,
          49,
          47,
          null,
          55,
          47,
          null,
          25,
          29,
          null,
          62,
          64,
          null,
          43,
          35,
          null,
          61,
          50,
          null,
          59,
          59,
          null,
          45,
          50,
          null,
          64,
          57,
          null,
          49,
          50,
          null,
          46,
          45,
          null,
          46,
          49,
          null,
          53,
          50,
          null,
          59,
          58,
          null,
          71,
          65,
          null,
          38,
          37,
          null,
          55,
          54,
          null,
          56,
          45,
          null,
          50,
          49,
          null,
          29,
          25,
          null,
          32,
          41,
          null,
          41,
          34,
          null,
          55,
          50,
          null,
          38,
          39,
          null,
          65,
          71,
          null,
          45,
          50,
          null,
          45,
          43,
          null,
          55,
          50,
          null,
          45,
          46,
          null,
          43,
          41,
          null,
          54,
          55,
          null,
          69,
          50,
          null,
          30,
          47,
          null,
          67,
          55,
          null,
          35,
          43,
          null,
          44,
          44,
          null,
          30,
          41,
          null,
          49,
          55,
          null,
          50,
          55,
          null,
          60,
          62,
          null,
          30,
          37,
          null,
          58,
          59,
          null,
          41,
          39,
          null,
          50,
          55,
          null,
          41,
          45,
          null,
          54,
          45,
          null,
          56,
          65,
          null,
          43,
          49,
          null,
          52,
          44,
          null,
          45,
          42,
          null,
          37,
          41,
          null,
          65,
          58,
          null,
          44,
          44,
          null,
          50,
          43,
          null,
          55,
          50,
          null,
          37,
          39,
          null,
          55,
          48,
          null,
          50,
          54,
          null,
          43,
          50,
          null,
          34,
          41,
          null,
          39,
          44,
          null,
          55,
          46,
          null
         ],
         "y": [
          40,
          37,
          null,
          53,
          57,
          null,
          47,
          57,
          null,
          55,
          59,
          null,
          49,
          56,
          null,
          37,
          48,
          null,
          42,
          45,
          null,
          31,
          34,
          null,
          52,
          53,
          null,
          45,
          42,
          null,
          29,
          29,
          null,
          49,
          41,
          null,
          57,
          59,
          null,
          55,
          61,
          null,
          34,
          41,
          null,
          56,
          59,
          null,
          58,
          62,
          null,
          35,
          36,
          null,
          56,
          55,
          null,
          37,
          40,
          null,
          53,
          61,
          null,
          51,
          41,
          null,
          43,
          38,
          null,
          67,
          60,
          null,
          54,
          46,
          null,
          46,
          40,
          null,
          38,
          43,
          null,
          58,
          56,
          null,
          41,
          41,
          null,
          69,
          59,
          null,
          54,
          53,
          null,
          59,
          56,
          null,
          49,
          57,
          null,
          54,
          60,
          null,
          51,
          55,
          null,
          57,
          55,
          null,
          57,
          47,
          null,
          36,
          35,
          null,
          48,
          46,
          null,
          37,
          29,
          null,
          32,
          34,
          null,
          55,
          53,
          null,
          46,
          54,
          null,
          48,
          53,
          null,
          29,
          29,
          null,
          43,
          53,
          null,
          59,
          58,
          null,
          62,
          58,
          null,
          66,
          53,
          null,
          56,
          61,
          null,
          58,
          60,
          null,
          27,
          37,
          null,
          40,
          37,
          null,
          40,
          48,
          null,
          67,
          58,
          null,
          46,
          48,
          null,
          59,
          50,
          null,
          41,
          40,
          null,
          58,
          65,
          null,
          41,
          41,
          null,
          60,
          58,
          null,
          39,
          42,
          null,
          39,
          32,
          null,
          44,
          42,
          null,
          58,
          57,
          null,
          34,
          39,
          null,
          37,
          40,
          null,
          66,
          53,
          null,
          54,
          47,
          null,
          40,
          40,
          null,
          34,
          32,
          null,
          40,
          42,
          null,
          54,
          49,
          null,
          52,
          58,
          null,
          65,
          58,
          null,
          55,
          51,
          null,
          36,
          37,
          null,
          61,
          56,
          null,
          50,
          42,
          null,
          53,
          54,
          null,
          39,
          48,
          null,
          42,
          41,
          null,
          66,
          48,
          null,
          59,
          58,
          null,
          43,
          40,
          null,
          41,
          40,
          null,
          59,
          55,
          null,
          48,
          37,
          null,
          42,
          40,
          null,
          58,
          61,
          null,
          54,
          53,
          null,
          37,
          42,
          null,
          67,
          57,
          null,
          30,
          37,
          null,
          61,
          58,
          null,
          40,
          41,
          null,
          42,
          42,
          null,
          61,
          59,
          null
         ]
        },
        {
         "hoverinfo": "text",
         "marker": {
          "color": [
           0,
           2,
           2,
           2,
           2,
           1,
           1,
           3,
           1,
           1,
           0,
           1,
           1,
           2,
           4,
           1,
           2,
           1,
           3,
           1,
           1,
           1,
           1,
           1,
           1,
           1,
           1,
           1,
           1,
           1,
           2,
           1,
           1,
           2,
           1,
           1,
           1,
           2,
           1,
           1,
           1,
           1,
           2,
           1,
           1,
           3,
           0,
           2,
           1,
           3,
           1,
           1,
           3,
           1,
           1,
           2,
           1,
           1,
           1,
           1,
           2,
           0,
           2,
           1,
           3,
           2,
           1,
           2,
           1,
           2,
           1,
           1,
           1,
           1,
           2,
           1,
           1,
           1,
           2,
           1,
           1,
           2,
           7,
           2,
           1,
           1,
           1,
           1,
           3,
           1,
           2,
           2,
           1,
           1,
           3,
           1,
           1,
           3,
           2,
           3,
           1
          ],
          "colorbar": {
           "thickness": 15,
           "title": {
            "side": "right",
            "text": "Node Connections"
           },
           "xanchor": "left"
          },
          "colorscale": [
           [
            0,
            "rgb(255,255,217)"
           ],
           [
            0.125,
            "rgb(237,248,177)"
           ],
           [
            0.25,
            "rgb(199,233,180)"
           ],
           [
            0.375,
            "rgb(127,205,187)"
           ],
           [
            0.5,
            "rgb(65,182,196)"
           ],
           [
            0.625,
            "rgb(29,145,192)"
           ],
           [
            0.75,
            "rgb(34,94,168)"
           ],
           [
            0.875,
            "rgb(37,52,148)"
           ],
           [
            1,
            "rgb(8,29,88)"
           ]
          ],
          "line": {
           "width": 2
          },
          "reversescale": true,
          "showscale": true,
          "size": 10
         },
         "mode": "markers",
         "text": [
          "# of connections: 0",
          "# of connections: 2",
          "# of connections: 2",
          "# of connections: 2",
          "# of connections: 2",
          "# of connections: 1",
          "# of connections: 1",
          "# of connections: 3",
          "# of connections: 1",
          "# of connections: 1",
          "# of connections: 0",
          "# of connections: 1",
          "# of connections: 1",
          "# of connections: 2",
          "# of connections: 4",
          "# of connections: 1",
          "# of connections: 2",
          "# of connections: 1",
          "# of connections: 3",
          "# of connections: 1",
          "# of connections: 1",
          "# of connections: 1",
          "# of connections: 1",
          "# of connections: 1",
          "# of connections: 1",
          "# of connections: 1",
          "# of connections: 1",
          "# of connections: 1",
          "# of connections: 1",
          "# of connections: 1",
          "# of connections: 2",
          "# of connections: 1",
          "# of connections: 1",
          "# of connections: 2",
          "# of connections: 1",
          "# of connections: 1",
          "# of connections: 1",
          "# of connections: 2",
          "# of connections: 1",
          "# of connections: 1",
          "# of connections: 1",
          "# of connections: 1",
          "# of connections: 2",
          "# of connections: 1",
          "# of connections: 1",
          "# of connections: 3",
          "# of connections: 0",
          "# of connections: 2",
          "# of connections: 1",
          "# of connections: 3",
          "# of connections: 1",
          "# of connections: 1",
          "# of connections: 3",
          "# of connections: 1",
          "# of connections: 1",
          "# of connections: 2",
          "# of connections: 1",
          "# of connections: 1",
          "# of connections: 1",
          "# of connections: 1",
          "# of connections: 2",
          "# of connections: 0",
          "# of connections: 2",
          "# of connections: 1",
          "# of connections: 3",
          "# of connections: 2",
          "# of connections: 1",
          "# of connections: 2",
          "# of connections: 1",
          "# of connections: 2",
          "# of connections: 1",
          "# of connections: 1",
          "# of connections: 1",
          "# of connections: 1",
          "# of connections: 2",
          "# of connections: 1",
          "# of connections: 1",
          "# of connections: 1",
          "# of connections: 2",
          "# of connections: 1",
          "# of connections: 1",
          "# of connections: 2",
          "# of connections: 7",
          "# of connections: 2",
          "# of connections: 1",
          "# of connections: 1",
          "# of connections: 1",
          "# of connections: 1",
          "# of connections: 3",
          "# of connections: 1",
          "# of connections: 2",
          "# of connections: 2",
          "# of connections: 1",
          "# of connections: 1",
          "# of connections: 3",
          "# of connections: 1",
          "# of connections: 1",
          "# of connections: 3",
          "# of connections: 2",
          "# of connections: 3",
          "# of connections: 1"
         ],
         "type": "scatter",
         "x": [
          25,
          42,
          50,
          47,
          41,
          62,
          58,
          50,
          31,
          45,
          60,
          53,
          57,
          41,
          46,
          39,
          38,
          32,
          49,
          47,
          71,
          41,
          44,
          32,
          39,
          65,
          59,
          27,
          39,
          52,
          39,
          34,
          73,
          29,
          51,
          58,
          62,
          48,
          49,
          55,
          25,
          62,
          43,
          61,
          59,
          45,
          73,
          64,
          49,
          46,
          46,
          53,
          59,
          71,
          38,
          55,
          56,
          50,
          29,
          32,
          41,
          72,
          55,
          38,
          65,
          45,
          55,
          45,
          43,
          54,
          69,
          30,
          67,
          35,
          44,
          30,
          49,
          50,
          60,
          30,
          58,
          41,
          50,
          41,
          54,
          56,
          43,
          52,
          45,
          37,
          65,
          44,
          50,
          55,
          37,
          55,
          50,
          43,
          34,
          39,
          55
         ],
         "y": [
          25,
          40,
          53,
          47,
          55,
          49,
          37,
          42,
          31,
          52,
          72,
          45,
          29,
          49,
          57,
          55,
          34,
          56,
          58,
          35,
          56,
          37,
          53,
          51,
          43,
          67,
          54,
          46,
          38,
          58,
          41,
          69,
          54,
          59,
          49,
          54,
          51,
          57,
          57,
          36,
          48,
          37,
          32,
          55,
          46,
          48,
          35,
          29,
          43,
          59,
          62,
          66,
          56,
          58,
          27,
          40,
          40,
          67,
          46,
          59,
          41,
          73,
          58,
          41,
          60,
          39,
          44,
          58,
          34,
          37,
          66,
          54,
          40,
          34,
          40,
          54,
          52,
          65,
          55,
          36,
          61,
          50,
          53,
          39,
          42,
          66,
          59,
          43,
          41,
          59,
          48,
          42,
          58,
          54,
          37,
          67,
          30,
          61,
          40,
          42,
          61
         ]
        }
       ],
       "layout": {
        "annotations": [
         {
          "showarrow": false,
          "text": "Python code: <a href='https://plotly.com/ipython-notebooks/network-graphs/'> https://plotly.com/ipython-notebooks/network-graphs/</a>",
          "x": 0.005,
          "xref": "paper",
          "y": -0.002,
          "yref": "paper"
         }
        ],
        "height": 800,
        "hovermode": "closest",
        "margin": {
         "b": 20,
         "l": 5,
         "r": 5,
         "t": 40
        },
        "showlegend": false,
        "template": {
         "data": {
          "bar": [
           {
            "error_x": {
             "color": "#2a3f5f"
            },
            "error_y": {
             "color": "#2a3f5f"
            },
            "marker": {
             "line": {
              "color": "#E5ECF6",
              "width": 0.5
             },
             "pattern": {
              "fillmode": "overlay",
              "size": 10,
              "solidity": 0.2
             }
            },
            "type": "bar"
           }
          ],
          "barpolar": [
           {
            "marker": {
             "line": {
              "color": "#E5ECF6",
              "width": 0.5
             },
             "pattern": {
              "fillmode": "overlay",
              "size": 10,
              "solidity": 0.2
             }
            },
            "type": "barpolar"
           }
          ],
          "carpet": [
           {
            "aaxis": {
             "endlinecolor": "#2a3f5f",
             "gridcolor": "white",
             "linecolor": "white",
             "minorgridcolor": "white",
             "startlinecolor": "#2a3f5f"
            },
            "baxis": {
             "endlinecolor": "#2a3f5f",
             "gridcolor": "white",
             "linecolor": "white",
             "minorgridcolor": "white",
             "startlinecolor": "#2a3f5f"
            },
            "type": "carpet"
           }
          ],
          "choropleth": [
           {
            "colorbar": {
             "outlinewidth": 0,
             "ticks": ""
            },
            "type": "choropleth"
           }
          ],
          "contour": [
           {
            "colorbar": {
             "outlinewidth": 0,
             "ticks": ""
            },
            "colorscale": [
             [
              0,
              "#0d0887"
             ],
             [
              0.1111111111111111,
              "#46039f"
             ],
             [
              0.2222222222222222,
              "#7201a8"
             ],
             [
              0.3333333333333333,
              "#9c179e"
             ],
             [
              0.4444444444444444,
              "#bd3786"
             ],
             [
              0.5555555555555556,
              "#d8576b"
             ],
             [
              0.6666666666666666,
              "#ed7953"
             ],
             [
              0.7777777777777778,
              "#fb9f3a"
             ],
             [
              0.8888888888888888,
              "#fdca26"
             ],
             [
              1,
              "#f0f921"
             ]
            ],
            "type": "contour"
           }
          ],
          "contourcarpet": [
           {
            "colorbar": {
             "outlinewidth": 0,
             "ticks": ""
            },
            "type": "contourcarpet"
           }
          ],
          "heatmap": [
           {
            "colorbar": {
             "outlinewidth": 0,
             "ticks": ""
            },
            "colorscale": [
             [
              0,
              "#0d0887"
             ],
             [
              0.1111111111111111,
              "#46039f"
             ],
             [
              0.2222222222222222,
              "#7201a8"
             ],
             [
              0.3333333333333333,
              "#9c179e"
             ],
             [
              0.4444444444444444,
              "#bd3786"
             ],
             [
              0.5555555555555556,
              "#d8576b"
             ],
             [
              0.6666666666666666,
              "#ed7953"
             ],
             [
              0.7777777777777778,
              "#fb9f3a"
             ],
             [
              0.8888888888888888,
              "#fdca26"
             ],
             [
              1,
              "#f0f921"
             ]
            ],
            "type": "heatmap"
           }
          ],
          "heatmapgl": [
           {
            "colorbar": {
             "outlinewidth": 0,
             "ticks": ""
            },
            "colorscale": [
             [
              0,
              "#0d0887"
             ],
             [
              0.1111111111111111,
              "#46039f"
             ],
             [
              0.2222222222222222,
              "#7201a8"
             ],
             [
              0.3333333333333333,
              "#9c179e"
             ],
             [
              0.4444444444444444,
              "#bd3786"
             ],
             [
              0.5555555555555556,
              "#d8576b"
             ],
             [
              0.6666666666666666,
              "#ed7953"
             ],
             [
              0.7777777777777778,
              "#fb9f3a"
             ],
             [
              0.8888888888888888,
              "#fdca26"
             ],
             [
              1,
              "#f0f921"
             ]
            ],
            "type": "heatmapgl"
           }
          ],
          "histogram": [
           {
            "marker": {
             "pattern": {
              "fillmode": "overlay",
              "size": 10,
              "solidity": 0.2
             }
            },
            "type": "histogram"
           }
          ],
          "histogram2d": [
           {
            "colorbar": {
             "outlinewidth": 0,
             "ticks": ""
            },
            "colorscale": [
             [
              0,
              "#0d0887"
             ],
             [
              0.1111111111111111,
              "#46039f"
             ],
             [
              0.2222222222222222,
              "#7201a8"
             ],
             [
              0.3333333333333333,
              "#9c179e"
             ],
             [
              0.4444444444444444,
              "#bd3786"
             ],
             [
              0.5555555555555556,
              "#d8576b"
             ],
             [
              0.6666666666666666,
              "#ed7953"
             ],
             [
              0.7777777777777778,
              "#fb9f3a"
             ],
             [
              0.8888888888888888,
              "#fdca26"
             ],
             [
              1,
              "#f0f921"
             ]
            ],
            "type": "histogram2d"
           }
          ],
          "histogram2dcontour": [
           {
            "colorbar": {
             "outlinewidth": 0,
             "ticks": ""
            },
            "colorscale": [
             [
              0,
              "#0d0887"
             ],
             [
              0.1111111111111111,
              "#46039f"
             ],
             [
              0.2222222222222222,
              "#7201a8"
             ],
             [
              0.3333333333333333,
              "#9c179e"
             ],
             [
              0.4444444444444444,
              "#bd3786"
             ],
             [
              0.5555555555555556,
              "#d8576b"
             ],
             [
              0.6666666666666666,
              "#ed7953"
             ],
             [
              0.7777777777777778,
              "#fb9f3a"
             ],
             [
              0.8888888888888888,
              "#fdca26"
             ],
             [
              1,
              "#f0f921"
             ]
            ],
            "type": "histogram2dcontour"
           }
          ],
          "mesh3d": [
           {
            "colorbar": {
             "outlinewidth": 0,
             "ticks": ""
            },
            "type": "mesh3d"
           }
          ],
          "parcoords": [
           {
            "line": {
             "colorbar": {
              "outlinewidth": 0,
              "ticks": ""
             }
            },
            "type": "parcoords"
           }
          ],
          "pie": [
           {
            "automargin": true,
            "type": "pie"
           }
          ],
          "scatter": [
           {
            "fillpattern": {
             "fillmode": "overlay",
             "size": 10,
             "solidity": 0.2
            },
            "type": "scatter"
           }
          ],
          "scatter3d": [
           {
            "line": {
             "colorbar": {
              "outlinewidth": 0,
              "ticks": ""
             }
            },
            "marker": {
             "colorbar": {
              "outlinewidth": 0,
              "ticks": ""
             }
            },
            "type": "scatter3d"
           }
          ],
          "scattercarpet": [
           {
            "marker": {
             "colorbar": {
              "outlinewidth": 0,
              "ticks": ""
             }
            },
            "type": "scattercarpet"
           }
          ],
          "scattergeo": [
           {
            "marker": {
             "colorbar": {
              "outlinewidth": 0,
              "ticks": ""
             }
            },
            "type": "scattergeo"
           }
          ],
          "scattergl": [
           {
            "marker": {
             "colorbar": {
              "outlinewidth": 0,
              "ticks": ""
             }
            },
            "type": "scattergl"
           }
          ],
          "scattermapbox": [
           {
            "marker": {
             "colorbar": {
              "outlinewidth": 0,
              "ticks": ""
             }
            },
            "type": "scattermapbox"
           }
          ],
          "scatterpolar": [
           {
            "marker": {
             "colorbar": {
              "outlinewidth": 0,
              "ticks": ""
             }
            },
            "type": "scatterpolar"
           }
          ],
          "scatterpolargl": [
           {
            "marker": {
             "colorbar": {
              "outlinewidth": 0,
              "ticks": ""
             }
            },
            "type": "scatterpolargl"
           }
          ],
          "scatterternary": [
           {
            "marker": {
             "colorbar": {
              "outlinewidth": 0,
              "ticks": ""
             }
            },
            "type": "scatterternary"
           }
          ],
          "surface": [
           {
            "colorbar": {
             "outlinewidth": 0,
             "ticks": ""
            },
            "colorscale": [
             [
              0,
              "#0d0887"
             ],
             [
              0.1111111111111111,
              "#46039f"
             ],
             [
              0.2222222222222222,
              "#7201a8"
             ],
             [
              0.3333333333333333,
              "#9c179e"
             ],
             [
              0.4444444444444444,
              "#bd3786"
             ],
             [
              0.5555555555555556,
              "#d8576b"
             ],
             [
              0.6666666666666666,
              "#ed7953"
             ],
             [
              0.7777777777777778,
              "#fb9f3a"
             ],
             [
              0.8888888888888888,
              "#fdca26"
             ],
             [
              1,
              "#f0f921"
             ]
            ],
            "type": "surface"
           }
          ],
          "table": [
           {
            "cells": {
             "fill": {
              "color": "#EBF0F8"
             },
             "line": {
              "color": "white"
             }
            },
            "header": {
             "fill": {
              "color": "#C8D4E3"
             },
             "line": {
              "color": "white"
             }
            },
            "type": "table"
           }
          ]
         },
         "layout": {
          "annotationdefaults": {
           "arrowcolor": "#2a3f5f",
           "arrowhead": 0,
           "arrowwidth": 1
          },
          "autotypenumbers": "strict",
          "coloraxis": {
           "colorbar": {
            "outlinewidth": 0,
            "ticks": ""
           }
          },
          "colorscale": {
           "diverging": [
            [
             0,
             "#8e0152"
            ],
            [
             0.1,
             "#c51b7d"
            ],
            [
             0.2,
             "#de77ae"
            ],
            [
             0.3,
             "#f1b6da"
            ],
            [
             0.4,
             "#fde0ef"
            ],
            [
             0.5,
             "#f7f7f7"
            ],
            [
             0.6,
             "#e6f5d0"
            ],
            [
             0.7,
             "#b8e186"
            ],
            [
             0.8,
             "#7fbc41"
            ],
            [
             0.9,
             "#4d9221"
            ],
            [
             1,
             "#276419"
            ]
           ],
           "sequential": [
            [
             0,
             "#0d0887"
            ],
            [
             0.1111111111111111,
             "#46039f"
            ],
            [
             0.2222222222222222,
             "#7201a8"
            ],
            [
             0.3333333333333333,
             "#9c179e"
            ],
            [
             0.4444444444444444,
             "#bd3786"
            ],
            [
             0.5555555555555556,
             "#d8576b"
            ],
            [
             0.6666666666666666,
             "#ed7953"
            ],
            [
             0.7777777777777778,
             "#fb9f3a"
            ],
            [
             0.8888888888888888,
             "#fdca26"
            ],
            [
             1,
             "#f0f921"
            ]
           ],
           "sequentialminus": [
            [
             0,
             "#0d0887"
            ],
            [
             0.1111111111111111,
             "#46039f"
            ],
            [
             0.2222222222222222,
             "#7201a8"
            ],
            [
             0.3333333333333333,
             "#9c179e"
            ],
            [
             0.4444444444444444,
             "#bd3786"
            ],
            [
             0.5555555555555556,
             "#d8576b"
            ],
            [
             0.6666666666666666,
             "#ed7953"
            ],
            [
             0.7777777777777778,
             "#fb9f3a"
            ],
            [
             0.8888888888888888,
             "#fdca26"
            ],
            [
             1,
             "#f0f921"
            ]
           ]
          },
          "colorway": [
           "#636efa",
           "#EF553B",
           "#00cc96",
           "#ab63fa",
           "#FFA15A",
           "#19d3f3",
           "#FF6692",
           "#B6E880",
           "#FF97FF",
           "#FECB52"
          ],
          "font": {
           "color": "#2a3f5f"
          },
          "geo": {
           "bgcolor": "white",
           "lakecolor": "white",
           "landcolor": "#E5ECF6",
           "showlakes": true,
           "showland": true,
           "subunitcolor": "white"
          },
          "hoverlabel": {
           "align": "left"
          },
          "hovermode": "closest",
          "mapbox": {
           "style": "light"
          },
          "paper_bgcolor": "white",
          "plot_bgcolor": "#E5ECF6",
          "polar": {
           "angularaxis": {
            "gridcolor": "white",
            "linecolor": "white",
            "ticks": ""
           },
           "bgcolor": "#E5ECF6",
           "radialaxis": {
            "gridcolor": "white",
            "linecolor": "white",
            "ticks": ""
           }
          },
          "scene": {
           "xaxis": {
            "backgroundcolor": "#E5ECF6",
            "gridcolor": "white",
            "gridwidth": 2,
            "linecolor": "white",
            "showbackground": true,
            "ticks": "",
            "zerolinecolor": "white"
           },
           "yaxis": {
            "backgroundcolor": "#E5ECF6",
            "gridcolor": "white",
            "gridwidth": 2,
            "linecolor": "white",
            "showbackground": true,
            "ticks": "",
            "zerolinecolor": "white"
           },
           "zaxis": {
            "backgroundcolor": "#E5ECF6",
            "gridcolor": "white",
            "gridwidth": 2,
            "linecolor": "white",
            "showbackground": true,
            "ticks": "",
            "zerolinecolor": "white"
           }
          },
          "shapedefaults": {
           "line": {
            "color": "#2a3f5f"
           }
          },
          "ternary": {
           "aaxis": {
            "gridcolor": "white",
            "linecolor": "white",
            "ticks": ""
           },
           "baxis": {
            "gridcolor": "white",
            "linecolor": "white",
            "ticks": ""
           },
           "bgcolor": "#E5ECF6",
           "caxis": {
            "gridcolor": "white",
            "linecolor": "white",
            "ticks": ""
           }
          },
          "title": {
           "x": 0.05
          },
          "xaxis": {
           "automargin": true,
           "gridcolor": "white",
           "linecolor": "white",
           "ticks": "",
           "title": {
            "standoff": 15
           },
           "zerolinecolor": "white",
           "zerolinewidth": 2
          },
          "yaxis": {
           "automargin": true,
           "gridcolor": "white",
           "linecolor": "white",
           "ticks": "",
           "title": {
            "standoff": 15
           },
           "zerolinecolor": "white",
           "zerolinewidth": 2
          }
         }
        },
        "title": {
         "font": {
          "size": 16
         },
         "text": "<br>Ng-Neighborhoods as a graph"
        },
        "xaxis": {
         "showgrid": false,
         "showticklabels": false,
         "zeroline": false
        },
        "yaxis": {
         "showgrid": false,
         "showticklabels": false,
         "zeroline": false
        }
       }
      }
     },
     "metadata": {},
     "output_type": "display_data"
    }
   ],
   "source": [
    "node_adjacencies = []\n",
    "node_text = []\n",
    "for node, adjacencies in enumerate(G.adjacency()):\n",
    "    node_adjacencies.append(len(adjacencies[1]))\n",
    "    node_text.append('# of connections: '+str(len(adjacencies[1])))\n",
    "\n",
    "node_trace.marker.color = node_adjacencies\n",
    "node_trace.text = node_text\n",
    "\n",
    "fig = go.Figure(data=[edge_trace, node_trace],\n",
    "             layout=go.Layout(\n",
    "                title='<br>Ng-Neighborhoods as a graph',\n",
    "                titlefont_size=16,\n",
    "                showlegend=False,\n",
    "                hovermode='closest',\n",
    "                margin=dict(b=20,l=5,r=5,t=40),\n",
    "                annotations=[ dict(\n",
    "                    text=\"Python code: <a href='https://plotly.com/ipython-notebooks/network-graphs/'> https://plotly.com/ipython-notebooks/network-graphs/</a>\",\n",
    "                    showarrow=False,\n",
    "                    xref=\"paper\", yref=\"paper\",\n",
    "                    x=0.005, y=-0.002 ) ],\n",
    "                xaxis=dict(showgrid=False, zeroline=False, showticklabels=False),\n",
    "                yaxis=dict(showgrid=False, zeroline=False, showticklabels=False),\n",
    "                height=800)\n",
    "                \n",
    "                )\n",
    "fig.show()"
   ]
  },
  {
   "cell_type": "code",
   "execution_count": 132,
   "metadata": {},
   "outputs": [
    {
     "name": "stdout",
     "output_type": "stream",
     "text": [
      "{0: [], 60: [50, 46, None, 46, 46, None, 34, 29, None, 45, 50, None, 46, 45, None, 56, 45, None, 45, 46, None, 43, 41, None, 41, 45, None, 55, 46, None], 120: [], 180: [61, 50, None, 53, 50, None, 55, 54, None, 54, 55, None, 50, 55, None, 55, 50, None], 240: [39, 38, None, 25, 29, None, 29, 25, None, 38, 39, None], 300: [31, 38, None, 59, 59, None, 48, 41, None, 59, 59, None, 55, 48, None], 360: [], 420: [49, 46, None, 71, 60, None, 62, 60, None, 46, 49, None, 50, 49, None, 30, 41, None, 60, 62, None, 43, 49, None], 480: [44, 43, None, 41, 34, None, 34, 41, None], 540: [62, 59, None, 50, 53, None, 53, 50, None, 52, 59, None, 45, 50, None], 600: [43, 35, None, 71, 65, None, 65, 71, None, 35, 43, None], 660: [47, 49, None, 49, 47, None], 720: [32, 45, None, 55, 50, None, 49, 55, None, 50, 55, None], 780: [56, 65, None], 840: [58, 65, None, 65, 58, None], 900: [38, 37, None, 32, 41, None, 30, 37, None, 41, 39, None, 52, 44, None, 37, 39, None], 960: [], 1020: [], 1080: [], 1140: [], 1200: []}\n",
      "{0: [], 60: [53, 57, None, 57, 59, None, 69, 59, None, 48, 53, None, 59, 58, None, 40, 48, None, 58, 57, None, 34, 39, None, 39, 48, None, 61, 59, None], 120: [], 180: [55, 53, None, 66, 53, None, 40, 37, None, 37, 40, None, 53, 54, None, 54, 53, None], 240: [41, 41, None, 48, 46, None, 46, 48, None, 41, 41, None], 300: [31, 34, None, 54, 46, None, 57, 55, None, 46, 54, None, 67, 57, None], 360: [], 420: [58, 62, None, 56, 55, None, 51, 55, None, 62, 58, None, 67, 58, None, 54, 49, None, 55, 51, None, 59, 58, None], 480: [53, 61, None, 41, 40, None, 40, 41, None], 540: [49, 56, None, 42, 45, None, 45, 42, None, 58, 56, None, 39, 42, None], 600: [32, 34, None, 58, 60, None, 60, 58, None, 34, 32, None], 660: [47, 57, None, 57, 47, None], 720: [51, 41, None, 58, 65, None, 52, 58, None, 65, 58, None], 780: [66, 48, None], 840: [37, 48, None, 48, 37, None], 900: [27, 37, None, 59, 50, None, 36, 37, None, 50, 42, None, 43, 40, None, 37, 42, None], 960: [], 1020: [], 1080: [], 1140: [], 1200: []}\n"
     ]
    }
   ],
   "source": [
    "\n",
    "G = nx.Graph()\n",
    "G.add_nodes_from([i for i in range(101)])\n",
    "# Create figure\n",
    "fig = go.Figure()\n",
    "\n",
    "edgex_dict = {}\n",
    "edgey_dict = {}\n",
    "\n",
    "for t in t_dict:\n",
    "    edge_x = []\n",
    "    edge_y = []\n",
    "    for i in range(101):\n",
    "        if i in t_dict[t]:\n",
    "            for j in range(101):\n",
    "                if j in t_dict[t]:\n",
    "                    if y_edges[0][i][j] > 0.5:\n",
    "                        x0, y0 = pos[i]\n",
    "                        x1, y1 = pos[j]\n",
    "                        edge_x.append(x0)\n",
    "                        edge_x.append(x1)\n",
    "                        edge_x.append(None)\n",
    "                        edge_y.append(y0)\n",
    "                        edge_y.append(y1)\n",
    "                        edge_y.append(None)\n",
    "                        G.add_edge(i,j)\n",
    "    edgex_dict[t] = edge_x\n",
    "    edgey_dict[t] = edge_y\n",
    "\n",
    "\n",
    "\n",
    "enum_dict = {}\n",
    "for _, b in enumerate(G.adjacency()):\n",
    "    enum_dict[b[0]] = list(b[1].keys())\n",
    "\n",
    "nodex_dict = {}\n",
    "nodey_dict = {}\n",
    "node_adj_dict = {}\n",
    "node_text_dict = {}\n",
    "for t in t_dict:\n",
    "    node_x = []\n",
    "    node_y = []\n",
    "    node_adjacencies = []\n",
    "    node_text = []\n",
    "    for node in G.nodes():\n",
    "        if node in t_dict[t]:\n",
    "            x, y = pos[node]\n",
    "            node_x.append(x)\n",
    "            node_y.append(y)\n",
    "            node_adjacencies.append(len(enum_dict[node]))\n",
    "            ng_set = []\n",
    "            for j in range(101):\n",
    "                if y_edges[0][node][j] > 0.5:\n",
    "                    ng_set.append(j)\n",
    "            node_text.append('Node '+str(node)+', # of connections: '+str(len(enum_dict[node])) + ', NG-Set='+str(ng_set))\n",
    "    nodex_dict[t] = node_x\n",
    "    nodey_dict[t] = node_y\n",
    "    node_adj_dict[t] = node_adjacencies\n",
    "    node_text_dict[t] = node_text\n",
    "\n",
    "# node_adjacencies = []\n",
    "# node_text = []\n",
    "# for node, adjacencies in enumerate(G.adjacency()):\n",
    "#     node_adjacencies.append(len(adjacencies[1]))\n",
    "#     node_text.append('# of connections: '+str(len(adjacencies[1])))\n",
    "\n",
    "# node_trace.marker.color = node_adjacencies\n",
    "# node_trace.text = node_text\n",
    "\n",
    "for window in t_dict:\n",
    "    fig.add_trace(\n",
    "    \tgo.Scatter(\n",
    "            visible=False,\n",
    "            name=\"v = \" + str(window),\n",
    "            x=nodex_dict[window], y=nodey_dict[window],\n",
    "            mode='markers',\n",
    "            hoverinfo='text',\n",
    "            text = node_text_dict[window],\n",
    "            marker=dict(\n",
    "                showscale=True,\n",
    "                # colorscale options\n",
    "                #'Greys' | 'YlGnBu' | 'Greens' | 'YlOrRd' | 'Bluered' | 'RdBu' |\n",
    "                #'Reds' | 'Blues' | 'Picnic' | 'Rainbow' | 'Portland' | 'Jet' |\n",
    "                #'Hot' | 'Blackbody' | 'Earth' | 'Electric' | 'Viridis' |\n",
    "                colorscale='YlGnBu',\n",
    "                reversescale=True,\n",
    "                color=node_adj_dict[window],\n",
    "                size=10,\n",
    "                colorbar=dict(\n",
    "                    thickness=15,\n",
    "                    title='Node Connections',\n",
    "                    xanchor='left',\n",
    "                    titleside='right'\n",
    "                ),\n",
    "                line_width=2)\n",
    "            )\n",
    "    )\n",
    "\n",
    "for window in t_dict:\n",
    "    fig.add_trace(\n",
    "        go.Scatter(\n",
    "            visible=False,\n",
    "            x=edgex_dict[window], y=edgey_dict[window],\n",
    "            # line=dict(width=0.5, color='#888'),\n",
    "            hoverinfo='none',\n",
    "            # mode='lines',\n",
    "            name=\"e = \" + str(window),\n",
    "            marker=dict(size=9,symbol= \"arrow-bar-up\", angleref=\"previous\", color='#888')\n",
    "        )\n",
    "    )\n",
    "\n",
    "fig.data[2].visible = True\n",
    "fig.data[len(t_dict) + 2].visible = True\n",
    "\n",
    "\n",
    "\n",
    "print(edgex_dict)\n",
    "print(edgey_dict)"
   ]
  },
  {
   "cell_type": "code",
   "execution_count": 133,
   "metadata": {},
   "outputs": [
    {
     "data": {
      "application/vnd.plotly.v1+json": {
       "config": {
        "plotlyServerURL": "https://plot.ly"
       },
       "data": [
        {
         "hoverinfo": "text",
         "marker": {
          "color": [
           0
          ],
          "colorbar": {
           "thickness": 15,
           "title": {
            "side": "right",
            "text": "Node Connections"
           },
           "xanchor": "left"
          },
          "colorscale": [
           [
            0,
            "rgb(255,255,217)"
           ],
           [
            0.125,
            "rgb(237,248,177)"
           ],
           [
            0.25,
            "rgb(199,233,180)"
           ],
           [
            0.375,
            "rgb(127,205,187)"
           ],
           [
            0.5,
            "rgb(65,182,196)"
           ],
           [
            0.625,
            "rgb(29,145,192)"
           ],
           [
            0.75,
            "rgb(34,94,168)"
           ],
           [
            0.875,
            "rgb(37,52,148)"
           ],
           [
            1,
            "rgb(8,29,88)"
           ]
          ],
          "line": {
           "width": 2
          },
          "reversescale": true,
          "showscale": true,
          "size": 10
         },
         "mode": "markers",
         "name": "v = 0",
         "text": [
          "Node 0, # of connections: 0, NG-Set=[]"
         ],
         "type": "scatter",
         "visible": false,
         "x": [
          25
         ],
         "y": [
          25
         ]
        },
        {
         "hoverinfo": "text",
         "marker": {
          "color": [
           0,
           2,
           3,
           1,
           1,
           3,
           3,
           1,
           0,
           2,
           1,
           2,
           1
          ],
          "colorbar": {
           "thickness": 15,
           "title": {
            "side": "right",
            "text": "Node Connections"
           },
           "xanchor": "left"
          },
          "colorscale": [
           [
            0,
            "rgb(255,255,217)"
           ],
           [
            0.125,
            "rgb(237,248,177)"
           ],
           [
            0.25,
            "rgb(199,233,180)"
           ],
           [
            0.375,
            "rgb(127,205,187)"
           ],
           [
            0.5,
            "rgb(65,182,196)"
           ],
           [
            0.625,
            "rgb(29,145,192)"
           ],
           [
            0.75,
            "rgb(34,94,168)"
           ],
           [
            0.875,
            "rgb(37,52,148)"
           ],
           [
            1,
            "rgb(8,29,88)"
           ]
          ],
          "line": {
           "width": 2
          },
          "reversescale": true,
          "showscale": true,
          "size": 10
         },
         "mode": "markers",
         "name": "v = 60",
         "text": [
          "Node 0, # of connections: 0, NG-Set=[]",
          "Node 2, # of connections: 2, NG-Set=[14]",
          "Node 14, # of connections: 3, NG-Set=[49]",
          "Node 31, # of connections: 1, NG-Set=[33]",
          "Node 33, # of connections: 1, NG-Set=[17]",
          "Node 45, # of connections: 3, NG-Set=[2]",
          "Node 49, # of connections: 3, NG-Set=[67]",
          "Node 56, # of connections: 1, NG-Set=[45]",
          "Node 61, # of connections: 0, NG-Set=[]",
          "Node 67, # of connections: 2, NG-Set=[14]",
          "Node 68, # of connections: 1, NG-Set=[83]",
          "Node 83, # of connections: 2, NG-Set=[45]",
          "Node 100, # of connections: 1, NG-Set=[49]"
         ],
         "type": "scatter",
         "visible": false,
         "x": [
          25,
          50,
          46,
          34,
          29,
          45,
          46,
          56,
          72,
          45,
          43,
          41,
          55
         ],
         "y": [
          25,
          53,
          57,
          69,
          59,
          48,
          59,
          40,
          73,
          58,
          34,
          39,
          61
         ]
        },
        {
         "hoverinfo": "text",
         "marker": {
          "color": [
           0,
           0,
           0,
           0,
           0,
           0
          ],
          "colorbar": {
           "thickness": 15,
           "title": {
            "side": "right",
            "text": "Node Connections"
           },
           "xanchor": "left"
          },
          "colorscale": [
           [
            0,
            "rgb(255,255,217)"
           ],
           [
            0.125,
            "rgb(237,248,177)"
           ],
           [
            0.25,
            "rgb(199,233,180)"
           ],
           [
            0.375,
            "rgb(127,205,187)"
           ],
           [
            0.5,
            "rgb(65,182,196)"
           ],
           [
            0.625,
            "rgb(29,145,192)"
           ],
           [
            0.75,
            "rgb(34,94,168)"
           ],
           [
            0.875,
            "rgb(37,52,148)"
           ],
           [
            1,
            "rgb(8,29,88)"
           ]
          ],
          "line": {
           "width": 2
          },
          "reversescale": true,
          "showscale": true,
          "size": 10
         },
         "mode": "markers",
         "name": "v = 120",
         "text": [
          "Node 0, # of connections: 0, NG-Set=[]",
          "Node 17, # of connections: 0, NG-Set=[33]",
          "Node 28, # of connections: 0, NG-Set=[24]",
          "Node 34, # of connections: 0, NG-Set=[14]",
          "Node 72, # of connections: 0, NG-Set=[55]",
          "Node 96, # of connections: 0, NG-Set=[69]"
         ],
         "type": "scatter",
         "visible": true,
         "x": [
          25,
          32,
          39,
          51,
          67,
          50
         ],
         "y": [
          25,
          56,
          38,
          49,
          40,
          30
         ]
        },
        {
         "hoverinfo": "text",
         "marker": {
          "color": [
           0,
           0,
           1,
           1,
           1,
           1,
           1,
           3,
           1
          ],
          "colorbar": {
           "thickness": 15,
           "title": {
            "side": "right",
            "text": "Node Connections"
           },
           "xanchor": "left"
          },
          "colorscale": [
           [
            0,
            "rgb(255,255,217)"
           ],
           [
            0.125,
            "rgb(237,248,177)"
           ],
           [
            0.25,
            "rgb(199,233,180)"
           ],
           [
            0.375,
            "rgb(127,205,187)"
           ],
           [
            0.5,
            "rgb(65,182,196)"
           ],
           [
            0.625,
            "rgb(29,145,192)"
           ],
           [
            0.75,
            "rgb(34,94,168)"
           ],
           [
            0.875,
            "rgb(37,52,148)"
           ],
           [
            1,
            "rgb(8,29,88)"
           ]
          ],
          "line": {
           "width": 2
          },
          "reversescale": true,
          "showscale": true,
          "size": 10
         },
         "mode": "markers",
         "name": "v = 180",
         "text": [
          "Node 0, # of connections: 0, NG-Set=[]",
          "Node 24, # of connections: 0, NG-Set=[28]",
          "Node 40, # of connections: 1, NG-Set=[58]",
          "Node 43, # of connections: 1, NG-Set=[82]",
          "Node 51, # of connections: 1, NG-Set=[82]",
          "Node 55, # of connections: 1, NG-Set=[69]",
          "Node 69, # of connections: 1, NG-Set=[55]",
          "Node 82, # of connections: 3, NG-Set=[93]",
          "Node 93, # of connections: 1, NG-Set=[82]"
         ],
         "type": "scatter",
         "visible": false,
         "x": [
          25,
          39,
          25,
          61,
          53,
          55,
          54,
          50,
          55
         ],
         "y": [
          25,
          43,
          48,
          55,
          66,
          40,
          37,
          53,
          54
         ]
        },
        {
         "hoverinfo": "text",
         "marker": {
          "color": [
           0,
           0,
           0,
           1,
           0,
           1,
           0,
           1,
           1,
           0,
           0
          ],
          "colorbar": {
           "thickness": 15,
           "title": {
            "side": "right",
            "text": "Node Connections"
           },
           "xanchor": "left"
          },
          "colorscale": [
           [
            0,
            "rgb(255,255,217)"
           ],
           [
            0.125,
            "rgb(237,248,177)"
           ],
           [
            0.25,
            "rgb(199,233,180)"
           ],
           [
            0.375,
            "rgb(127,205,187)"
           ],
           [
            0.5,
            "rgb(65,182,196)"
           ],
           [
            0.625,
            "rgb(29,145,192)"
           ],
           [
            0.75,
            "rgb(34,94,168)"
           ],
           [
            0.875,
            "rgb(37,52,148)"
           ],
           [
            1,
            "rgb(8,29,88)"
           ]
          ],
          "line": {
           "width": 2
          },
          "reversescale": true,
          "showscale": true,
          "size": 10
         },
         "mode": "markers",
         "name": "v = 240",
         "text": [
          "Node 0, # of connections: 0, NG-Set=[]",
          "Node 9, # of connections: 0, NG-Set=[82]",
          "Node 10, # of connections: 0, NG-Set=[]",
          "Node 30, # of connections: 1, NG-Set=[63]",
          "Node 32, # of connections: 0, NG-Set=[82]",
          "Node 40, # of connections: 1, NG-Set=[58]",
          "Node 48, # of connections: 0, NG-Set=[82]",
          "Node 58, # of connections: 1, NG-Set=[40]",
          "Node 63, # of connections: 1, NG-Set=[30]",
          "Node 70, # of connections: 0, NG-Set=[82]",
          "Node 89, # of connections: 0, NG-Set=[4]"
         ],
         "type": "scatter",
         "visible": false,
         "x": [
          25,
          45,
          60,
          39,
          73,
          25,
          49,
          29,
          38,
          69,
          37
         ],
         "y": [
          25,
          52,
          72,
          41,
          54,
          48,
          43,
          46,
          41,
          66,
          59
         ]
        },
        {
         "hoverinfo": "text",
         "marker": {
          "color": [
           0,
           1,
           1,
           1,
           1,
           2,
           0,
           1,
           1
          ],
          "colorbar": {
           "thickness": 15,
           "title": {
            "side": "right",
            "text": "Node Connections"
           },
           "xanchor": "left"
          },
          "colorscale": [
           [
            0,
            "rgb(255,255,217)"
           ],
           [
            0.125,
            "rgb(237,248,177)"
           ],
           [
            0.25,
            "rgb(199,233,180)"
           ],
           [
            0.375,
            "rgb(127,205,187)"
           ],
           [
            0.5,
            "rgb(65,182,196)"
           ],
           [
            0.625,
            "rgb(29,145,192)"
           ],
           [
            0.75,
            "rgb(34,94,168)"
           ],
           [
            0.875,
            "rgb(37,52,148)"
           ],
           [
            1,
            "rgb(8,29,88)"
           ]
          ],
          "line": {
           "width": 2
          },
          "reversescale": true,
          "showscale": true,
          "size": 10
         },
         "mode": "markers",
         "name": "v = 300",
         "text": [
          "Node 0, # of connections: 0, NG-Set=[]",
          "Node 4, # of connections: 1, NG-Set=[89]",
          "Node 8, # of connections: 1, NG-Set=[16]",
          "Node 16, # of connections: 1, NG-Set=[30]",
          "Node 26, # of connections: 1, NG-Set=[44]",
          "Node 37, # of connections: 2, NG-Set=[4]",
          "Node 39, # of connections: 0, NG-Set=[19]",
          "Node 44, # of connections: 1, NG-Set=[26]",
          "Node 95, # of connections: 1, NG-Set=[37]"
         ],
         "type": "scatter",
         "visible": false,
         "x": [
          25,
          41,
          31,
          38,
          59,
          48,
          55,
          59,
          55
         ],
         "y": [
          25,
          55,
          31,
          34,
          54,
          57,
          36,
          46,
          67
         ]
        },
        {
         "hoverinfo": "text",
         "marker": {
          "color": [
           0,
           0
          ],
          "colorbar": {
           "thickness": 15,
           "title": {
            "side": "right",
            "text": "Node Connections"
           },
           "xanchor": "left"
          },
          "colorscale": [
           [
            0,
            "rgb(255,255,217)"
           ],
           [
            0.125,
            "rgb(237,248,177)"
           ],
           [
            0.25,
            "rgb(199,233,180)"
           ],
           [
            0.375,
            "rgb(127,205,187)"
           ],
           [
            0.5,
            "rgb(65,182,196)"
           ],
           [
            0.625,
            "rgb(29,145,192)"
           ],
           [
            0.75,
            "rgb(34,94,168)"
           ],
           [
            0.875,
            "rgb(37,52,148)"
           ],
           [
            1,
            "rgb(8,29,88)"
           ]
          ],
          "line": {
           "width": 2
          },
          "reversescale": true,
          "showscale": true,
          "size": 10
         },
         "mode": "markers",
         "name": "v = 360",
         "text": [
          "Node 0, # of connections: 0, NG-Set=[]",
          "Node 19, # of connections: 0, NG-Set=[39]"
         ],
         "type": "scatter",
         "visible": false,
         "x": [
          25,
          47
         ],
         "y": [
          25,
          35
         ]
        },
        {
         "hoverinfo": "text",
         "marker": {
          "color": [
           0,
           1,
           3,
           1,
           0,
           1,
           0,
           1,
           1,
           1,
           2,
           1
          ],
          "colorbar": {
           "thickness": 15,
           "title": {
            "side": "right",
            "text": "Node Connections"
           },
           "xanchor": "left"
          },
          "colorscale": [
           [
            0,
            "rgb(255,255,217)"
           ],
           [
            0.125,
            "rgb(237,248,177)"
           ],
           [
            0.25,
            "rgb(199,233,180)"
           ],
           [
            0.375,
            "rgb(127,205,187)"
           ],
           [
            0.5,
            "rgb(65,182,196)"
           ],
           [
            0.625,
            "rgb(29,145,192)"
           ],
           [
            0.75,
            "rgb(34,94,168)"
           ],
           [
            0.875,
            "rgb(37,52,148)"
           ],
           [
            1,
            "rgb(8,29,88)"
           ]
          ],
          "line": {
           "width": 2
          },
          "reversescale": true,
          "showscale": true,
          "size": 10
         },
         "mode": "markers",
         "name": "v = 420",
         "text": [
          "Node 0, # of connections: 0, NG-Set=[]",
          "Node 13, # of connections: 1, NG-Set=[60]",
          "Node 18, # of connections: 3, NG-Set=[50]",
          "Node 20, # of connections: 1, NG-Set=[78]",
          "Node 27, # of connections: 0, NG-Set=[98]",
          "Node 36, # of connections: 1, NG-Set=[78]",
          "Node 47, # of connections: 0, NG-Set=[12]",
          "Node 50, # of connections: 1, NG-Set=[18]",
          "Node 57, # of connections: 1, NG-Set=[18]",
          "Node 75, # of connections: 1, NG-Set=[13]",
          "Node 78, # of connections: 2, NG-Set=[36]",
          "Node 86, # of connections: 1, NG-Set=[18]"
         ],
         "type": "scatter",
         "visible": false,
         "x": [
          25,
          41,
          49,
          71,
          27,
          62,
          64,
          46,
          50,
          30,
          60,
          43
         ],
         "y": [
          25,
          49,
          58,
          56,
          46,
          51,
          29,
          62,
          67,
          54,
          55,
          59
         ]
        },
        {
         "hoverinfo": "text",
         "marker": {
          "color": [
           0,
           0,
           1,
           0,
           1,
           0,
           1,
           1
          ],
          "colorbar": {
           "thickness": 15,
           "title": {
            "side": "right",
            "text": "Node Connections"
           },
           "xanchor": "left"
          },
          "colorscale": [
           [
            0,
            "rgb(255,255,217)"
           ],
           [
            0.125,
            "rgb(237,248,177)"
           ],
           [
            0.25,
            "rgb(199,233,180)"
           ],
           [
            0.375,
            "rgb(127,205,187)"
           ],
           [
            0.5,
            "rgb(65,182,196)"
           ],
           [
            0.625,
            "rgb(29,145,192)"
           ],
           [
            0.75,
            "rgb(34,94,168)"
           ],
           [
            0.875,
            "rgb(37,52,148)"
           ],
           [
            1,
            "rgb(8,29,88)"
           ]
          ],
          "line": {
           "width": 2
          },
          "reversescale": true,
          "showscale": true,
          "size": 10
         },
         "mode": "markers",
         "name": "v = 480",
         "text": [
          "Node 0, # of connections: 0, NG-Set=[]",
          "Node 12, # of connections: 0, NG-Set=[47]",
          "Node 22, # of connections: 1, NG-Set=[97]",
          "Node 41, # of connections: 0, NG-Set=[47]",
          "Node 60, # of connections: 1, NG-Set=[98]",
          "Node 66, # of connections: 0, NG-Set=[7]",
          "Node 97, # of connections: 1, NG-Set=[92]",
          "Node 98, # of connections: 1, NG-Set=[60]"
         ],
         "type": "scatter",
         "visible": false,
         "x": [
          25,
          57,
          44,
          62,
          41,
          55,
          43,
          34
         ],
         "y": [
          25,
          29,
          53,
          37,
          41,
          44,
          61,
          40
         ]
        },
        {
         "hoverinfo": "text",
         "marker": {
          "color": [
           0,
           1,
           2,
           1,
           0,
           1,
           0,
           2,
           1,
           0
          ],
          "colorbar": {
           "thickness": 15,
           "title": {
            "side": "right",
            "text": "Node Connections"
           },
           "xanchor": "left"
          },
          "colorscale": [
           [
            0,
            "rgb(255,255,217)"
           ],
           [
            0.125,
            "rgb(237,248,177)"
           ],
           [
            0.25,
            "rgb(199,233,180)"
           ],
           [
            0.375,
            "rgb(127,205,187)"
           ],
           [
            0.5,
            "rgb(65,182,196)"
           ],
           [
            0.625,
            "rgb(29,145,192)"
           ],
           [
            0.75,
            "rgb(34,94,168)"
           ],
           [
            0.875,
            "rgb(37,52,148)"
           ],
           [
            1,
            "rgb(8,29,88)"
           ]
          ],
          "line": {
           "width": 2
          },
          "reversescale": true,
          "showscale": true,
          "size": 10
         },
         "mode": "markers",
         "name": "v = 540",
         "text": [
          "Node 0, # of connections: 0, NG-Set=[]",
          "Node 5, # of connections: 1, NG-Set=[52]",
          "Node 7, # of connections: 2, NG-Set=[11]",
          "Node 11, # of connections: 1, NG-Set=[7]",
          "Node 15, # of connections: 0, NG-Set=[97]",
          "Node 29, # of connections: 1, NG-Set=[52]",
          "Node 46, # of connections: 0, NG-Set=[]",
          "Node 52, # of connections: 2, NG-Set=[80]",
          "Node 65, # of connections: 1, NG-Set=[7, 42]",
          "Node 92, # of connections: 0, NG-Set=[97]"
         ],
         "type": "scatter",
         "visible": false,
         "x": [
          25,
          62,
          50,
          53,
          39,
          52,
          73,
          59,
          45,
          50
         ],
         "y": [
          25,
          49,
          42,
          45,
          55,
          58,
          35,
          56,
          39,
          58
         ]
        },
        {
         "hoverinfo": "text",
         "marker": {
          "color": [
           0,
           1,
           1,
           1,
           0,
           1,
           0
          ],
          "colorbar": {
           "thickness": 15,
           "title": {
            "side": "right",
            "text": "Node Connections"
           },
           "xanchor": "left"
          },
          "colorscale": [
           [
            0,
            "rgb(255,255,217)"
           ],
           [
            0.125,
            "rgb(237,248,177)"
           ],
           [
            0.25,
            "rgb(199,233,180)"
           ],
           [
            0.375,
            "rgb(127,205,187)"
           ],
           [
            0.5,
            "rgb(65,182,196)"
           ],
           [
            0.625,
            "rgb(29,145,192)"
           ],
           [
            0.75,
            "rgb(34,94,168)"
           ],
           [
            0.875,
            "rgb(37,52,148)"
           ],
           [
            1,
            "rgb(8,29,88)"
           ]
          ],
          "line": {
           "width": 2
          },
          "reversescale": true,
          "showscale": true,
          "size": 10
         },
         "mode": "markers",
         "name": "v = 600",
         "text": [
          "Node 0, # of connections: 0, NG-Set=[]",
          "Node 42, # of connections: 1, NG-Set=[73]",
          "Node 53, # of connections: 1, NG-Set=[64]",
          "Node 64, # of connections: 1, NG-Set=[53]",
          "Node 71, # of connections: 0, NG-Set=[3]",
          "Node 73, # of connections: 1, NG-Set=[42]",
          "Node 80, # of connections: 0, NG-Set=[52]"
         ],
         "type": "scatter",
         "visible": false,
         "x": [
          25,
          43,
          71,
          65,
          30,
          35,
          58
         ],
         "y": [
          25,
          32,
          58,
          60,
          54,
          34,
          61
         ]
        },
        {
         "hoverinfo": "text",
         "marker": {
          "color": [
           0,
           1,
           0,
           0,
           1
          ],
          "colorbar": {
           "thickness": 15,
           "title": {
            "side": "right",
            "text": "Node Connections"
           },
           "xanchor": "left"
          },
          "colorscale": [
           [
            0,
            "rgb(255,255,217)"
           ],
           [
            0.125,
            "rgb(237,248,177)"
           ],
           [
            0.25,
            "rgb(199,233,180)"
           ],
           [
            0.375,
            "rgb(127,205,187)"
           ],
           [
            0.5,
            "rgb(65,182,196)"
           ],
           [
            0.625,
            "rgb(29,145,192)"
           ],
           [
            0.75,
            "rgb(34,94,168)"
           ],
           [
            0.875,
            "rgb(37,52,148)"
           ],
           [
            1,
            "rgb(8,29,88)"
           ]
          ],
          "line": {
           "width": 2
          },
          "reversescale": true,
          "showscale": true,
          "size": 10
         },
         "mode": "markers",
         "name": "v = 660",
         "text": [
          "Node 0, # of connections: 0, NG-Set=[]",
          "Node 3, # of connections: 1, NG-Set=[38]",
          "Node 25, # of connections: 0, NG-Set=[64]",
          "Node 35, # of connections: 0, NG-Set=[64]",
          "Node 38, # of connections: 1, NG-Set=[3]"
         ],
         "type": "scatter",
         "visible": false,
         "x": [
          25,
          47,
          65,
          58,
          49
         ],
         "y": [
          25,
          47,
          67,
          54,
          57
         ]
        },
        {
         "hoverinfo": "text",
         "marker": {
          "color": [
           0,
           1,
           2,
           1,
           1,
           1
          ],
          "colorbar": {
           "thickness": 15,
           "title": {
            "side": "right",
            "text": "Node Connections"
           },
           "xanchor": "left"
          },
          "colorscale": [
           [
            0,
            "rgb(255,255,217)"
           ],
           [
            0.125,
            "rgb(237,248,177)"
           ],
           [
            0.25,
            "rgb(199,233,180)"
           ],
           [
            0.375,
            "rgb(127,205,187)"
           ],
           [
            0.5,
            "rgb(65,182,196)"
           ],
           [
            0.625,
            "rgb(29,145,192)"
           ],
           [
            0.75,
            "rgb(34,94,168)"
           ],
           [
            0.875,
            "rgb(37,52,148)"
           ],
           [
            1,
            "rgb(8,29,88)"
           ]
          ],
          "line": {
           "width": 2
          },
          "reversescale": true,
          "showscale": true,
          "size": 10
         },
         "mode": "markers",
         "name": "v = 720",
         "text": [
          "Node 0, # of connections: 0, NG-Set=[]",
          "Node 23, # of connections: 1, NG-Set=[88]",
          "Node 62, # of connections: 2, NG-Set=[77]",
          "Node 76, # of connections: 1, NG-Set=[62]",
          "Node 77, # of connections: 1, NG-Set=[62]",
          "Node 88, # of connections: 1, NG-Set=[1]"
         ],
         "type": "scatter",
         "visible": false,
         "x": [
          25,
          32,
          55,
          49,
          50,
          45
         ],
         "y": [
          25,
          51,
          58,
          52,
          65,
          41
         ]
        },
        {
         "hoverinfo": "text",
         "marker": {
          "color": [
           0,
           0,
           1,
           0,
           1,
           2
          ],
          "colorbar": {
           "thickness": 15,
           "title": {
            "side": "right",
            "text": "Node Connections"
           },
           "xanchor": "left"
          },
          "colorscale": [
           [
            0,
            "rgb(255,255,217)"
           ],
           [
            0.125,
            "rgb(237,248,177)"
           ],
           [
            0.25,
            "rgb(199,233,180)"
           ],
           [
            0.375,
            "rgb(127,205,187)"
           ],
           [
            0.5,
            "rgb(65,182,196)"
           ],
           [
            0.625,
            "rgb(29,145,192)"
           ],
           [
            0.75,
            "rgb(34,94,168)"
           ],
           [
            0.875,
            "rgb(37,52,148)"
           ],
           [
            1,
            "rgb(8,29,88)"
           ]
          ],
          "line": {
           "width": 2
          },
          "reversescale": true,
          "showscale": true,
          "size": 10
         },
         "mode": "markers",
         "name": "v = 780",
         "text": [
          "Node 0, # of connections: 0, NG-Set=[]",
          "Node 1, # of connections: 0, NG-Set=[21]",
          "Node 23, # of connections: 1, NG-Set=[88]",
          "Node 84, # of connections: 0, NG-Set=[88]",
          "Node 85, # of connections: 1, NG-Set=[90]",
          "Node 90, # of connections: 2, NG-Set=[6]"
         ],
         "type": "scatter",
         "visible": false,
         "x": [
          25,
          42,
          32,
          54,
          56,
          65
         ],
         "y": [
          25,
          40,
          51,
          42,
          66,
          48
         ]
        },
        {
         "hoverinfo": "text",
         "marker": {
          "color": [
           0,
           1,
           0,
           2,
           0
          ],
          "colorbar": {
           "thickness": 15,
           "title": {
            "side": "right",
            "text": "Node Connections"
           },
           "xanchor": "left"
          },
          "colorscale": [
           [
            0,
            "rgb(255,255,217)"
           ],
           [
            0.125,
            "rgb(237,248,177)"
           ],
           [
            0.25,
            "rgb(199,233,180)"
           ],
           [
            0.375,
            "rgb(127,205,187)"
           ],
           [
            0.5,
            "rgb(65,182,196)"
           ],
           [
            0.625,
            "rgb(29,145,192)"
           ],
           [
            0.75,
            "rgb(34,94,168)"
           ],
           [
            0.875,
            "rgb(37,52,148)"
           ],
           [
            1,
            "rgb(8,29,88)"
           ]
          ],
          "line": {
           "width": 2
          },
          "reversescale": true,
          "showscale": true,
          "size": 10
         },
         "mode": "markers",
         "name": "v = 840",
         "text": [
          "Node 0, # of connections: 0, NG-Set=[]",
          "Node 6, # of connections: 1, NG-Set=[90]",
          "Node 21, # of connections: 0, NG-Set=[1]",
          "Node 90, # of connections: 2, NG-Set=[6]",
          "Node 91, # of connections: 0, NG-Set=[74]"
         ],
         "type": "scatter",
         "visible": false,
         "x": [
          25,
          58,
          41,
          65,
          44
         ],
         "y": [
          25,
          37,
          37,
          48,
          42
         ]
        },
        {
         "hoverinfo": "text",
         "marker": {
          "color": [
           0,
           1,
           1,
           1,
           1,
           2,
           1,
           3,
           2
          ],
          "colorbar": {
           "thickness": 15,
           "title": {
            "side": "right",
            "text": "Node Connections"
           },
           "xanchor": "left"
          },
          "colorscale": [
           [
            0,
            "rgb(255,255,217)"
           ],
           [
            0.125,
            "rgb(237,248,177)"
           ],
           [
            0.25,
            "rgb(199,233,180)"
           ],
           [
            0.375,
            "rgb(127,205,187)"
           ],
           [
            0.5,
            "rgb(65,182,196)"
           ],
           [
            0.625,
            "rgb(29,145,192)"
           ],
           [
            0.75,
            "rgb(34,94,168)"
           ],
           [
            0.875,
            "rgb(37,52,148)"
           ],
           [
            1,
            "rgb(8,29,88)"
           ]
          ],
          "line": {
           "width": 2
          },
          "reversescale": true,
          "showscale": true,
          "size": 10
         },
         "mode": "markers",
         "name": "v = 900",
         "text": [
          "Node 0, # of connections: 0, NG-Set=[]",
          "Node 54, # of connections: 1, NG-Set=[94]",
          "Node 59, # of connections: 1, NG-Set=[81]",
          "Node 74, # of connections: 1, NG-Set=[91]",
          "Node 79, # of connections: 1, NG-Set=[94]",
          "Node 81, # of connections: 2, NG-Set=[99]",
          "Node 87, # of connections: 1, NG-Set=[74]",
          "Node 94, # of connections: 3, NG-Set=[99]",
          "Node 99, # of connections: 2, NG-Set=[91]"
         ],
         "type": "scatter",
         "visible": false,
         "x": [
          25,
          38,
          32,
          44,
          30,
          41,
          52,
          37,
          39
         ],
         "y": [
          25,
          27,
          59,
          40,
          36,
          50,
          43,
          37,
          42
         ]
        },
        {
         "hoverinfo": "text",
         "marker": {
          "color": [
           0
          ],
          "colorbar": {
           "thickness": 15,
           "title": {
            "side": "right",
            "text": "Node Connections"
           },
           "xanchor": "left"
          },
          "colorscale": [
           [
            0,
            "rgb(255,255,217)"
           ],
           [
            0.125,
            "rgb(237,248,177)"
           ],
           [
            0.25,
            "rgb(199,233,180)"
           ],
           [
            0.375,
            "rgb(127,205,187)"
           ],
           [
            0.5,
            "rgb(65,182,196)"
           ],
           [
            0.625,
            "rgb(29,145,192)"
           ],
           [
            0.75,
            "rgb(34,94,168)"
           ],
           [
            0.875,
            "rgb(37,52,148)"
           ],
           [
            1,
            "rgb(8,29,88)"
           ]
          ],
          "line": {
           "width": 2
          },
          "reversescale": true,
          "showscale": true,
          "size": 10
         },
         "mode": "markers",
         "name": "v = 960",
         "text": [
          "Node 0, # of connections: 0, NG-Set=[]"
         ],
         "type": "scatter",
         "visible": false,
         "x": [
          25
         ],
         "y": [
          25
         ]
        },
        {
         "hoverinfo": "text",
         "marker": {
          "color": [
           0
          ],
          "colorbar": {
           "thickness": 15,
           "title": {
            "side": "right",
            "text": "Node Connections"
           },
           "xanchor": "left"
          },
          "colorscale": [
           [
            0,
            "rgb(255,255,217)"
           ],
           [
            0.125,
            "rgb(237,248,177)"
           ],
           [
            0.25,
            "rgb(199,233,180)"
           ],
           [
            0.375,
            "rgb(127,205,187)"
           ],
           [
            0.5,
            "rgb(65,182,196)"
           ],
           [
            0.625,
            "rgb(29,145,192)"
           ],
           [
            0.75,
            "rgb(34,94,168)"
           ],
           [
            0.875,
            "rgb(37,52,148)"
           ],
           [
            1,
            "rgb(8,29,88)"
           ]
          ],
          "line": {
           "width": 2
          },
          "reversescale": true,
          "showscale": true,
          "size": 10
         },
         "mode": "markers",
         "name": "v = 1020",
         "text": [
          "Node 0, # of connections: 0, NG-Set=[]"
         ],
         "type": "scatter",
         "visible": false,
         "x": [
          25
         ],
         "y": [
          25
         ]
        },
        {
         "hoverinfo": "text",
         "marker": {
          "color": [
           0
          ],
          "colorbar": {
           "thickness": 15,
           "title": {
            "side": "right",
            "text": "Node Connections"
           },
           "xanchor": "left"
          },
          "colorscale": [
           [
            0,
            "rgb(255,255,217)"
           ],
           [
            0.125,
            "rgb(237,248,177)"
           ],
           [
            0.25,
            "rgb(199,233,180)"
           ],
           [
            0.375,
            "rgb(127,205,187)"
           ],
           [
            0.5,
            "rgb(65,182,196)"
           ],
           [
            0.625,
            "rgb(29,145,192)"
           ],
           [
            0.75,
            "rgb(34,94,168)"
           ],
           [
            0.875,
            "rgb(37,52,148)"
           ],
           [
            1,
            "rgb(8,29,88)"
           ]
          ],
          "line": {
           "width": 2
          },
          "reversescale": true,
          "showscale": true,
          "size": 10
         },
         "mode": "markers",
         "name": "v = 1080",
         "text": [
          "Node 0, # of connections: 0, NG-Set=[]"
         ],
         "type": "scatter",
         "visible": false,
         "x": [
          25
         ],
         "y": [
          25
         ]
        },
        {
         "hoverinfo": "text",
         "marker": {
          "color": [
           0
          ],
          "colorbar": {
           "thickness": 15,
           "title": {
            "side": "right",
            "text": "Node Connections"
           },
           "xanchor": "left"
          },
          "colorscale": [
           [
            0,
            "rgb(255,255,217)"
           ],
           [
            0.125,
            "rgb(237,248,177)"
           ],
           [
            0.25,
            "rgb(199,233,180)"
           ],
           [
            0.375,
            "rgb(127,205,187)"
           ],
           [
            0.5,
            "rgb(65,182,196)"
           ],
           [
            0.625,
            "rgb(29,145,192)"
           ],
           [
            0.75,
            "rgb(34,94,168)"
           ],
           [
            0.875,
            "rgb(37,52,148)"
           ],
           [
            1,
            "rgb(8,29,88)"
           ]
          ],
          "line": {
           "width": 2
          },
          "reversescale": true,
          "showscale": true,
          "size": 10
         },
         "mode": "markers",
         "name": "v = 1140",
         "text": [
          "Node 0, # of connections: 0, NG-Set=[]"
         ],
         "type": "scatter",
         "visible": false,
         "x": [
          25
         ],
         "y": [
          25
         ]
        },
        {
         "hoverinfo": "text",
         "marker": {
          "color": [],
          "colorbar": {
           "thickness": 15,
           "title": {
            "side": "right",
            "text": "Node Connections"
           },
           "xanchor": "left"
          },
          "colorscale": [
           [
            0,
            "rgb(255,255,217)"
           ],
           [
            0.125,
            "rgb(237,248,177)"
           ],
           [
            0.25,
            "rgb(199,233,180)"
           ],
           [
            0.375,
            "rgb(127,205,187)"
           ],
           [
            0.5,
            "rgb(65,182,196)"
           ],
           [
            0.625,
            "rgb(29,145,192)"
           ],
           [
            0.75,
            "rgb(34,94,168)"
           ],
           [
            0.875,
            "rgb(37,52,148)"
           ],
           [
            1,
            "rgb(8,29,88)"
           ]
          ],
          "line": {
           "width": 2
          },
          "reversescale": true,
          "showscale": true,
          "size": 10
         },
         "mode": "markers",
         "name": "v = 1200",
         "text": [],
         "type": "scatter",
         "visible": false,
         "x": [],
         "y": []
        },
        {
         "hoverinfo": "none",
         "marker": {
          "angleref": "previous",
          "color": "#888",
          "size": 9,
          "symbol": "arrow-bar-up"
         },
         "name": "e = 0",
         "type": "scatter",
         "visible": false,
         "x": [],
         "y": []
        },
        {
         "hoverinfo": "none",
         "marker": {
          "angleref": "previous",
          "color": "#888",
          "size": 9,
          "symbol": "arrow-bar-up"
         },
         "name": "e = 60",
         "type": "scatter",
         "visible": false,
         "x": [
          50,
          46,
          null,
          46,
          46,
          null,
          34,
          29,
          null,
          45,
          50,
          null,
          46,
          45,
          null,
          56,
          45,
          null,
          45,
          46,
          null,
          43,
          41,
          null,
          41,
          45,
          null,
          55,
          46,
          null
         ],
         "y": [
          53,
          57,
          null,
          57,
          59,
          null,
          69,
          59,
          null,
          48,
          53,
          null,
          59,
          58,
          null,
          40,
          48,
          null,
          58,
          57,
          null,
          34,
          39,
          null,
          39,
          48,
          null,
          61,
          59,
          null
         ]
        },
        {
         "hoverinfo": "none",
         "marker": {
          "angleref": "previous",
          "color": "#888",
          "size": 9,
          "symbol": "arrow-bar-up"
         },
         "name": "e = 120",
         "type": "scatter",
         "visible": true,
         "x": [],
         "y": []
        },
        {
         "hoverinfo": "none",
         "marker": {
          "angleref": "previous",
          "color": "#888",
          "size": 9,
          "symbol": "arrow-bar-up"
         },
         "name": "e = 180",
         "type": "scatter",
         "visible": false,
         "x": [
          61,
          50,
          null,
          53,
          50,
          null,
          55,
          54,
          null,
          54,
          55,
          null,
          50,
          55,
          null,
          55,
          50,
          null
         ],
         "y": [
          55,
          53,
          null,
          66,
          53,
          null,
          40,
          37,
          null,
          37,
          40,
          null,
          53,
          54,
          null,
          54,
          53,
          null
         ]
        },
        {
         "hoverinfo": "none",
         "marker": {
          "angleref": "previous",
          "color": "#888",
          "size": 9,
          "symbol": "arrow-bar-up"
         },
         "name": "e = 240",
         "type": "scatter",
         "visible": false,
         "x": [
          39,
          38,
          null,
          25,
          29,
          null,
          29,
          25,
          null,
          38,
          39,
          null
         ],
         "y": [
          41,
          41,
          null,
          48,
          46,
          null,
          46,
          48,
          null,
          41,
          41,
          null
         ]
        },
        {
         "hoverinfo": "none",
         "marker": {
          "angleref": "previous",
          "color": "#888",
          "size": 9,
          "symbol": "arrow-bar-up"
         },
         "name": "e = 300",
         "type": "scatter",
         "visible": false,
         "x": [
          31,
          38,
          null,
          59,
          59,
          null,
          48,
          41,
          null,
          59,
          59,
          null,
          55,
          48,
          null
         ],
         "y": [
          31,
          34,
          null,
          54,
          46,
          null,
          57,
          55,
          null,
          46,
          54,
          null,
          67,
          57,
          null
         ]
        },
        {
         "hoverinfo": "none",
         "marker": {
          "angleref": "previous",
          "color": "#888",
          "size": 9,
          "symbol": "arrow-bar-up"
         },
         "name": "e = 360",
         "type": "scatter",
         "visible": false,
         "x": [],
         "y": []
        },
        {
         "hoverinfo": "none",
         "marker": {
          "angleref": "previous",
          "color": "#888",
          "size": 9,
          "symbol": "arrow-bar-up"
         },
         "name": "e = 420",
         "type": "scatter",
         "visible": false,
         "x": [
          49,
          46,
          null,
          71,
          60,
          null,
          62,
          60,
          null,
          46,
          49,
          null,
          50,
          49,
          null,
          30,
          41,
          null,
          60,
          62,
          null,
          43,
          49,
          null
         ],
         "y": [
          58,
          62,
          null,
          56,
          55,
          null,
          51,
          55,
          null,
          62,
          58,
          null,
          67,
          58,
          null,
          54,
          49,
          null,
          55,
          51,
          null,
          59,
          58,
          null
         ]
        },
        {
         "hoverinfo": "none",
         "marker": {
          "angleref": "previous",
          "color": "#888",
          "size": 9,
          "symbol": "arrow-bar-up"
         },
         "name": "e = 480",
         "type": "scatter",
         "visible": false,
         "x": [
          44,
          43,
          null,
          41,
          34,
          null,
          34,
          41,
          null
         ],
         "y": [
          53,
          61,
          null,
          41,
          40,
          null,
          40,
          41,
          null
         ]
        },
        {
         "hoverinfo": "none",
         "marker": {
          "angleref": "previous",
          "color": "#888",
          "size": 9,
          "symbol": "arrow-bar-up"
         },
         "name": "e = 540",
         "type": "scatter",
         "visible": false,
         "x": [
          62,
          59,
          null,
          50,
          53,
          null,
          53,
          50,
          null,
          52,
          59,
          null,
          45,
          50,
          null
         ],
         "y": [
          49,
          56,
          null,
          42,
          45,
          null,
          45,
          42,
          null,
          58,
          56,
          null,
          39,
          42,
          null
         ]
        },
        {
         "hoverinfo": "none",
         "marker": {
          "angleref": "previous",
          "color": "#888",
          "size": 9,
          "symbol": "arrow-bar-up"
         },
         "name": "e = 600",
         "type": "scatter",
         "visible": false,
         "x": [
          43,
          35,
          null,
          71,
          65,
          null,
          65,
          71,
          null,
          35,
          43,
          null
         ],
         "y": [
          32,
          34,
          null,
          58,
          60,
          null,
          60,
          58,
          null,
          34,
          32,
          null
         ]
        },
        {
         "hoverinfo": "none",
         "marker": {
          "angleref": "previous",
          "color": "#888",
          "size": 9,
          "symbol": "arrow-bar-up"
         },
         "name": "e = 660",
         "type": "scatter",
         "visible": false,
         "x": [
          47,
          49,
          null,
          49,
          47,
          null
         ],
         "y": [
          47,
          57,
          null,
          57,
          47,
          null
         ]
        },
        {
         "hoverinfo": "none",
         "marker": {
          "angleref": "previous",
          "color": "#888",
          "size": 9,
          "symbol": "arrow-bar-up"
         },
         "name": "e = 720",
         "type": "scatter",
         "visible": false,
         "x": [
          32,
          45,
          null,
          55,
          50,
          null,
          49,
          55,
          null,
          50,
          55,
          null
         ],
         "y": [
          51,
          41,
          null,
          58,
          65,
          null,
          52,
          58,
          null,
          65,
          58,
          null
         ]
        },
        {
         "hoverinfo": "none",
         "marker": {
          "angleref": "previous",
          "color": "#888",
          "size": 9,
          "symbol": "arrow-bar-up"
         },
         "name": "e = 780",
         "type": "scatter",
         "visible": false,
         "x": [
          56,
          65,
          null
         ],
         "y": [
          66,
          48,
          null
         ]
        },
        {
         "hoverinfo": "none",
         "marker": {
          "angleref": "previous",
          "color": "#888",
          "size": 9,
          "symbol": "arrow-bar-up"
         },
         "name": "e = 840",
         "type": "scatter",
         "visible": false,
         "x": [
          58,
          65,
          null,
          65,
          58,
          null
         ],
         "y": [
          37,
          48,
          null,
          48,
          37,
          null
         ]
        },
        {
         "hoverinfo": "none",
         "marker": {
          "angleref": "previous",
          "color": "#888",
          "size": 9,
          "symbol": "arrow-bar-up"
         },
         "name": "e = 900",
         "type": "scatter",
         "visible": false,
         "x": [
          38,
          37,
          null,
          32,
          41,
          null,
          30,
          37,
          null,
          41,
          39,
          null,
          52,
          44,
          null,
          37,
          39,
          null
         ],
         "y": [
          27,
          37,
          null,
          59,
          50,
          null,
          36,
          37,
          null,
          50,
          42,
          null,
          43,
          40,
          null,
          37,
          42,
          null
         ]
        },
        {
         "hoverinfo": "none",
         "marker": {
          "angleref": "previous",
          "color": "#888",
          "size": 9,
          "symbol": "arrow-bar-up"
         },
         "name": "e = 960",
         "type": "scatter",
         "visible": false,
         "x": [],
         "y": []
        },
        {
         "hoverinfo": "none",
         "marker": {
          "angleref": "previous",
          "color": "#888",
          "size": 9,
          "symbol": "arrow-bar-up"
         },
         "name": "e = 1020",
         "type": "scatter",
         "visible": false,
         "x": [],
         "y": []
        },
        {
         "hoverinfo": "none",
         "marker": {
          "angleref": "previous",
          "color": "#888",
          "size": 9,
          "symbol": "arrow-bar-up"
         },
         "name": "e = 1080",
         "type": "scatter",
         "visible": false,
         "x": [],
         "y": []
        },
        {
         "hoverinfo": "none",
         "marker": {
          "angleref": "previous",
          "color": "#888",
          "size": 9,
          "symbol": "arrow-bar-up"
         },
         "name": "e = 1140",
         "type": "scatter",
         "visible": false,
         "x": [],
         "y": []
        },
        {
         "hoverinfo": "none",
         "marker": {
          "angleref": "previous",
          "color": "#888",
          "size": 9,
          "symbol": "arrow-bar-up"
         },
         "name": "e = 1200",
         "type": "scatter",
         "visible": false,
         "x": [],
         "y": []
        }
       ],
       "layout": {
        "annotations": [
         {
          "showarrow": false,
          "text": "Python code: <a href='https://plotly.com/ipython-notebooks/network-graphs/'> https://plotly.com/ipython-notebooks/network-graphs/</a>",
          "x": 0.005,
          "xref": "paper",
          "y": -0.002,
          "yref": "paper"
         }
        ],
        "height": 800,
        "hovermode": "closest",
        "margin": {
         "b": 20,
         "l": 5,
         "r": 5,
         "t": 40
        },
        "showlegend": false,
        "sliders": [
         {
          "active": 1,
          "currentvalue": {
           "prefix": "Time around: "
          },
          "pad": {
           "t": 50
          },
          "steps": [
           {
            "args": [
             {
              "visible": [
               true,
               false,
               false,
               false,
               false,
               false,
               false,
               false,
               false,
               false,
               false,
               false,
               false,
               false,
               false,
               false,
               false,
               false,
               false,
               false,
               false,
               true,
               false,
               false,
               false,
               false,
               false,
               false,
               false,
               false,
               false,
               false,
               false,
               false,
               false,
               false,
               false,
               false,
               false,
               false,
               false,
               false
              ]
             },
             {
              "title": "<br>Ng-Neighborhoods as a graph. Available at t: 0"
             }
            ],
            "label": "0",
            "method": "update"
           },
           {
            "args": [
             {
              "visible": [
               false,
               true,
               false,
               false,
               false,
               false,
               false,
               false,
               false,
               false,
               false,
               false,
               false,
               false,
               false,
               false,
               false,
               false,
               false,
               false,
               false,
               false,
               true,
               false,
               false,
               false,
               false,
               false,
               false,
               false,
               false,
               false,
               false,
               false,
               false,
               false,
               false,
               false,
               false,
               false,
               false,
               false
              ]
             },
             {
              "title": "<br>Ng-Neighborhoods as a graph. Available at t: 60"
             }
            ],
            "label": "60",
            "method": "update"
           },
           {
            "args": [
             {
              "visible": [
               false,
               false,
               true,
               false,
               false,
               false,
               false,
               false,
               false,
               false,
               false,
               false,
               false,
               false,
               false,
               false,
               false,
               false,
               false,
               false,
               false,
               false,
               false,
               true,
               false,
               false,
               false,
               false,
               false,
               false,
               false,
               false,
               false,
               false,
               false,
               false,
               false,
               false,
               false,
               false,
               false,
               false
              ]
             },
             {
              "title": "<br>Ng-Neighborhoods as a graph. Available at t: 120"
             }
            ],
            "label": "120",
            "method": "update"
           },
           {
            "args": [
             {
              "visible": [
               false,
               false,
               false,
               true,
               false,
               false,
               false,
               false,
               false,
               false,
               false,
               false,
               false,
               false,
               false,
               false,
               false,
               false,
               false,
               false,
               false,
               false,
               false,
               false,
               true,
               false,
               false,
               false,
               false,
               false,
               false,
               false,
               false,
               false,
               false,
               false,
               false,
               false,
               false,
               false,
               false,
               false
              ]
             },
             {
              "title": "<br>Ng-Neighborhoods as a graph. Available at t: 180"
             }
            ],
            "label": "180",
            "method": "update"
           },
           {
            "args": [
             {
              "visible": [
               false,
               false,
               false,
               false,
               true,
               false,
               false,
               false,
               false,
               false,
               false,
               false,
               false,
               false,
               false,
               false,
               false,
               false,
               false,
               false,
               false,
               false,
               false,
               false,
               false,
               true,
               false,
               false,
               false,
               false,
               false,
               false,
               false,
               false,
               false,
               false,
               false,
               false,
               false,
               false,
               false,
               false
              ]
             },
             {
              "title": "<br>Ng-Neighborhoods as a graph. Available at t: 240"
             }
            ],
            "label": "240",
            "method": "update"
           },
           {
            "args": [
             {
              "visible": [
               false,
               false,
               false,
               false,
               false,
               true,
               false,
               false,
               false,
               false,
               false,
               false,
               false,
               false,
               false,
               false,
               false,
               false,
               false,
               false,
               false,
               false,
               false,
               false,
               false,
               false,
               true,
               false,
               false,
               false,
               false,
               false,
               false,
               false,
               false,
               false,
               false,
               false,
               false,
               false,
               false,
               false
              ]
             },
             {
              "title": "<br>Ng-Neighborhoods as a graph. Available at t: 300"
             }
            ],
            "label": "300",
            "method": "update"
           },
           {
            "args": [
             {
              "visible": [
               false,
               false,
               false,
               false,
               false,
               false,
               true,
               false,
               false,
               false,
               false,
               false,
               false,
               false,
               false,
               false,
               false,
               false,
               false,
               false,
               false,
               false,
               false,
               false,
               false,
               false,
               false,
               true,
               false,
               false,
               false,
               false,
               false,
               false,
               false,
               false,
               false,
               false,
               false,
               false,
               false,
               false
              ]
             },
             {
              "title": "<br>Ng-Neighborhoods as a graph. Available at t: 360"
             }
            ],
            "label": "360",
            "method": "update"
           },
           {
            "args": [
             {
              "visible": [
               false,
               false,
               false,
               false,
               false,
               false,
               false,
               true,
               false,
               false,
               false,
               false,
               false,
               false,
               false,
               false,
               false,
               false,
               false,
               false,
               false,
               false,
               false,
               false,
               false,
               false,
               false,
               false,
               true,
               false,
               false,
               false,
               false,
               false,
               false,
               false,
               false,
               false,
               false,
               false,
               false,
               false
              ]
             },
             {
              "title": "<br>Ng-Neighborhoods as a graph. Available at t: 420"
             }
            ],
            "label": "420",
            "method": "update"
           },
           {
            "args": [
             {
              "visible": [
               false,
               false,
               false,
               false,
               false,
               false,
               false,
               false,
               true,
               false,
               false,
               false,
               false,
               false,
               false,
               false,
               false,
               false,
               false,
               false,
               false,
               false,
               false,
               false,
               false,
               false,
               false,
               false,
               false,
               true,
               false,
               false,
               false,
               false,
               false,
               false,
               false,
               false,
               false,
               false,
               false,
               false
              ]
             },
             {
              "title": "<br>Ng-Neighborhoods as a graph. Available at t: 480"
             }
            ],
            "label": "480",
            "method": "update"
           },
           {
            "args": [
             {
              "visible": [
               false,
               false,
               false,
               false,
               false,
               false,
               false,
               false,
               false,
               true,
               false,
               false,
               false,
               false,
               false,
               false,
               false,
               false,
               false,
               false,
               false,
               false,
               false,
               false,
               false,
               false,
               false,
               false,
               false,
               false,
               true,
               false,
               false,
               false,
               false,
               false,
               false,
               false,
               false,
               false,
               false,
               false
              ]
             },
             {
              "title": "<br>Ng-Neighborhoods as a graph. Available at t: 540"
             }
            ],
            "label": "540",
            "method": "update"
           },
           {
            "args": [
             {
              "visible": [
               false,
               false,
               false,
               false,
               false,
               false,
               false,
               false,
               false,
               false,
               true,
               false,
               false,
               false,
               false,
               false,
               false,
               false,
               false,
               false,
               false,
               false,
               false,
               false,
               false,
               false,
               false,
               false,
               false,
               false,
               false,
               true,
               false,
               false,
               false,
               false,
               false,
               false,
               false,
               false,
               false,
               false
              ]
             },
             {
              "title": "<br>Ng-Neighborhoods as a graph. Available at t: 600"
             }
            ],
            "label": "600",
            "method": "update"
           },
           {
            "args": [
             {
              "visible": [
               false,
               false,
               false,
               false,
               false,
               false,
               false,
               false,
               false,
               false,
               false,
               true,
               false,
               false,
               false,
               false,
               false,
               false,
               false,
               false,
               false,
               false,
               false,
               false,
               false,
               false,
               false,
               false,
               false,
               false,
               false,
               false,
               true,
               false,
               false,
               false,
               false,
               false,
               false,
               false,
               false,
               false
              ]
             },
             {
              "title": "<br>Ng-Neighborhoods as a graph. Available at t: 660"
             }
            ],
            "label": "660",
            "method": "update"
           },
           {
            "args": [
             {
              "visible": [
               false,
               false,
               false,
               false,
               false,
               false,
               false,
               false,
               false,
               false,
               false,
               false,
               true,
               false,
               false,
               false,
               false,
               false,
               false,
               false,
               false,
               false,
               false,
               false,
               false,
               false,
               false,
               false,
               false,
               false,
               false,
               false,
               false,
               true,
               false,
               false,
               false,
               false,
               false,
               false,
               false,
               false
              ]
             },
             {
              "title": "<br>Ng-Neighborhoods as a graph. Available at t: 720"
             }
            ],
            "label": "720",
            "method": "update"
           },
           {
            "args": [
             {
              "visible": [
               false,
               false,
               false,
               false,
               false,
               false,
               false,
               false,
               false,
               false,
               false,
               false,
               false,
               true,
               false,
               false,
               false,
               false,
               false,
               false,
               false,
               false,
               false,
               false,
               false,
               false,
               false,
               false,
               false,
               false,
               false,
               false,
               false,
               false,
               true,
               false,
               false,
               false,
               false,
               false,
               false,
               false
              ]
             },
             {
              "title": "<br>Ng-Neighborhoods as a graph. Available at t: 780"
             }
            ],
            "label": "780",
            "method": "update"
           },
           {
            "args": [
             {
              "visible": [
               false,
               false,
               false,
               false,
               false,
               false,
               false,
               false,
               false,
               false,
               false,
               false,
               false,
               false,
               true,
               false,
               false,
               false,
               false,
               false,
               false,
               false,
               false,
               false,
               false,
               false,
               false,
               false,
               false,
               false,
               false,
               false,
               false,
               false,
               false,
               true,
               false,
               false,
               false,
               false,
               false,
               false
              ]
             },
             {
              "title": "<br>Ng-Neighborhoods as a graph. Available at t: 840"
             }
            ],
            "label": "840",
            "method": "update"
           },
           {
            "args": [
             {
              "visible": [
               false,
               false,
               false,
               false,
               false,
               false,
               false,
               false,
               false,
               false,
               false,
               false,
               false,
               false,
               false,
               true,
               false,
               false,
               false,
               false,
               false,
               false,
               false,
               false,
               false,
               false,
               false,
               false,
               false,
               false,
               false,
               false,
               false,
               false,
               false,
               false,
               true,
               false,
               false,
               false,
               false,
               false
              ]
             },
             {
              "title": "<br>Ng-Neighborhoods as a graph. Available at t: 900"
             }
            ],
            "label": "900",
            "method": "update"
           },
           {
            "args": [
             {
              "visible": [
               false,
               false,
               false,
               false,
               false,
               false,
               false,
               false,
               false,
               false,
               false,
               false,
               false,
               false,
               false,
               false,
               true,
               false,
               false,
               false,
               false,
               false,
               false,
               false,
               false,
               false,
               false,
               false,
               false,
               false,
               false,
               false,
               false,
               false,
               false,
               false,
               false,
               true,
               false,
               false,
               false,
               false
              ]
             },
             {
              "title": "<br>Ng-Neighborhoods as a graph. Available at t: 960"
             }
            ],
            "label": "960",
            "method": "update"
           },
           {
            "args": [
             {
              "visible": [
               false,
               false,
               false,
               false,
               false,
               false,
               false,
               false,
               false,
               false,
               false,
               false,
               false,
               false,
               false,
               false,
               false,
               true,
               false,
               false,
               false,
               false,
               false,
               false,
               false,
               false,
               false,
               false,
               false,
               false,
               false,
               false,
               false,
               false,
               false,
               false,
               false,
               false,
               true,
               false,
               false,
               false
              ]
             },
             {
              "title": "<br>Ng-Neighborhoods as a graph. Available at t: 1020"
             }
            ],
            "label": "1020",
            "method": "update"
           },
           {
            "args": [
             {
              "visible": [
               false,
               false,
               false,
               false,
               false,
               false,
               false,
               false,
               false,
               false,
               false,
               false,
               false,
               false,
               false,
               false,
               false,
               false,
               true,
               false,
               false,
               false,
               false,
               false,
               false,
               false,
               false,
               false,
               false,
               false,
               false,
               false,
               false,
               false,
               false,
               false,
               false,
               false,
               false,
               true,
               false,
               false
              ]
             },
             {
              "title": "<br>Ng-Neighborhoods as a graph. Available at t: 1080"
             }
            ],
            "label": "1080",
            "method": "update"
           },
           {
            "args": [
             {
              "visible": [
               false,
               false,
               false,
               false,
               false,
               false,
               false,
               false,
               false,
               false,
               false,
               false,
               false,
               false,
               false,
               false,
               false,
               false,
               false,
               true,
               false,
               false,
               false,
               false,
               false,
               false,
               false,
               false,
               false,
               false,
               false,
               false,
               false,
               false,
               false,
               false,
               false,
               false,
               false,
               false,
               true,
               false
              ]
             },
             {
              "title": "<br>Ng-Neighborhoods as a graph. Available at t: 1140"
             }
            ],
            "label": "1140",
            "method": "update"
           },
           {
            "args": [
             {
              "visible": [
               false,
               false,
               false,
               false,
               false,
               false,
               false,
               false,
               false,
               false,
               false,
               false,
               false,
               false,
               false,
               false,
               false,
               false,
               false,
               false,
               true,
               false,
               false,
               false,
               false,
               false,
               false,
               false,
               false,
               false,
               false,
               false,
               false,
               false,
               false,
               false,
               false,
               false,
               false,
               false,
               false,
               true
              ]
             },
             {
              "title": "<br>Ng-Neighborhoods as a graph. Available at t: 1200"
             }
            ],
            "label": "1200",
            "method": "update"
           }
          ]
         }
        ],
        "template": {
         "data": {
          "bar": [
           {
            "error_x": {
             "color": "#2a3f5f"
            },
            "error_y": {
             "color": "#2a3f5f"
            },
            "marker": {
             "line": {
              "color": "#E5ECF6",
              "width": 0.5
             },
             "pattern": {
              "fillmode": "overlay",
              "size": 10,
              "solidity": 0.2
             }
            },
            "type": "bar"
           }
          ],
          "barpolar": [
           {
            "marker": {
             "line": {
              "color": "#E5ECF6",
              "width": 0.5
             },
             "pattern": {
              "fillmode": "overlay",
              "size": 10,
              "solidity": 0.2
             }
            },
            "type": "barpolar"
           }
          ],
          "carpet": [
           {
            "aaxis": {
             "endlinecolor": "#2a3f5f",
             "gridcolor": "white",
             "linecolor": "white",
             "minorgridcolor": "white",
             "startlinecolor": "#2a3f5f"
            },
            "baxis": {
             "endlinecolor": "#2a3f5f",
             "gridcolor": "white",
             "linecolor": "white",
             "minorgridcolor": "white",
             "startlinecolor": "#2a3f5f"
            },
            "type": "carpet"
           }
          ],
          "choropleth": [
           {
            "colorbar": {
             "outlinewidth": 0,
             "ticks": ""
            },
            "type": "choropleth"
           }
          ],
          "contour": [
           {
            "colorbar": {
             "outlinewidth": 0,
             "ticks": ""
            },
            "colorscale": [
             [
              0,
              "#0d0887"
             ],
             [
              0.1111111111111111,
              "#46039f"
             ],
             [
              0.2222222222222222,
              "#7201a8"
             ],
             [
              0.3333333333333333,
              "#9c179e"
             ],
             [
              0.4444444444444444,
              "#bd3786"
             ],
             [
              0.5555555555555556,
              "#d8576b"
             ],
             [
              0.6666666666666666,
              "#ed7953"
             ],
             [
              0.7777777777777778,
              "#fb9f3a"
             ],
             [
              0.8888888888888888,
              "#fdca26"
             ],
             [
              1,
              "#f0f921"
             ]
            ],
            "type": "contour"
           }
          ],
          "contourcarpet": [
           {
            "colorbar": {
             "outlinewidth": 0,
             "ticks": ""
            },
            "type": "contourcarpet"
           }
          ],
          "heatmap": [
           {
            "colorbar": {
             "outlinewidth": 0,
             "ticks": ""
            },
            "colorscale": [
             [
              0,
              "#0d0887"
             ],
             [
              0.1111111111111111,
              "#46039f"
             ],
             [
              0.2222222222222222,
              "#7201a8"
             ],
             [
              0.3333333333333333,
              "#9c179e"
             ],
             [
              0.4444444444444444,
              "#bd3786"
             ],
             [
              0.5555555555555556,
              "#d8576b"
             ],
             [
              0.6666666666666666,
              "#ed7953"
             ],
             [
              0.7777777777777778,
              "#fb9f3a"
             ],
             [
              0.8888888888888888,
              "#fdca26"
             ],
             [
              1,
              "#f0f921"
             ]
            ],
            "type": "heatmap"
           }
          ],
          "heatmapgl": [
           {
            "colorbar": {
             "outlinewidth": 0,
             "ticks": ""
            },
            "colorscale": [
             [
              0,
              "#0d0887"
             ],
             [
              0.1111111111111111,
              "#46039f"
             ],
             [
              0.2222222222222222,
              "#7201a8"
             ],
             [
              0.3333333333333333,
              "#9c179e"
             ],
             [
              0.4444444444444444,
              "#bd3786"
             ],
             [
              0.5555555555555556,
              "#d8576b"
             ],
             [
              0.6666666666666666,
              "#ed7953"
             ],
             [
              0.7777777777777778,
              "#fb9f3a"
             ],
             [
              0.8888888888888888,
              "#fdca26"
             ],
             [
              1,
              "#f0f921"
             ]
            ],
            "type": "heatmapgl"
           }
          ],
          "histogram": [
           {
            "marker": {
             "pattern": {
              "fillmode": "overlay",
              "size": 10,
              "solidity": 0.2
             }
            },
            "type": "histogram"
           }
          ],
          "histogram2d": [
           {
            "colorbar": {
             "outlinewidth": 0,
             "ticks": ""
            },
            "colorscale": [
             [
              0,
              "#0d0887"
             ],
             [
              0.1111111111111111,
              "#46039f"
             ],
             [
              0.2222222222222222,
              "#7201a8"
             ],
             [
              0.3333333333333333,
              "#9c179e"
             ],
             [
              0.4444444444444444,
              "#bd3786"
             ],
             [
              0.5555555555555556,
              "#d8576b"
             ],
             [
              0.6666666666666666,
              "#ed7953"
             ],
             [
              0.7777777777777778,
              "#fb9f3a"
             ],
             [
              0.8888888888888888,
              "#fdca26"
             ],
             [
              1,
              "#f0f921"
             ]
            ],
            "type": "histogram2d"
           }
          ],
          "histogram2dcontour": [
           {
            "colorbar": {
             "outlinewidth": 0,
             "ticks": ""
            },
            "colorscale": [
             [
              0,
              "#0d0887"
             ],
             [
              0.1111111111111111,
              "#46039f"
             ],
             [
              0.2222222222222222,
              "#7201a8"
             ],
             [
              0.3333333333333333,
              "#9c179e"
             ],
             [
              0.4444444444444444,
              "#bd3786"
             ],
             [
              0.5555555555555556,
              "#d8576b"
             ],
             [
              0.6666666666666666,
              "#ed7953"
             ],
             [
              0.7777777777777778,
              "#fb9f3a"
             ],
             [
              0.8888888888888888,
              "#fdca26"
             ],
             [
              1,
              "#f0f921"
             ]
            ],
            "type": "histogram2dcontour"
           }
          ],
          "mesh3d": [
           {
            "colorbar": {
             "outlinewidth": 0,
             "ticks": ""
            },
            "type": "mesh3d"
           }
          ],
          "parcoords": [
           {
            "line": {
             "colorbar": {
              "outlinewidth": 0,
              "ticks": ""
             }
            },
            "type": "parcoords"
           }
          ],
          "pie": [
           {
            "automargin": true,
            "type": "pie"
           }
          ],
          "scatter": [
           {
            "fillpattern": {
             "fillmode": "overlay",
             "size": 10,
             "solidity": 0.2
            },
            "type": "scatter"
           }
          ],
          "scatter3d": [
           {
            "line": {
             "colorbar": {
              "outlinewidth": 0,
              "ticks": ""
             }
            },
            "marker": {
             "colorbar": {
              "outlinewidth": 0,
              "ticks": ""
             }
            },
            "type": "scatter3d"
           }
          ],
          "scattercarpet": [
           {
            "marker": {
             "colorbar": {
              "outlinewidth": 0,
              "ticks": ""
             }
            },
            "type": "scattercarpet"
           }
          ],
          "scattergeo": [
           {
            "marker": {
             "colorbar": {
              "outlinewidth": 0,
              "ticks": ""
             }
            },
            "type": "scattergeo"
           }
          ],
          "scattergl": [
           {
            "marker": {
             "colorbar": {
              "outlinewidth": 0,
              "ticks": ""
             }
            },
            "type": "scattergl"
           }
          ],
          "scattermapbox": [
           {
            "marker": {
             "colorbar": {
              "outlinewidth": 0,
              "ticks": ""
             }
            },
            "type": "scattermapbox"
           }
          ],
          "scatterpolar": [
           {
            "marker": {
             "colorbar": {
              "outlinewidth": 0,
              "ticks": ""
             }
            },
            "type": "scatterpolar"
           }
          ],
          "scatterpolargl": [
           {
            "marker": {
             "colorbar": {
              "outlinewidth": 0,
              "ticks": ""
             }
            },
            "type": "scatterpolargl"
           }
          ],
          "scatterternary": [
           {
            "marker": {
             "colorbar": {
              "outlinewidth": 0,
              "ticks": ""
             }
            },
            "type": "scatterternary"
           }
          ],
          "surface": [
           {
            "colorbar": {
             "outlinewidth": 0,
             "ticks": ""
            },
            "colorscale": [
             [
              0,
              "#0d0887"
             ],
             [
              0.1111111111111111,
              "#46039f"
             ],
             [
              0.2222222222222222,
              "#7201a8"
             ],
             [
              0.3333333333333333,
              "#9c179e"
             ],
             [
              0.4444444444444444,
              "#bd3786"
             ],
             [
              0.5555555555555556,
              "#d8576b"
             ],
             [
              0.6666666666666666,
              "#ed7953"
             ],
             [
              0.7777777777777778,
              "#fb9f3a"
             ],
             [
              0.8888888888888888,
              "#fdca26"
             ],
             [
              1,
              "#f0f921"
             ]
            ],
            "type": "surface"
           }
          ],
          "table": [
           {
            "cells": {
             "fill": {
              "color": "#EBF0F8"
             },
             "line": {
              "color": "white"
             }
            },
            "header": {
             "fill": {
              "color": "#C8D4E3"
             },
             "line": {
              "color": "white"
             }
            },
            "type": "table"
           }
          ]
         },
         "layout": {
          "annotationdefaults": {
           "arrowcolor": "#2a3f5f",
           "arrowhead": 0,
           "arrowwidth": 1
          },
          "autotypenumbers": "strict",
          "coloraxis": {
           "colorbar": {
            "outlinewidth": 0,
            "ticks": ""
           }
          },
          "colorscale": {
           "diverging": [
            [
             0,
             "#8e0152"
            ],
            [
             0.1,
             "#c51b7d"
            ],
            [
             0.2,
             "#de77ae"
            ],
            [
             0.3,
             "#f1b6da"
            ],
            [
             0.4,
             "#fde0ef"
            ],
            [
             0.5,
             "#f7f7f7"
            ],
            [
             0.6,
             "#e6f5d0"
            ],
            [
             0.7,
             "#b8e186"
            ],
            [
             0.8,
             "#7fbc41"
            ],
            [
             0.9,
             "#4d9221"
            ],
            [
             1,
             "#276419"
            ]
           ],
           "sequential": [
            [
             0,
             "#0d0887"
            ],
            [
             0.1111111111111111,
             "#46039f"
            ],
            [
             0.2222222222222222,
             "#7201a8"
            ],
            [
             0.3333333333333333,
             "#9c179e"
            ],
            [
             0.4444444444444444,
             "#bd3786"
            ],
            [
             0.5555555555555556,
             "#d8576b"
            ],
            [
             0.6666666666666666,
             "#ed7953"
            ],
            [
             0.7777777777777778,
             "#fb9f3a"
            ],
            [
             0.8888888888888888,
             "#fdca26"
            ],
            [
             1,
             "#f0f921"
            ]
           ],
           "sequentialminus": [
            [
             0,
             "#0d0887"
            ],
            [
             0.1111111111111111,
             "#46039f"
            ],
            [
             0.2222222222222222,
             "#7201a8"
            ],
            [
             0.3333333333333333,
             "#9c179e"
            ],
            [
             0.4444444444444444,
             "#bd3786"
            ],
            [
             0.5555555555555556,
             "#d8576b"
            ],
            [
             0.6666666666666666,
             "#ed7953"
            ],
            [
             0.7777777777777778,
             "#fb9f3a"
            ],
            [
             0.8888888888888888,
             "#fdca26"
            ],
            [
             1,
             "#f0f921"
            ]
           ]
          },
          "colorway": [
           "#636efa",
           "#EF553B",
           "#00cc96",
           "#ab63fa",
           "#FFA15A",
           "#19d3f3",
           "#FF6692",
           "#B6E880",
           "#FF97FF",
           "#FECB52"
          ],
          "font": {
           "color": "#2a3f5f"
          },
          "geo": {
           "bgcolor": "white",
           "lakecolor": "white",
           "landcolor": "#E5ECF6",
           "showlakes": true,
           "showland": true,
           "subunitcolor": "white"
          },
          "hoverlabel": {
           "align": "left"
          },
          "hovermode": "closest",
          "mapbox": {
           "style": "light"
          },
          "paper_bgcolor": "white",
          "plot_bgcolor": "#E5ECF6",
          "polar": {
           "angularaxis": {
            "gridcolor": "white",
            "linecolor": "white",
            "ticks": ""
           },
           "bgcolor": "#E5ECF6",
           "radialaxis": {
            "gridcolor": "white",
            "linecolor": "white",
            "ticks": ""
           }
          },
          "scene": {
           "xaxis": {
            "backgroundcolor": "#E5ECF6",
            "gridcolor": "white",
            "gridwidth": 2,
            "linecolor": "white",
            "showbackground": true,
            "ticks": "",
            "zerolinecolor": "white"
           },
           "yaxis": {
            "backgroundcolor": "#E5ECF6",
            "gridcolor": "white",
            "gridwidth": 2,
            "linecolor": "white",
            "showbackground": true,
            "ticks": "",
            "zerolinecolor": "white"
           },
           "zaxis": {
            "backgroundcolor": "#E5ECF6",
            "gridcolor": "white",
            "gridwidth": 2,
            "linecolor": "white",
            "showbackground": true,
            "ticks": "",
            "zerolinecolor": "white"
           }
          },
          "shapedefaults": {
           "line": {
            "color": "#2a3f5f"
           }
          },
          "ternary": {
           "aaxis": {
            "gridcolor": "white",
            "linecolor": "white",
            "ticks": ""
           },
           "baxis": {
            "gridcolor": "white",
            "linecolor": "white",
            "ticks": ""
           },
           "bgcolor": "#E5ECF6",
           "caxis": {
            "gridcolor": "white",
            "linecolor": "white",
            "ticks": ""
           }
          },
          "title": {
           "x": 0.05
          },
          "xaxis": {
           "automargin": true,
           "gridcolor": "white",
           "linecolor": "white",
           "ticks": "",
           "title": {
            "standoff": 15
           },
           "zerolinecolor": "white",
           "zerolinewidth": 2
          },
          "yaxis": {
           "automargin": true,
           "gridcolor": "white",
           "linecolor": "white",
           "ticks": "",
           "title": {
            "standoff": 15
           },
           "zerolinecolor": "white",
           "zerolinewidth": 2
          }
         }
        },
        "title": {
         "font": {
          "size": 16
         },
         "text": "<br>Ng-Neighborhoods as a graph"
        },
        "width": 1600,
        "xaxis": {
         "minallowed": 0,
         "range": [
          0,
          100
         ],
         "showgrid": true,
         "showticklabels": true,
         "zeroline": true
        },
        "yaxis": {
         "maxallowed": 100,
         "range": [
          0,
          100
         ],
         "showgrid": true,
         "showticklabels": true,
         "zeroline": true
        }
       }
      }
     },
     "metadata": {},
     "output_type": "display_data"
    }
   ],
   "source": [
    "steps = []\n",
    "for i in range(len(t_dict)):\n",
    "    step = dict(\n",
    "        method=\"update\",\n",
    "        args=[{\"visible\": [False] * len(fig.data)},\n",
    "              {\"title\": \"<br>Ng-Neighborhoods as a graph. Available at t: \" + str(i*window_length)}],  # layout attribute\n",
    "        label=str(i*60)\n",
    "    )\n",
    "    step[\"args\"][0][\"visible\"][i] = True  # Toggle i'th trace to \"visible\"\n",
    "    step[\"args\"][0][\"visible\"][len(t_dict) + i] = True  # Toggle i'th trace to \"visible\"\n",
    "    steps.append(step)\n",
    "\n",
    "sliders = [dict(\n",
    "    active=1,\n",
    "    currentvalue={\"prefix\": \"Time around: \"},\n",
    "    pad={\"t\": 50},\n",
    "    steps=steps\n",
    ")]\n",
    "\n",
    "fig.update_layout(\n",
    "    title='<br>Ng-Neighborhoods as a graph',\n",
    "    titlefont_size=16,\n",
    "    showlegend=False,\n",
    "    hovermode='closest',\n",
    "    margin=dict(b=20,l=5,r=5,t=40),\n",
    "    annotations=[ dict(\n",
    "        text=\"Python code: <a href='https://plotly.com/ipython-notebooks/network-graphs/'> https://plotly.com/ipython-notebooks/network-graphs/</a>\",\n",
    "        showarrow=False,\n",
    "        xref=\"paper\", yref=\"paper\",\n",
    "        x=0.005, y=-0.002 ) ],\n",
    "    xaxis=dict(showgrid=True, zeroline=True, showticklabels=True),\n",
    "    yaxis=dict(showgrid=True, zeroline=True, showticklabels=True),\n",
    "    height=800,\n",
    "    width=1600,\n",
    "    sliders=sliders\n",
    ")\n",
    "\n",
    "fig.update_xaxes(range=[0, 100], minallowed=0)\n",
    "fig.update_yaxes(range=[0, 100], maxallowed=100)\n",
    "\n",
    "# layout=go.Layout(\n",
    "#                 title='<br>Ng-Neighborhoods as a graph',\n",
    "#                 titlefont_size=16,\n",
    "#                 showlegend=False,\n",
    "#                 hovermode='closest',\n",
    "#                 margin=dict(b=20,l=5,r=5,t=40),\n",
    "#                 annotations=[ dict(\n",
    "#                     text=\"Python code: <a href='https://plotly.com/ipython-notebooks/network-graphs/'> https://plotly.com/ipython-notebooks/network-graphs/</a>\",\n",
    "#                     showarrow=False,\n",
    "#                     xref=\"paper\", yref=\"paper\",\n",
    "#                     x=0.005, y=-0.002 ) ],\n",
    "#                 xaxis=dict(showgrid=False, zeroline=False, showticklabels=False),\n",
    "#                 yaxis=dict(showgrid=False, zeroline=False, showticklabels=False),\n",
    "#                 height=800)\n",
    "\n",
    "fig.show()"
   ]
  },
  {
   "cell_type": "code",
   "execution_count": 16,
   "metadata": {},
   "outputs": [],
   "source": [
    "ng_set_dict_by_element = {}\n",
    "ng_set = {}\n",
    "for i in range(101):\n",
    "    for j in range(101):\n",
    "        if y_edges[0][i][j] > 0.5:\n",
    "            if j not in ng_set_dict_by_element:\n",
    "                ng_set_dict_by_element[j] = {\"neighbors\":[], \"edge_x\": [], \"edge_y\": []}\n",
    "            if i not in ng_set:\n",
    "                ng_set[i] = []\n",
    "            ng_set_dict_by_element[j][\"neighbors\"].append(i)\n",
    "            ng_set[i].append(j)\n",
    "            x0, y0 = pos[i]\n",
    "            x1, y1 = pos[j]\n",
    "            ng_set_dict_by_element[j][\"edge_x\"].append(x0)\n",
    "            ng_set_dict_by_element[j][\"edge_x\"].append(x1)\n",
    "            ng_set_dict_by_element[j][\"edge_x\"].append(None)\n",
    "            ng_set_dict_by_element[j][\"edge_y\"].append(y0)\n",
    "            ng_set_dict_by_element[j][\"edge_y\"].append(y1)\n",
    "            ng_set_dict_by_element[j][\"edge_y\"].append(None)\n",
    "            G.add_edge(i,j)"
   ]
  },
  {
   "cell_type": "code",
   "execution_count": 17,
   "metadata": {},
   "outputs": [],
   "source": [
    "def getRGBfromI(RGBint):\n",
    "    blue =  RGBint & 255\n",
    "    green = (RGBint >> 8) & 255\n",
    "    red =   (RGBint >> 16) & 255\n",
    "    return red, green, blue"
   ]
  },
  {
   "cell_type": "code",
   "execution_count": 18,
   "metadata": {},
   "outputs": [
    {
     "data": {
      "text/plain": [
       "(2, 135, 181)"
      ]
     },
     "execution_count": 18,
     "metadata": {},
     "output_type": "execute_result"
    }
   ],
   "source": [
    "getRGBfromI(255*255*255//100)"
   ]
  },
  {
   "cell_type": "code",
   "execution_count": 41,
   "metadata": {},
   "outputs": [],
   "source": [
    "edge_trace = []\n",
    "for key, val in ng_set_dict_by_element.items():\n",
    "    edge_x = val[\"edge_x\"]\n",
    "    edge_y = val[\"edge_y\"]\n",
    "    r, g, b = getRGBfromI(key*255*255*255//100)\n",
    "    edge_subtrace = go.Scatter(\n",
    "        x=edge_x, y=edge_y,\n",
    "        # line=dict(width=1, color=\"rgb({},{},{})\".format(r, g, b)),\n",
    "        hoverinfo='none',\n",
    "        # mode='lines',\n",
    "        marker=dict(size=9,symbol= \"arrow-bar-up\", angleref=\"previous\", color=\"rgb({},{},{})\".format(r, g, b))\n",
    "    )\n",
    "    edge_trace.append(edge_subtrace)\n",
    "\n",
    "node_x = []\n",
    "node_y = []\n",
    "for node in G.nodes():\n",
    "    x, y = pos[node]\n",
    "    node_x.append(x)\n",
    "    node_y.append(y)\n",
    "\n",
    "node_trace = go.Scatter(\n",
    "    x=node_x, y=node_y,\n",
    "    mode='markers',\n",
    "    hoverinfo='text',\n",
    "    marker=dict(\n",
    "        showscale=True,\n",
    "        # colorscale options\n",
    "        #'Greys' | 'YlGnBu' | 'Greens' | 'YlOrRd' | 'Bluered' | 'RdBu' |\n",
    "        #'Reds' | 'Blues' | 'Picnic' | 'Rainbow' | 'Portland' | 'Jet' |\n",
    "        #'Hot' | 'Blackbody' | 'Earth' | 'Electric' | 'Viridis' |\n",
    "        colorscale='YlGnBu',\n",
    "        reversescale=True,\n",
    "        color=[],\n",
    "        size=10,\n",
    "        colorbar=dict(\n",
    "            thickness=15,\n",
    "            title='Node Connections',\n",
    "            xanchor='left',\n",
    "            titleside='right'\n",
    "        ),\n",
    "        line_width=2))"
   ]
  },
  {
   "cell_type": "code",
   "execution_count": 42,
   "metadata": {},
   "outputs": [
    {
     "data": {
      "application/vnd.plotly.v1+json": {
       "config": {
        "plotlyServerURL": "https://plot.ly"
       },
       "data": [
        {
         "hoverinfo": "text",
         "marker": {
          "color": [
           0,
           2,
           2,
           2,
           2,
           1,
           1,
           3,
           1,
           1,
           0,
           1,
           1,
           2,
           4,
           1,
           2,
           1,
           3,
           1,
           1,
           1,
           1,
           1,
           1,
           1,
           1,
           1,
           1,
           1,
           2,
           1,
           1,
           2,
           1,
           1,
           1,
           2,
           1,
           1,
           1,
           1,
           2,
           1,
           1,
           3,
           0,
           2,
           1,
           3,
           1,
           1,
           3,
           1,
           1,
           2,
           1,
           1,
           1,
           1,
           2,
           0,
           2,
           1,
           3,
           2,
           1,
           2,
           1,
           2,
           1,
           1,
           1,
           1,
           2,
           1,
           1,
           1,
           2,
           1,
           1,
           2,
           7,
           2,
           1,
           1,
           1,
           1,
           3,
           1,
           2,
           2,
           1,
           1,
           3,
           1,
           1,
           3,
           2,
           3,
           1
          ],
          "colorbar": {
           "thickness": 15,
           "title": {
            "side": "right",
            "text": "Node Connections"
           },
           "xanchor": "left"
          },
          "colorscale": [
           [
            0,
            "rgb(255,255,217)"
           ],
           [
            0.125,
            "rgb(237,248,177)"
           ],
           [
            0.25,
            "rgb(199,233,180)"
           ],
           [
            0.375,
            "rgb(127,205,187)"
           ],
           [
            0.5,
            "rgb(65,182,196)"
           ],
           [
            0.625,
            "rgb(29,145,192)"
           ],
           [
            0.75,
            "rgb(34,94,168)"
           ],
           [
            0.875,
            "rgb(37,52,148)"
           ],
           [
            1,
            "rgb(8,29,88)"
           ]
          ],
          "line": {
           "width": 2
          },
          "reversescale": true,
          "showscale": true,
          "size": 10
         },
         "mode": "markers",
         "text": [
          "Node 0, # of connections: 0",
          "Node 1, # of connections: 2, being neighbor of : [21, 88], NG : [21]",
          "Node 2, # of connections: 2, being neighbor of : [45], NG : [14]",
          "Node 3, # of connections: 2, being neighbor of : [38, 71], NG : [38]",
          "Node 4, # of connections: 2, being neighbor of : [37, 89], NG : [89]",
          "Node 5, # of connections: 1, NG : [52]",
          "Node 6, # of connections: 1, being neighbor of : [90], NG : [90]",
          "Node 7, # of connections: 3, being neighbor of : [11, 65, 66], NG : [11]",
          "Node 8, # of connections: 1, NG : [16]",
          "Node 9, # of connections: 1, NG : [82]",
          "Node 10, # of connections: 0",
          "Node 11, # of connections: 1, being neighbor of : [7], NG : [7]",
          "Node 12, # of connections: 1, being neighbor of : [47], NG : [47]",
          "Node 13, # of connections: 2, being neighbor of : [75], NG : [60]",
          "Node 14, # of connections: 4, being neighbor of : [2, 34, 67], NG : [49]",
          "Node 15, # of connections: 1, NG : [97]",
          "Node 16, # of connections: 2, being neighbor of : [8], NG : [30]",
          "Node 17, # of connections: 1, being neighbor of : [33], NG : [33]",
          "Node 18, # of connections: 3, being neighbor of : [50, 57, 86], NG : [50]",
          "Node 19, # of connections: 1, being neighbor of : [39], NG : [39]",
          "Node 20, # of connections: 1, NG : [78]",
          "Node 21, # of connections: 1, being neighbor of : [1], NG : [1]",
          "Node 22, # of connections: 1, NG : [97]",
          "Node 23, # of connections: 1, NG : [88]",
          "Node 24, # of connections: 1, being neighbor of : [28], NG : [28]",
          "Node 25, # of connections: 1, NG : [64]",
          "Node 26, # of connections: 1, being neighbor of : [44], NG : [44]",
          "Node 27, # of connections: 1, NG : [98]",
          "Node 28, # of connections: 1, being neighbor of : [24], NG : [24]",
          "Node 29, # of connections: 1, NG : [52]",
          "Node 30, # of connections: 2, being neighbor of : [16, 63], NG : [63]",
          "Node 31, # of connections: 1, NG : [33]",
          "Node 32, # of connections: 1, NG : [82]",
          "Node 33, # of connections: 2, being neighbor of : [17, 31], NG : [17]",
          "Node 34, # of connections: 1, NG : [14]",
          "Node 35, # of connections: 1, NG : [64]",
          "Node 36, # of connections: 1, being neighbor of : [78], NG : [78]",
          "Node 37, # of connections: 2, being neighbor of : [95], NG : [4]",
          "Node 38, # of connections: 1, being neighbor of : [3], NG : [3]",
          "Node 39, # of connections: 1, being neighbor of : [19], NG : [19]",
          "Node 40, # of connections: 1, being neighbor of : [58], NG : [58]",
          "Node 41, # of connections: 1, NG : [47]",
          "Node 42, # of connections: 2, being neighbor of : [65, 73], NG : [73]",
          "Node 43, # of connections: 1, NG : [82]",
          "Node 44, # of connections: 1, being neighbor of : [26], NG : [26]",
          "Node 45, # of connections: 3, being neighbor of : [56, 83], NG : [2]",
          "Node 46, # of connections: 0",
          "Node 47, # of connections: 2, being neighbor of : [12, 41], NG : [12]",
          "Node 48, # of connections: 1, NG : [82]",
          "Node 49, # of connections: 3, being neighbor of : [14, 100], NG : [67]",
          "Node 50, # of connections: 1, being neighbor of : [18], NG : [18]",
          "Node 51, # of connections: 1, NG : [82]",
          "Node 52, # of connections: 3, being neighbor of : [5, 29, 80], NG : [80]",
          "Node 53, # of connections: 1, being neighbor of : [64], NG : [64]",
          "Node 54, # of connections: 1, NG : [94]",
          "Node 55, # of connections: 2, being neighbor of : [69, 72], NG : [69]",
          "Node 56, # of connections: 1, NG : [45]",
          "Node 57, # of connections: 1, NG : [18]",
          "Node 58, # of connections: 1, being neighbor of : [40], NG : [40]",
          "Node 59, # of connections: 1, NG : [81]",
          "Node 60, # of connections: 2, being neighbor of : [13, 98], NG : [98]",
          "Node 61, # of connections: 0",
          "Node 62, # of connections: 2, being neighbor of : [76, 77], NG : [77]",
          "Node 63, # of connections: 1, being neighbor of : [30], NG : [30]",
          "Node 64, # of connections: 3, being neighbor of : [25, 35, 53], NG : [53]",
          "Node 65, # of connections: 2, NG : [7, 42]",
          "Node 66, # of connections: 1, NG : [7]",
          "Node 67, # of connections: 2, being neighbor of : [49], NG : [14]",
          "Node 68, # of connections: 1, NG : [83]",
          "Node 69, # of connections: 2, being neighbor of : [55, 96], NG : [55]",
          "Node 70, # of connections: 1, NG : [82]",
          "Node 71, # of connections: 1, NG : [3]",
          "Node 72, # of connections: 1, NG : [55]",
          "Node 73, # of connections: 1, being neighbor of : [42], NG : [42]",
          "Node 74, # of connections: 2, being neighbor of : [87, 91], NG : [91]",
          "Node 75, # of connections: 1, NG : [13]",
          "Node 76, # of connections: 1, NG : [62]",
          "Node 77, # of connections: 1, being neighbor of : [62], NG : [62]",
          "Node 78, # of connections: 2, being neighbor of : [20, 36], NG : [36]",
          "Node 79, # of connections: 1, NG : [94]",
          "Node 80, # of connections: 1, being neighbor of : [52], NG : [52]",
          "Node 81, # of connections: 2, being neighbor of : [59], NG : [99]",
          "Node 82, # of connections: 7, being neighbor of : [9, 32, 43, 48, 51, 70, 93], NG : [93]",
          "Node 83, # of connections: 2, being neighbor of : [68], NG : [45]",
          "Node 84, # of connections: 1, NG : [88]",
          "Node 85, # of connections: 1, NG : [90]",
          "Node 86, # of connections: 1, NG : [18]",
          "Node 87, # of connections: 1, NG : [74]",
          "Node 88, # of connections: 3, being neighbor of : [23, 84], NG : [1]",
          "Node 89, # of connections: 1, being neighbor of : [4], NG : [4]",
          "Node 90, # of connections: 2, being neighbor of : [6, 85], NG : [6]",
          "Node 91, # of connections: 2, being neighbor of : [74, 99], NG : [74]",
          "Node 92, # of connections: 1, being neighbor of : [97], NG : [97]",
          "Node 93, # of connections: 1, being neighbor of : [82], NG : [82]",
          "Node 94, # of connections: 3, being neighbor of : [54, 79], NG : [99]",
          "Node 95, # of connections: 1, NG : [37]",
          "Node 96, # of connections: 1, NG : [69]",
          "Node 97, # of connections: 3, being neighbor of : [15, 22, 92], NG : [92]",
          "Node 98, # of connections: 2, being neighbor of : [27, 60], NG : [60]",
          "Node 99, # of connections: 3, being neighbor of : [81, 94], NG : [91]",
          "Node 100, # of connections: 1, NG : [49]"
         ],
         "type": "scatter",
         "x": [
          25,
          42,
          50,
          47,
          41,
          62,
          58,
          50,
          31,
          45,
          60,
          53,
          57,
          41,
          46,
          39,
          38,
          32,
          49,
          47,
          71,
          41,
          44,
          32,
          39,
          65,
          59,
          27,
          39,
          52,
          39,
          34,
          73,
          29,
          51,
          58,
          62,
          48,
          49,
          55,
          25,
          62,
          43,
          61,
          59,
          45,
          73,
          64,
          49,
          46,
          46,
          53,
          59,
          71,
          38,
          55,
          56,
          50,
          29,
          32,
          41,
          72,
          55,
          38,
          65,
          45,
          55,
          45,
          43,
          54,
          69,
          30,
          67,
          35,
          44,
          30,
          49,
          50,
          60,
          30,
          58,
          41,
          50,
          41,
          54,
          56,
          43,
          52,
          45,
          37,
          65,
          44,
          50,
          55,
          37,
          55,
          50,
          43,
          34,
          39,
          55
         ],
         "y": [
          25,
          40,
          53,
          47,
          55,
          49,
          37,
          42,
          31,
          52,
          72,
          45,
          29,
          49,
          57,
          55,
          34,
          56,
          58,
          35,
          56,
          37,
          53,
          51,
          43,
          67,
          54,
          46,
          38,
          58,
          41,
          69,
          54,
          59,
          49,
          54,
          51,
          57,
          57,
          36,
          48,
          37,
          32,
          55,
          46,
          48,
          35,
          29,
          43,
          59,
          62,
          66,
          56,
          58,
          27,
          40,
          40,
          67,
          46,
          59,
          41,
          73,
          58,
          41,
          60,
          39,
          44,
          58,
          34,
          37,
          66,
          54,
          40,
          34,
          40,
          54,
          52,
          65,
          55,
          36,
          61,
          50,
          53,
          39,
          42,
          66,
          59,
          43,
          41,
          59,
          48,
          42,
          58,
          54,
          37,
          67,
          30,
          61,
          40,
          42,
          61
         ]
        },
        {
         "hoverinfo": "none",
         "marker": {
          "angleref": "previous",
          "color": "rgb(53,33,232)",
          "size": 9,
          "symbol": "arrow-bar-up"
         },
         "type": "scatter",
         "x": [
          42,
          41,
          null
         ],
         "y": [
          40,
          37,
          null
         ]
        },
        {
         "hoverinfo": "none",
         "marker": {
          "angleref": "previous",
          "color": "rgb(35,107,240)",
          "size": 9,
          "symbol": "arrow-bar-up"
         },
         "type": "scatter",
         "x": [
          50,
          46,
          null,
          51,
          46,
          null,
          45,
          46,
          null
         ],
         "y": [
          53,
          57,
          null,
          49,
          57,
          null,
          58,
          57,
          null
         ]
        },
        {
         "hoverinfo": "none",
         "marker": {
          "angleref": "previous",
          "color": "rgb(96,36,250)",
          "size": 9,
          "symbol": "arrow-bar-up"
         },
         "type": "scatter",
         "x": [
          47,
          49,
          null
         ],
         "y": [
          47,
          57,
          null
         ]
        },
        {
         "hoverinfo": "none",
         "marker": {
          "angleref": "previous",
          "color": "rgb(225,46,47)",
          "size": 9,
          "symbol": "arrow-bar-up"
         },
         "type": "scatter",
         "x": [
          41,
          37,
          null
         ],
         "y": [
          55,
          59,
          null
         ]
        },
        {
         "hoverinfo": "none",
         "marker": {
          "angleref": "previous",
          "color": "rgb(131,144,235)",
          "size": 9,
          "symbol": "arrow-bar-up"
         },
         "type": "scatter",
         "x": [
          62,
          59,
          null,
          52,
          59,
          null,
          58,
          59,
          null
         ],
         "y": [
          49,
          56,
          null,
          58,
          56,
          null,
          61,
          56,
          null
         ]
        },
        {
         "hoverinfo": "none",
         "marker": {
          "angleref": "previous",
          "color": "rgb(227,181,229)",
          "size": 9,
          "symbol": "arrow-bar-up"
         },
         "type": "scatter",
         "x": [
          58,
          65,
          null,
          56,
          65,
          null
         ],
         "y": [
          37,
          48,
          null,
          66,
          48,
          null
         ]
        },
        {
         "hoverinfo": "none",
         "marker": {
          "angleref": "previous",
          "color": "rgb(27,212,207)",
          "size": 9,
          "symbol": "arrow-bar-up"
         },
         "type": "scatter",
         "x": [
          50,
          53,
          null
         ],
         "y": [
          42,
          45,
          null
         ]
        },
        {
         "hoverinfo": "none",
         "marker": {
          "angleref": "previous",
          "color": "rgb(40,123,92)",
          "size": 9,
          "symbol": "arrow-bar-up"
         },
         "type": "scatter",
         "x": [
          31,
          38,
          null
         ],
         "y": [
          31,
          34,
          null
         ]
        },
        {
         "hoverinfo": "none",
         "marker": {
          "angleref": "previous",
          "color": "rgb(207,120,55)",
          "size": 9,
          "symbol": "arrow-bar-up"
         },
         "type": "scatter",
         "x": [
          45,
          50,
          null,
          73,
          50,
          null,
          61,
          50,
          null,
          49,
          50,
          null,
          53,
          50,
          null,
          69,
          50,
          null,
          55,
          50,
          null
         ],
         "y": [
          52,
          53,
          null,
          54,
          53,
          null,
          55,
          53,
          null,
          43,
          53,
          null,
          66,
          53,
          null,
          66,
          53,
          null,
          54,
          53,
          null
         ]
        },
        {
         "hoverinfo": "none",
         "marker": {
          "angleref": "previous",
          "color": "rgb(17,181,248)",
          "size": 9,
          "symbol": "arrow-bar-up"
         },
         "type": "scatter",
         "x": [
          53,
          50,
          null,
          45,
          50,
          null,
          55,
          50,
          null
         ],
         "y": [
          45,
          42,
          null,
          39,
          42,
          null,
          44,
          42,
          null
         ]
        },
        {
         "hoverinfo": "none",
         "marker": {
          "angleref": "previous",
          "color": "rgb(118,234,94)",
          "size": 9,
          "symbol": "arrow-bar-up"
         },
         "type": "scatter",
         "x": [
          57,
          64,
          null,
          62,
          64,
          null
         ],
         "y": [
          29,
          29,
          null,
          37,
          29,
          null
         ]
        },
        {
         "hoverinfo": "none",
         "marker": {
          "angleref": "previous",
          "color": "rgb(151,206,153)",
          "size": 9,
          "symbol": "arrow-bar-up"
         },
         "type": "scatter",
         "x": [
          41,
          41,
          null,
          34,
          41,
          null
         ],
         "y": [
          49,
          41,
          null,
          40,
          41,
          null
         ]
        },
        {
         "hoverinfo": "none",
         "marker": {
          "angleref": "previous",
          "color": "rgb(123,249,201)",
          "size": 9,
          "symbol": "arrow-bar-up"
         },
         "type": "scatter",
         "x": [
          46,
          46,
          null,
          55,
          46,
          null
         ],
         "y": [
          57,
          59,
          null,
          61,
          59,
          null
         ]
        },
        {
         "hoverinfo": "none",
         "marker": {
          "angleref": "previous",
          "color": "rgb(245,107,221)",
          "size": 9,
          "symbol": "arrow-bar-up"
         },
         "type": "scatter",
         "x": [
          39,
          43,
          null,
          44,
          43,
          null,
          50,
          43,
          null
         ],
         "y": [
          55,
          61,
          null,
          53,
          61,
          null,
          58,
          61,
          null
         ]
        },
        {
         "hoverinfo": "none",
         "marker": {
          "angleref": "previous",
          "color": "rgb(75,231,76)",
          "size": 9,
          "symbol": "arrow-bar-up"
         },
         "type": "scatter",
         "x": [
          38,
          39,
          null,
          38,
          39,
          null
         ],
         "y": [
          34,
          41,
          null,
          41,
          41,
          null
         ]
        },
        {
         "hoverinfo": "none",
         "marker": {
          "angleref": "previous",
          "color": "rgb(83,126,109)",
          "size": 9,
          "symbol": "arrow-bar-up"
         },
         "type": "scatter",
         "x": [
          32,
          29,
          null,
          34,
          29,
          null
         ],
         "y": [
          56,
          59,
          null,
          69,
          59,
          null
         ]
        },
        {
         "hoverinfo": "none",
         "marker": {
          "angleref": "previous",
          "color": "rgb(126,129,127)",
          "size": 9,
          "symbol": "arrow-bar-up"
         },
         "type": "scatter",
         "x": [
          49,
          46,
          null
         ],
         "y": [
          58,
          62,
          null
         ]
        },
        {
         "hoverinfo": "none",
         "marker": {
          "angleref": "previous",
          "color": "rgb(98,172,176)",
          "size": 9,
          "symbol": "arrow-bar-up"
         },
         "type": "scatter",
         "x": [
          47,
          55,
          null
         ],
         "y": [
          35,
          36,
          null
         ]
        },
        {
         "hoverinfo": "none",
         "marker": {
          "angleref": "previous",
          "color": "rgb(197,89,96)",
          "size": 9,
          "symbol": "arrow-bar-up"
         },
         "type": "scatter",
         "x": [
          71,
          60,
          null,
          62,
          60,
          null
         ],
         "y": [
          56,
          55,
          null,
          51,
          55,
          null
         ]
        },
        {
         "hoverinfo": "none",
         "marker": {
          "angleref": "previous",
          "color": "rgb(2,135,181)",
          "size": 9,
          "symbol": "arrow-bar-up"
         },
         "type": "scatter",
         "x": [
          41,
          42,
          null,
          45,
          42,
          null
         ],
         "y": [
          37,
          40,
          null,
          41,
          40,
          null
         ]
        },
        {
         "hoverinfo": "none",
         "marker": {
          "angleref": "previous",
          "color": "rgb(222,166,122)",
          "size": 9,
          "symbol": "arrow-bar-up"
         },
         "type": "scatter",
         "x": [
          32,
          45,
          null,
          54,
          45,
          null
         ],
         "y": [
          51,
          41,
          null,
          42,
          41,
          null
         ]
        },
        {
         "hoverinfo": "none",
         "marker": {
          "angleref": "previous",
          "color": "rgb(70,215,225)",
          "size": 9,
          "symbol": "arrow-bar-up"
         },
         "type": "scatter",
         "x": [
          39,
          39,
          null
         ],
         "y": [
          43,
          38,
          null
         ]
        },
        {
         "hoverinfo": "none",
         "marker": {
          "angleref": "previous",
          "color": "rgb(161,237,112)",
          "size": 9,
          "symbol": "arrow-bar-up"
         },
         "type": "scatter",
         "x": [
          65,
          65,
          null,
          58,
          65,
          null,
          71,
          65,
          null
         ],
         "y": [
          67,
          60,
          null,
          54,
          60,
          null,
          58,
          60,
          null
         ]
        },
        {
         "hoverinfo": "none",
         "marker": {
          "angleref": "previous",
          "color": "rgb(111,83,61)",
          "size": 9,
          "symbol": "arrow-bar-up"
         },
         "type": "scatter",
         "x": [
          59,
          59,
          null
         ],
         "y": [
          54,
          46,
          null
         ]
        },
        {
         "hoverinfo": "none",
         "marker": {
          "angleref": "previous",
          "color": "rgb(247,243,147)",
          "size": 9,
          "symbol": "arrow-bar-up"
         },
         "type": "scatter",
         "x": [
          27,
          34,
          null,
          41,
          34,
          null
         ],
         "y": [
          46,
          40,
          null,
          41,
          40,
          null
         ]
        },
        {
         "hoverinfo": "none",
         "marker": {
          "angleref": "previous",
          "color": "rgb(60,185,10)",
          "size": 9,
          "symbol": "arrow-bar-up"
         },
         "type": "scatter",
         "x": [
          39,
          39,
          null
         ],
         "y": [
          38,
          43,
          null
         ]
        },
        {
         "hoverinfo": "none",
         "marker": {
          "angleref": "previous",
          "color": "rgb(159,101,186)",
          "size": 9,
          "symbol": "arrow-bar-up"
         },
         "type": "scatter",
         "x": [
          39,
          38,
          null
         ],
         "y": [
          41,
          41,
          null
         ]
        },
        {
         "hoverinfo": "none",
         "marker": {
          "angleref": "previous",
          "color": "rgb(43,3,17)",
          "size": 9,
          "symbol": "arrow-bar-up"
         },
         "type": "scatter",
         "x": [
          29,
          32,
          null
         ],
         "y": [
          59,
          56,
          null
         ]
        },
        {
         "hoverinfo": "none",
         "marker": {
          "angleref": "previous",
          "color": "rgb(10,30,215)",
          "size": 9,
          "symbol": "arrow-bar-up"
         },
         "type": "scatter",
         "x": [
          48,
          41,
          null,
          37,
          41,
          null
         ],
         "y": [
          57,
          55,
          null,
          59,
          55,
          null
         ]
        },
        {
         "hoverinfo": "none",
         "marker": {
          "angleref": "previous",
          "color": "rgb(7,151,33)",
          "size": 9,
          "symbol": "arrow-bar-up"
         },
         "type": "scatter",
         "x": [
          49,
          47,
          null,
          30,
          47,
          null
         ],
         "y": [
          57,
          47,
          null,
          54,
          47,
          null
         ]
        },
        {
         "hoverinfo": "none",
         "marker": {
          "angleref": "previous",
          "color": "rgb(48,18,125)",
          "size": 9,
          "symbol": "arrow-bar-up"
         },
         "type": "scatter",
         "x": [
          55,
          47,
          null
         ],
         "y": [
          36,
          35,
          null
         ]
        },
        {
         "hoverinfo": "none",
         "marker": {
          "angleref": "previous",
          "color": "rgb(146,191,45)",
          "size": 9,
          "symbol": "arrow-bar-up"
         },
         "type": "scatter",
         "x": [
          25,
          29,
          null
         ],
         "y": [
          48,
          46,
          null
         ]
        },
        {
         "hoverinfo": "none",
         "marker": {
          "angleref": "previous",
          "color": "rgb(184,178,211)",
          "size": 9,
          "symbol": "arrow-bar-up"
         },
         "type": "scatter",
         "x": [
          43,
          35,
          null
         ],
         "y": [
          32,
          34,
          null
         ]
        },
        {
         "hoverinfo": "none",
         "marker": {
          "angleref": "previous",
          "color": "rgb(65,200,117)",
          "size": 9,
          "symbol": "arrow-bar-up"
         },
         "type": "scatter",
         "x": [
          59,
          59,
          null
         ],
         "y": [
          46,
          54,
          null
         ]
        },
        {
         "hoverinfo": "none",
         "marker": {
          "angleref": "previous",
          "color": "rgb(5,15,107)",
          "size": 9,
          "symbol": "arrow-bar-up"
         },
         "type": "scatter",
         "x": [
          45,
          50,
          null
         ],
         "y": [
          48,
          53,
          null
         ]
        },
        {
         "hoverinfo": "none",
         "marker": {
          "angleref": "previous",
          "color": "rgb(30,92,133)",
          "size": 9,
          "symbol": "arrow-bar-up"
         },
         "type": "scatter",
         "x": [
          64,
          57,
          null
         ],
         "y": [
          29,
          29,
          null
         ]
        },
        {
         "hoverinfo": "none",
         "marker": {
          "angleref": "previous",
          "color": "rgb(169,132,145)",
          "size": 9,
          "symbol": "arrow-bar-up"
         },
         "type": "scatter",
         "x": [
          46,
          45,
          null
         ],
         "y": [
          59,
          58,
          null
         ]
        },
        {
         "hoverinfo": "none",
         "marker": {
          "angleref": "previous",
          "color": "rgb(45,138,199)",
          "size": 9,
          "symbol": "arrow-bar-up"
         },
         "type": "scatter",
         "x": [
          46,
          49,
          null,
          50,
          49,
          null,
          43,
          49,
          null
         ],
         "y": [
          62,
          58,
          null,
          67,
          58,
          null,
          59,
          58,
          null
         ]
        },
        {
         "hoverinfo": "none",
         "marker": {
          "angleref": "previous",
          "color": "rgb(202,104,204)",
          "size": 9,
          "symbol": "arrow-bar-up"
         },
         "type": "scatter",
         "x": [
          59,
          58,
          null
         ],
         "y": [
          56,
          61,
          null
         ]
        },
        {
         "hoverinfo": "none",
         "marker": {
          "angleref": "previous",
          "color": "rgb(237,212,188)",
          "size": 9,
          "symbol": "arrow-bar-up"
         },
         "type": "scatter",
         "x": [
          38,
          37,
          null,
          30,
          37,
          null
         ],
         "y": [
          27,
          37,
          null,
          36,
          37,
          null
         ]
        },
        {
         "hoverinfo": "none",
         "marker": {
          "angleref": "previous",
          "color": "rgb(174,147,252)",
          "size": 9,
          "symbol": "arrow-bar-up"
         },
         "type": "scatter",
         "x": [
          55,
          54,
          null,
          50,
          54,
          null
         ],
         "y": [
          40,
          37,
          null,
          30,
          37,
          null
         ]
        },
        {
         "hoverinfo": "none",
         "marker": {
          "angleref": "previous",
          "color": "rgb(113,218,242)",
          "size": 9,
          "symbol": "arrow-bar-up"
         },
         "type": "scatter",
         "x": [
          56,
          45,
          null,
          41,
          45,
          null
         ],
         "y": [
          40,
          48,
          null,
          39,
          48,
          null
         ]
        },
        {
         "hoverinfo": "none",
         "marker": {
          "angleref": "previous",
          "color": "rgb(101,52,102)",
          "size": 9,
          "symbol": "arrow-bar-up"
         },
         "type": "scatter",
         "x": [
          29,
          25,
          null
         ],
         "y": [
          46,
          48,
          null
         ]
        },
        {
         "hoverinfo": "none",
         "marker": {
          "angleref": "previous",
          "color": "rgb(204,240,129)",
          "size": 9,
          "symbol": "arrow-bar-up"
         },
         "type": "scatter",
         "x": [
          32,
          41,
          null
         ],
         "y": [
          59,
          50,
          null
         ]
        },
        {
         "hoverinfo": "none",
         "marker": {
          "angleref": "previous",
          "color": "rgb(194,209,170)",
          "size": 9,
          "symbol": "arrow-bar-up"
         },
         "type": "scatter",
         "x": [
          55,
          50,
          null
         ],
         "y": [
          58,
          65,
          null
         ]
        },
        {
         "hoverinfo": "none",
         "marker": {
          "angleref": "previous",
          "color": "rgb(134,24,160)",
          "size": 9,
          "symbol": "arrow-bar-up"
         },
         "type": "scatter",
         "x": [
          65,
          71,
          null
         ],
         "y": [
          60,
          58,
          null
         ]
        },
        {
         "hoverinfo": "none",
         "marker": {
          "angleref": "previous",
          "color": "rgb(106,67,209)",
          "size": 9,
          "symbol": "arrow-bar-up"
         },
         "type": "scatter",
         "x": [
          45,
          43,
          null,
          35,
          43,
          null
         ],
         "y": [
          39,
          32,
          null,
          34,
          32,
          null
         ]
        },
        {
         "hoverinfo": "none",
         "marker": {
          "angleref": "previous",
          "color": "rgb(209,255,237)",
          "size": 9,
          "symbol": "arrow-bar-up"
         },
         "type": "scatter",
         "x": [
          43,
          41,
          null
         ],
         "y": [
          34,
          39,
          null
         ]
        },
        {
         "hoverinfo": "none",
         "marker": {
          "angleref": "previous",
          "color": "rgb(139,40,12)",
          "size": 9,
          "symbol": "arrow-bar-up"
         },
         "type": "scatter",
         "x": [
          54,
          55,
          null,
          67,
          55,
          null
         ],
         "y": [
          37,
          40,
          null,
          40,
          40,
          null
         ]
        },
        {
         "hoverinfo": "none",
         "marker": {
          "angleref": "previous",
          "color": "rgb(230,61,155)",
          "size": 9,
          "symbol": "arrow-bar-up"
         },
         "type": "scatter",
         "x": [
          44,
          44,
          null,
          39,
          44,
          null
         ],
         "y": [
          40,
          42,
          null,
          42,
          42,
          null
         ]
        },
        {
         "hoverinfo": "none",
         "marker": {
          "angleref": "previous",
          "color": "rgb(32,228,58)",
          "size": 9,
          "symbol": "arrow-bar-up"
         },
         "type": "scatter",
         "x": [
          30,
          41,
          null
         ],
         "y": [
          54,
          49,
          null
         ]
        },
        {
         "hoverinfo": "none",
         "marker": {
          "angleref": "previous",
          "color": "rgb(156,222,4)",
          "size": 9,
          "symbol": "arrow-bar-up"
         },
         "type": "scatter",
         "x": [
          49,
          55,
          null,
          50,
          55,
          null
         ],
         "y": [
          52,
          58,
          null,
          65,
          58,
          null
         ]
        },
        {
         "hoverinfo": "none",
         "marker": {
          "angleref": "previous",
          "color": "rgb(91,21,143)",
          "size": 9,
          "symbol": "arrow-bar-up"
         },
         "type": "scatter",
         "x": [
          60,
          62,
          null
         ],
         "y": [
          55,
          51,
          null
         ]
        },
        {
         "hoverinfo": "none",
         "marker": {
          "angleref": "previous",
          "color": "rgb(250,123,73)",
          "size": 9,
          "symbol": "arrow-bar-up"
         },
         "type": "scatter",
         "x": [
          41,
          39,
          null,
          37,
          39,
          null
         ],
         "y": [
          50,
          42,
          null,
          37,
          42,
          null
         ]
        },
        {
         "hoverinfo": "none",
         "marker": {
          "angleref": "previous",
          "color": "rgb(235,77,6)",
          "size": 9,
          "symbol": "arrow-bar-up"
         },
         "type": "scatter",
         "x": [
          50,
          55,
          null
         ],
         "y": [
          53,
          54,
          null
         ]
        },
        {
         "hoverinfo": "none",
         "marker": {
          "angleref": "previous",
          "color": "rgb(187,58,137)",
          "size": 9,
          "symbol": "arrow-bar-up"
         },
         "type": "scatter",
         "x": [
          52,
          44,
          null,
          44,
          44,
          null
         ],
         "y": [
          43,
          40,
          null,
          42,
          40,
          null
         ]
        },
        {
         "hoverinfo": "none",
         "marker": {
          "angleref": "previous",
          "color": "rgb(15,46,66)",
          "size": 9,
          "symbol": "arrow-bar-up"
         },
         "type": "scatter",
         "x": [
          65,
          58,
          null
         ],
         "y": [
          48,
          37,
          null
         ]
        },
        {
         "hoverinfo": "none",
         "marker": {
          "angleref": "previous",
          "color": "rgb(93,157,68)",
          "size": 9,
          "symbol": "arrow-bar-up"
         },
         "type": "scatter",
         "x": [
          55,
          48,
          null
         ],
         "y": [
          67,
          57,
          null
         ]
        },
        {
         "hoverinfo": "none",
         "marker": {
          "angleref": "previous",
          "color": "rgb(232,197,81)",
          "size": 9,
          "symbol": "arrow-bar-up"
         },
         "type": "scatter",
         "x": [
          43,
          50,
          null
         ],
         "y": [
          61,
          58,
          null
         ]
        }
       ],
       "layout": {
        "annotations": [
         {
          "showarrow": false,
          "text": "Python code: <a href='https://plotly.com/ipython-notebooks/network-graphs/'> https://plotly.com/ipython-notebooks/network-graphs/</a>",
          "x": 0.005,
          "xref": "paper",
          "y": -0.002,
          "yref": "paper"
         }
        ],
        "height": 800,
        "hovermode": "closest",
        "margin": {
         "b": 20,
         "l": 5,
         "r": 5,
         "t": 40
        },
        "showlegend": false,
        "template": {
         "data": {
          "bar": [
           {
            "error_x": {
             "color": "#2a3f5f"
            },
            "error_y": {
             "color": "#2a3f5f"
            },
            "marker": {
             "line": {
              "color": "#E5ECF6",
              "width": 0.5
             },
             "pattern": {
              "fillmode": "overlay",
              "size": 10,
              "solidity": 0.2
             }
            },
            "type": "bar"
           }
          ],
          "barpolar": [
           {
            "marker": {
             "line": {
              "color": "#E5ECF6",
              "width": 0.5
             },
             "pattern": {
              "fillmode": "overlay",
              "size": 10,
              "solidity": 0.2
             }
            },
            "type": "barpolar"
           }
          ],
          "carpet": [
           {
            "aaxis": {
             "endlinecolor": "#2a3f5f",
             "gridcolor": "white",
             "linecolor": "white",
             "minorgridcolor": "white",
             "startlinecolor": "#2a3f5f"
            },
            "baxis": {
             "endlinecolor": "#2a3f5f",
             "gridcolor": "white",
             "linecolor": "white",
             "minorgridcolor": "white",
             "startlinecolor": "#2a3f5f"
            },
            "type": "carpet"
           }
          ],
          "choropleth": [
           {
            "colorbar": {
             "outlinewidth": 0,
             "ticks": ""
            },
            "type": "choropleth"
           }
          ],
          "contour": [
           {
            "colorbar": {
             "outlinewidth": 0,
             "ticks": ""
            },
            "colorscale": [
             [
              0,
              "#0d0887"
             ],
             [
              0.1111111111111111,
              "#46039f"
             ],
             [
              0.2222222222222222,
              "#7201a8"
             ],
             [
              0.3333333333333333,
              "#9c179e"
             ],
             [
              0.4444444444444444,
              "#bd3786"
             ],
             [
              0.5555555555555556,
              "#d8576b"
             ],
             [
              0.6666666666666666,
              "#ed7953"
             ],
             [
              0.7777777777777778,
              "#fb9f3a"
             ],
             [
              0.8888888888888888,
              "#fdca26"
             ],
             [
              1,
              "#f0f921"
             ]
            ],
            "type": "contour"
           }
          ],
          "contourcarpet": [
           {
            "colorbar": {
             "outlinewidth": 0,
             "ticks": ""
            },
            "type": "contourcarpet"
           }
          ],
          "heatmap": [
           {
            "colorbar": {
             "outlinewidth": 0,
             "ticks": ""
            },
            "colorscale": [
             [
              0,
              "#0d0887"
             ],
             [
              0.1111111111111111,
              "#46039f"
             ],
             [
              0.2222222222222222,
              "#7201a8"
             ],
             [
              0.3333333333333333,
              "#9c179e"
             ],
             [
              0.4444444444444444,
              "#bd3786"
             ],
             [
              0.5555555555555556,
              "#d8576b"
             ],
             [
              0.6666666666666666,
              "#ed7953"
             ],
             [
              0.7777777777777778,
              "#fb9f3a"
             ],
             [
              0.8888888888888888,
              "#fdca26"
             ],
             [
              1,
              "#f0f921"
             ]
            ],
            "type": "heatmap"
           }
          ],
          "heatmapgl": [
           {
            "colorbar": {
             "outlinewidth": 0,
             "ticks": ""
            },
            "colorscale": [
             [
              0,
              "#0d0887"
             ],
             [
              0.1111111111111111,
              "#46039f"
             ],
             [
              0.2222222222222222,
              "#7201a8"
             ],
             [
              0.3333333333333333,
              "#9c179e"
             ],
             [
              0.4444444444444444,
              "#bd3786"
             ],
             [
              0.5555555555555556,
              "#d8576b"
             ],
             [
              0.6666666666666666,
              "#ed7953"
             ],
             [
              0.7777777777777778,
              "#fb9f3a"
             ],
             [
              0.8888888888888888,
              "#fdca26"
             ],
             [
              1,
              "#f0f921"
             ]
            ],
            "type": "heatmapgl"
           }
          ],
          "histogram": [
           {
            "marker": {
             "pattern": {
              "fillmode": "overlay",
              "size": 10,
              "solidity": 0.2
             }
            },
            "type": "histogram"
           }
          ],
          "histogram2d": [
           {
            "colorbar": {
             "outlinewidth": 0,
             "ticks": ""
            },
            "colorscale": [
             [
              0,
              "#0d0887"
             ],
             [
              0.1111111111111111,
              "#46039f"
             ],
             [
              0.2222222222222222,
              "#7201a8"
             ],
             [
              0.3333333333333333,
              "#9c179e"
             ],
             [
              0.4444444444444444,
              "#bd3786"
             ],
             [
              0.5555555555555556,
              "#d8576b"
             ],
             [
              0.6666666666666666,
              "#ed7953"
             ],
             [
              0.7777777777777778,
              "#fb9f3a"
             ],
             [
              0.8888888888888888,
              "#fdca26"
             ],
             [
              1,
              "#f0f921"
             ]
            ],
            "type": "histogram2d"
           }
          ],
          "histogram2dcontour": [
           {
            "colorbar": {
             "outlinewidth": 0,
             "ticks": ""
            },
            "colorscale": [
             [
              0,
              "#0d0887"
             ],
             [
              0.1111111111111111,
              "#46039f"
             ],
             [
              0.2222222222222222,
              "#7201a8"
             ],
             [
              0.3333333333333333,
              "#9c179e"
             ],
             [
              0.4444444444444444,
              "#bd3786"
             ],
             [
              0.5555555555555556,
              "#d8576b"
             ],
             [
              0.6666666666666666,
              "#ed7953"
             ],
             [
              0.7777777777777778,
              "#fb9f3a"
             ],
             [
              0.8888888888888888,
              "#fdca26"
             ],
             [
              1,
              "#f0f921"
             ]
            ],
            "type": "histogram2dcontour"
           }
          ],
          "mesh3d": [
           {
            "colorbar": {
             "outlinewidth": 0,
             "ticks": ""
            },
            "type": "mesh3d"
           }
          ],
          "parcoords": [
           {
            "line": {
             "colorbar": {
              "outlinewidth": 0,
              "ticks": ""
             }
            },
            "type": "parcoords"
           }
          ],
          "pie": [
           {
            "automargin": true,
            "type": "pie"
           }
          ],
          "scatter": [
           {
            "fillpattern": {
             "fillmode": "overlay",
             "size": 10,
             "solidity": 0.2
            },
            "type": "scatter"
           }
          ],
          "scatter3d": [
           {
            "line": {
             "colorbar": {
              "outlinewidth": 0,
              "ticks": ""
             }
            },
            "marker": {
             "colorbar": {
              "outlinewidth": 0,
              "ticks": ""
             }
            },
            "type": "scatter3d"
           }
          ],
          "scattercarpet": [
           {
            "marker": {
             "colorbar": {
              "outlinewidth": 0,
              "ticks": ""
             }
            },
            "type": "scattercarpet"
           }
          ],
          "scattergeo": [
           {
            "marker": {
             "colorbar": {
              "outlinewidth": 0,
              "ticks": ""
             }
            },
            "type": "scattergeo"
           }
          ],
          "scattergl": [
           {
            "marker": {
             "colorbar": {
              "outlinewidth": 0,
              "ticks": ""
             }
            },
            "type": "scattergl"
           }
          ],
          "scattermapbox": [
           {
            "marker": {
             "colorbar": {
              "outlinewidth": 0,
              "ticks": ""
             }
            },
            "type": "scattermapbox"
           }
          ],
          "scatterpolar": [
           {
            "marker": {
             "colorbar": {
              "outlinewidth": 0,
              "ticks": ""
             }
            },
            "type": "scatterpolar"
           }
          ],
          "scatterpolargl": [
           {
            "marker": {
             "colorbar": {
              "outlinewidth": 0,
              "ticks": ""
             }
            },
            "type": "scatterpolargl"
           }
          ],
          "scatterternary": [
           {
            "marker": {
             "colorbar": {
              "outlinewidth": 0,
              "ticks": ""
             }
            },
            "type": "scatterternary"
           }
          ],
          "surface": [
           {
            "colorbar": {
             "outlinewidth": 0,
             "ticks": ""
            },
            "colorscale": [
             [
              0,
              "#0d0887"
             ],
             [
              0.1111111111111111,
              "#46039f"
             ],
             [
              0.2222222222222222,
              "#7201a8"
             ],
             [
              0.3333333333333333,
              "#9c179e"
             ],
             [
              0.4444444444444444,
              "#bd3786"
             ],
             [
              0.5555555555555556,
              "#d8576b"
             ],
             [
              0.6666666666666666,
              "#ed7953"
             ],
             [
              0.7777777777777778,
              "#fb9f3a"
             ],
             [
              0.8888888888888888,
              "#fdca26"
             ],
             [
              1,
              "#f0f921"
             ]
            ],
            "type": "surface"
           }
          ],
          "table": [
           {
            "cells": {
             "fill": {
              "color": "#EBF0F8"
             },
             "line": {
              "color": "white"
             }
            },
            "header": {
             "fill": {
              "color": "#C8D4E3"
             },
             "line": {
              "color": "white"
             }
            },
            "type": "table"
           }
          ]
         },
         "layout": {
          "annotationdefaults": {
           "arrowcolor": "#2a3f5f",
           "arrowhead": 0,
           "arrowwidth": 1
          },
          "autotypenumbers": "strict",
          "coloraxis": {
           "colorbar": {
            "outlinewidth": 0,
            "ticks": ""
           }
          },
          "colorscale": {
           "diverging": [
            [
             0,
             "#8e0152"
            ],
            [
             0.1,
             "#c51b7d"
            ],
            [
             0.2,
             "#de77ae"
            ],
            [
             0.3,
             "#f1b6da"
            ],
            [
             0.4,
             "#fde0ef"
            ],
            [
             0.5,
             "#f7f7f7"
            ],
            [
             0.6,
             "#e6f5d0"
            ],
            [
             0.7,
             "#b8e186"
            ],
            [
             0.8,
             "#7fbc41"
            ],
            [
             0.9,
             "#4d9221"
            ],
            [
             1,
             "#276419"
            ]
           ],
           "sequential": [
            [
             0,
             "#0d0887"
            ],
            [
             0.1111111111111111,
             "#46039f"
            ],
            [
             0.2222222222222222,
             "#7201a8"
            ],
            [
             0.3333333333333333,
             "#9c179e"
            ],
            [
             0.4444444444444444,
             "#bd3786"
            ],
            [
             0.5555555555555556,
             "#d8576b"
            ],
            [
             0.6666666666666666,
             "#ed7953"
            ],
            [
             0.7777777777777778,
             "#fb9f3a"
            ],
            [
             0.8888888888888888,
             "#fdca26"
            ],
            [
             1,
             "#f0f921"
            ]
           ],
           "sequentialminus": [
            [
             0,
             "#0d0887"
            ],
            [
             0.1111111111111111,
             "#46039f"
            ],
            [
             0.2222222222222222,
             "#7201a8"
            ],
            [
             0.3333333333333333,
             "#9c179e"
            ],
            [
             0.4444444444444444,
             "#bd3786"
            ],
            [
             0.5555555555555556,
             "#d8576b"
            ],
            [
             0.6666666666666666,
             "#ed7953"
            ],
            [
             0.7777777777777778,
             "#fb9f3a"
            ],
            [
             0.8888888888888888,
             "#fdca26"
            ],
            [
             1,
             "#f0f921"
            ]
           ]
          },
          "colorway": [
           "#636efa",
           "#EF553B",
           "#00cc96",
           "#ab63fa",
           "#FFA15A",
           "#19d3f3",
           "#FF6692",
           "#B6E880",
           "#FF97FF",
           "#FECB52"
          ],
          "font": {
           "color": "#2a3f5f"
          },
          "geo": {
           "bgcolor": "white",
           "lakecolor": "white",
           "landcolor": "#E5ECF6",
           "showlakes": true,
           "showland": true,
           "subunitcolor": "white"
          },
          "hoverlabel": {
           "align": "left"
          },
          "hovermode": "closest",
          "mapbox": {
           "style": "light"
          },
          "paper_bgcolor": "white",
          "plot_bgcolor": "#E5ECF6",
          "polar": {
           "angularaxis": {
            "gridcolor": "white",
            "linecolor": "white",
            "ticks": ""
           },
           "bgcolor": "#E5ECF6",
           "radialaxis": {
            "gridcolor": "white",
            "linecolor": "white",
            "ticks": ""
           }
          },
          "scene": {
           "xaxis": {
            "backgroundcolor": "#E5ECF6",
            "gridcolor": "white",
            "gridwidth": 2,
            "linecolor": "white",
            "showbackground": true,
            "ticks": "",
            "zerolinecolor": "white"
           },
           "yaxis": {
            "backgroundcolor": "#E5ECF6",
            "gridcolor": "white",
            "gridwidth": 2,
            "linecolor": "white",
            "showbackground": true,
            "ticks": "",
            "zerolinecolor": "white"
           },
           "zaxis": {
            "backgroundcolor": "#E5ECF6",
            "gridcolor": "white",
            "gridwidth": 2,
            "linecolor": "white",
            "showbackground": true,
            "ticks": "",
            "zerolinecolor": "white"
           }
          },
          "shapedefaults": {
           "line": {
            "color": "#2a3f5f"
           }
          },
          "ternary": {
           "aaxis": {
            "gridcolor": "white",
            "linecolor": "white",
            "ticks": ""
           },
           "baxis": {
            "gridcolor": "white",
            "linecolor": "white",
            "ticks": ""
           },
           "bgcolor": "#E5ECF6",
           "caxis": {
            "gridcolor": "white",
            "linecolor": "white",
            "ticks": ""
           }
          },
          "title": {
           "x": 0.05
          },
          "xaxis": {
           "automargin": true,
           "gridcolor": "white",
           "linecolor": "white",
           "ticks": "",
           "title": {
            "standoff": 15
           },
           "zerolinecolor": "white",
           "zerolinewidth": 2
          },
          "yaxis": {
           "automargin": true,
           "gridcolor": "white",
           "linecolor": "white",
           "ticks": "",
           "title": {
            "standoff": 15
           },
           "zerolinecolor": "white",
           "zerolinewidth": 2
          }
         }
        },
        "title": {
         "font": {
          "size": 16
         },
         "text": "<br>Ng-Neighborhoods as a graph"
        },
        "xaxis": {
         "showgrid": false,
         "showticklabels": false,
         "zeroline": false
        },
        "yaxis": {
         "showgrid": false,
         "showticklabels": false,
         "zeroline": false
        }
       }
      }
     },
     "metadata": {},
     "output_type": "display_data"
    }
   ],
   "source": [
    "node_adjacencies = []\n",
    "node_text = []\n",
    "for node, adjacencies in enumerate(G.adjacency()):\n",
    "    node_adjacencies.append(len(adjacencies[1]))\n",
    "    node_text.append('Node '+str(node)+', # of connections: '+str(len(adjacencies[1]))+(\", being neighbor of : \"+str(ng_set_dict_by_element[node][\"neighbors\"]) if node in ng_set_dict_by_element else \"\") + (\", NG : \"+str(ng_set[node]) if node in ng_set else \"\"))\n",
    "\n",
    "node_trace.marker.color = node_adjacencies\n",
    "node_trace.text = node_text\n",
    "\n",
    "fig2 = go.Figure(data=[node_trace],\n",
    "             layout=go.Layout(\n",
    "                title='<br>Ng-Neighborhoods as a graph',\n",
    "                titlefont_size=16,\n",
    "                showlegend=False,\n",
    "                hovermode='closest',\n",
    "                margin=dict(b=20,l=5,r=5,t=40),\n",
    "                annotations=[ dict(\n",
    "                    text=\"Python code: <a href='https://plotly.com/ipython-notebooks/network-graphs/'> https://plotly.com/ipython-notebooks/network-graphs/</a>\",\n",
    "                    showarrow=False,\n",
    "                    xref=\"paper\", yref=\"paper\",\n",
    "                    x=0.005, y=-0.002 ) ],\n",
    "                xaxis=dict(showgrid=False, zeroline=False, showticklabels=False),\n",
    "                yaxis=dict(showgrid=False, zeroline=False, showticklabels=False),\n",
    "                height=800)\n",
    "                \n",
    "                )\n",
    "for subtrace in edge_trace:\n",
    "    fig2.add_trace(subtrace)\n",
    "fig2.show()"
   ]
  }
 ],
 "metadata": {
  "kernelspec": {
   "display_name": "Python 3",
   "language": "python",
   "name": "python3"
  },
  "language_info": {
   "codemirror_mode": {
    "name": "ipython",
    "version": 3
   },
   "file_extension": ".py",
   "mimetype": "text/x-python",
   "name": "python",
   "nbconvert_exporter": "python",
   "pygments_lexer": "ipython3",
   "version": "3.12.2"
  }
 },
 "nbformat": 4,
 "nbformat_minor": 2
}
