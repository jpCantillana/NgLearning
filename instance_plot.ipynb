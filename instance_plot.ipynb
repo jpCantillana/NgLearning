{
 "cells": [
  {
   "cell_type": "markdown",
   "metadata": {},
   "source": [
    "<h1>Exploring the data</h1>"
   ]
  },
  {
   "cell_type": "markdown",
   "metadata": {},
   "source": [
    "<h2>Loading the data</h2>"
   ]
  },
  {
   "cell_type": "code",
   "execution_count": 1,
   "metadata": {},
   "outputs": [],
   "source": [
    "import os\n",
    "\n",
    "data_files_list = [\"./export/\"+f for f in os.listdir(\"./export\") ]\n",
    "instance_dict = {}\n",
    "for dir_str in data_files_list:\n",
    "    with open(dir_str, 'r') as text_file:\n",
    "        cnt = 0\n",
    "        instance = \"\"\n",
    "        for line in text_file:\n",
    "            if cnt < 9:\n",
    "                if cnt == 0:\n",
    "                    instance = line.split()[0]\n",
    "                    instance_dict[instance] = []\n",
    "                cnt += 1\n",
    "                continue\n",
    "            split_line = line.split()\n",
    "            instance_dict[instance].append([int(i) for i in split_line])\n",
    "        text_file.close()\n",
    "\n",
    "ng_dict = {}\n",
    "cnt = -1\n",
    "with open(\"ng_outs.csv\", 'r') as text_file:\n",
    "    for line in text_file:\n",
    "        if cnt < 2:\n",
    "            cnt += 1\n",
    "            continue\n",
    "        raw_line = line.strip()\n",
    "        split_line_list = raw_line.split(sep=\";\")\n",
    "        instance = split_line_list[3]\n",
    "        if instance not in ng_dict:\n",
    "            ng_dict[instance] = [[0 for i in range(101)]]\n",
    "        ng_dict[instance].append([0] + [int(i) for i in split_line_list[5:-1]])\n",
    "        if len(split_line_list[5:-1]) != 100:\n",
    "            print(\"case found for instance \"+instance)\n",
    "    text_file.close()"
   ]
  },
  {
   "cell_type": "markdown",
   "metadata": {},
   "source": [
    "<h2>Data preparation</h2>"
   ]
  },
  {
   "cell_type": "code",
   "execution_count": 7,
   "metadata": {},
   "outputs": [],
   "source": [
    "from math import sqrt\n",
    "import torch\n",
    "from torch_geometric.data import Data\n",
    "from torch_geometric.loader import DataLoader"
   ]
  },
  {
   "cell_type": "code",
   "execution_count": 3,
   "metadata": {},
   "outputs": [],
   "source": [
    "complete_graph_list = []\n",
    "for i in range(101):\n",
    "    for j in range(101):\n",
    "        if i != j:\n",
    "            complete_graph_list.append([i,j])\n",
    "edge_index = torch.tensor(complete_graph_list, dtype=torch.long).t().contiguous()\n",
    "n_edges = len(complete_graph_list)"
   ]
  },
  {
   "cell_type": "code",
   "execution_count": 4,
   "metadata": {},
   "outputs": [],
   "source": [
    "for instance_name in ng_dict:\n",
    "    for i in range(101):\n",
    "        for j in range(101):\n",
    "            if i == j:\n",
    "                ng_dict[instance_name][i][j] = 0"
   ]
  },
  {
   "cell_type": "code",
   "execution_count": 5,
   "metadata": {},
   "outputs": [],
   "source": [
    "data_list = []\n",
    "for instance_name in ng_dict:\n",
    "    y = torch.tensor(ng_dict[instance_name], dtype=torch.double)\n",
    "    x = torch.tensor(instance_dict[instance_name], dtype=torch.double)\n",
    "    attr = [[i] for i in range(n_edges)]\n",
    "    loc_dict = {(i[0],j[0]): sqrt((i[1]-j[1])**2 + (i[2]-j[2])**2) for i in instance_dict[instance_name] for j in instance_dict[instance_name]}\n",
    "    cnt = -1\n",
    "    for i in range(101):\n",
    "        for j in range(101):\n",
    "            if i != j:\n",
    "                cnt += 1\n",
    "                attr[cnt].append(loc_dict[i,j])\n",
    "    attr = torch.tensor(attr, dtype=torch.double)\n",
    "    pos = []\n",
    "    for i in instance_dict[instance_name]:\n",
    "        pos.append([i[1], i[2]])\n",
    "    pos = torch.tensor(pos, dtype=torch.double)\n",
    "    data_list.append(Data(x=x, y=y, edge_index=edge_index, pos=pos, edge_attr=attr))"
   ]
  },
  {
   "cell_type": "code",
   "execution_count": 6,
   "metadata": {},
   "outputs": [],
   "source": [
    "# Just to produce edges as an adjacency matrix\n",
    "complete_adj_matrix_list = [[0 for i in range(101)] for i in range(101)]\n",
    "for edge in complete_graph_list:\n",
    "    i, j = edge\n",
    "    complete_adj_matrix_list[i][j] = 1"
   ]
  },
  {
   "cell_type": "code",
   "execution_count": 8,
   "metadata": {},
   "outputs": [],
   "source": [
    "class Instances:\n",
    "    def __init__(self, data_list):\n",
    "        self.data_list = data_list\n",
    "    \n",
    "    def to_torch_geometric(self, start=0, end=-1, batch_size=1):\n",
    "        return DataLoader(data_list[start:end], batch_size=batch_size)\n",
    "    \n",
    "    def to_conv_nets(self, start=0, end=-1, batch_size=1):\n",
    "        final_data = []\n",
    "        nodes = []\n",
    "        nodes_coor = []\n",
    "        nodes_timew = []\n",
    "        x_edges = []\n",
    "        x_edges_values = []\n",
    "        y_edges = []\n",
    "        cnt = 0\n",
    "        current_batch = 0\n",
    "        for graph in self.data_list[start:end]:\n",
    "            if cnt >= batch_size:\n",
    "                cnt = 0\n",
    "                current_batch += 1\n",
    "                nodes = torch.tensor(nodes, dtype=torch.long)\n",
    "                nodes_coor = torch.tensor(nodes_coor, dtype=torch.float)\n",
    "                nodes_timew = torch.tensor(nodes_timew, dtype=torch.long)\n",
    "                x_edges = torch.tensor(x_edges, dtype=torch.long)\n",
    "                x_edges_values = torch.tensor(x_edges_values, dtype=torch.float)\n",
    "                y_edges = torch.tensor(y_edges, dtype=torch.long)\n",
    "                final_data.append((x_edges, x_edges_values, nodes, nodes_coor, nodes_timew, y_edges))\n",
    "                nodes = []\n",
    "                nodes_coor = []\n",
    "                nodes_timew = []\n",
    "                x_edges = []\n",
    "                x_edges_values = []\n",
    "                y_edges = []\n",
    "            nodes.append([i for i in range(101)]) \n",
    "            nodes_coor.append(graph.pos.tolist())\n",
    "            tw = []\n",
    "            x_raw = graph.x.tolist()\n",
    "            for i in range(101):\n",
    "                tw.append([x_raw[i][4], x_raw[i][5]])\n",
    "            nodes_timew.append(tw)\n",
    "            x_edges.append(complete_adj_matrix_list)\n",
    "            dist_matrix = [[0 for _ in range(101)] for _ in range(101)]\n",
    "            dist_list = [i for _, i in graph.edge_attr.tolist()]\n",
    "            pos_dist = 0\n",
    "            for i in range(101):\n",
    "                for j in range(101):\n",
    "                    if i != j:\n",
    "                        dist_matrix[i][j] = dist_list[pos_dist]\n",
    "                        pos_dist += 1\n",
    "            x_edges_values.append(dist_matrix)\n",
    "            y_edges.append(graph.y.tolist()) #TODO: remove the transpose and also the contiguous when generating y\n",
    "            cnt += 1\n",
    "        return final_data"
   ]
  },
  {
   "cell_type": "code",
   "execution_count": 9,
   "metadata": {},
   "outputs": [],
   "source": [
    "data_source = Instances(data_list)"
   ]
  },
  {
   "cell_type": "code",
   "execution_count": 10,
   "metadata": {},
   "outputs": [],
   "source": [
    "datatorch = data_source.to_conv_nets(start=428, end=429, batch_size=1)"
   ]
  }
 ],
 "metadata": {
  "kernelspec": {
   "display_name": "Python 3",
   "language": "python",
   "name": "python3"
  },
  "language_info": {
   "codemirror_mode": {
    "name": "ipython",
    "version": 3
   },
   "file_extension": ".py",
   "mimetype": "text/x-python",
   "name": "python",
   "nbconvert_exporter": "python",
   "pygments_lexer": "ipython3",
   "version": "3.12.2"
  }
 },
 "nbformat": 4,
 "nbformat_minor": 2
}
