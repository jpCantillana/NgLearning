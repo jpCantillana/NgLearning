{
 "cells": [
  {
   "cell_type": "code",
   "execution_count": 1,
   "metadata": {},
   "outputs": [],
   "source": [
    "import os"
   ]
  },
  {
   "cell_type": "code",
   "execution_count": 9,
   "metadata": {},
   "outputs": [],
   "source": [
    "data_files_list = [\"./export/\"+f for f in os.listdir(\"./export\") ]"
   ]
  },
  {
   "cell_type": "code",
   "execution_count": 10,
   "metadata": {},
   "outputs": [
    {
     "name": "stdout",
     "output_type": "stream",
     "text": [
      "./export/J000000.txt\n"
     ]
    }
   ],
   "source": [
    "print((data_files_list[0]))"
   ]
  },
  {
   "cell_type": "code",
   "execution_count": 33,
   "metadata": {},
   "outputs": [],
   "source": [
    "filelines = []\n",
    "with open(data_files_list[0], 'r') as test_file:\n",
    "    cnt = 0\n",
    "    instance = \"\"\n",
    "    for line in test_file:\n",
    "        if cnt < 9:\n",
    "            if cnt == 0:\n",
    "                instance = line.split()\n",
    "            cnt += 1\n",
    "            continue\n",
    "        filelines.append(line)"
   ]
  },
  {
   "cell_type": "code",
   "execution_count": 34,
   "metadata": {},
   "outputs": [
    {
     "name": "stdout",
     "output_type": "stream",
     "text": [
      "['J000000']\n"
     ]
    }
   ],
   "source": [
    "print(instance)"
   ]
  },
  {
   "cell_type": "code",
   "execution_count": 30,
   "metadata": {},
   "outputs": [
    {
     "name": "stdout",
     "output_type": "stream",
     "text": [
      "['0', '50', '50', '0', '0', '1176', '0']\n"
     ]
    }
   ],
   "source": [
    "print(filelines[0].split())"
   ]
  },
  {
   "cell_type": "code",
   "execution_count": 41,
   "metadata": {},
   "outputs": [],
   "source": [
    "instance_dict = {}\n",
    "for dir_str in data_files_list:\n",
    "    with open(dir_str, 'r') as text_file:\n",
    "        cnt = 0\n",
    "        instance = \"\"\n",
    "        for line in text_file:\n",
    "            if cnt < 9:\n",
    "                if cnt == 0:\n",
    "                    instance = line.split()[0]\n",
    "                    instance_dict[instance] = {}\n",
    "                cnt += 1\n",
    "                continue\n",
    "            idx, lat, lon, dmd, ear, ldt, tss = line.split()\n",
    "            instance_dict[instance][idx] = {\"lat\": lat, \"lon\": lon, \"demand\": dmd, \"eArr\": ear, \"lDep\": ldt, \"tService\": tss}\n",
    "        text_file.close()"
   ]
  },
  {
   "cell_type": "code",
   "execution_count": 42,
   "metadata": {},
   "outputs": [
    {
     "data": {
      "text/plain": [
       "{'lat': '91',\n",
       " 'lon': '64',\n",
       " 'demand': '5',\n",
       " 'eArr': '159',\n",
       " 'lDep': '219',\n",
       " 'tService': '5'}"
      ]
     },
     "execution_count": 42,
     "metadata": {},
     "output_type": "execute_result"
    }
   ],
   "source": [
    "instance_dict['J000002'][str(100)]"
   ]
  }
 ],
 "metadata": {
  "kernelspec": {
   "display_name": "Python 3",
   "language": "python",
   "name": "python3"
  },
  "language_info": {
   "codemirror_mode": {
    "name": "ipython",
    "version": 3
   },
   "file_extension": ".py",
   "mimetype": "text/x-python",
   "name": "python",
   "nbconvert_exporter": "python",
   "pygments_lexer": "ipython3",
   "version": "3.12.2"
  }
 },
 "nbformat": 4,
 "nbformat_minor": 2
}
