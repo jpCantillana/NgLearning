{
 "cells": [
  {
   "cell_type": "code",
   "execution_count": null,
   "metadata": {},
   "outputs": [],
   "source": []
  },
  {
   "cell_type": "markdown",
   "metadata": {},
   "source": [
    "WIP"
   ]
  },
  {
   "cell_type": "code",
   "execution_count": 1,
   "metadata": {},
   "outputs": [],
   "source": [
    "import torch\n",
    "from torch import Tensor"
   ]
  },
  {
   "cell_type": "code",
   "execution_count": 2,
   "metadata": {},
   "outputs": [
    {
     "name": "stdout",
     "output_type": "stream",
     "text": [
      "Looking in links: https://data.pyg.org/whl/torch-${TORCH}.html\n",
      "Requirement already satisfied: torch-scatter in c:\\users\\jotape\\appdata\\local\\programs\\python\\python312\\lib\\site-packages (2.1.2+pt23cpu)\n"
     ]
    },
    {
     "name": "stderr",
     "output_type": "stream",
     "text": [
      "\n",
      "[notice] A new release of pip is available: 24.0 -> 24.1.2\n",
      "[notice] To update, run: python.exe -m pip install --upgrade pip\n"
     ]
    },
    {
     "name": "stdout",
     "output_type": "stream",
     "text": [
      "Looking in links: https://data.pyg.org/whl/torch-${TORCH}.html\n",
      "Requirement already satisfied: torch-sparse in c:\\users\\jotape\\appdata\\local\\programs\\python\\python312\\lib\\site-packages (0.6.18+pt23cpu)\n",
      "Requirement already satisfied: scipy in c:\\users\\jotape\\appdata\\local\\programs\\python\\python312\\lib\\site-packages (from torch-sparse) (1.13.0)\n",
      "Requirement already satisfied: numpy<2.3,>=1.22.4 in c:\\users\\jotape\\appdata\\local\\programs\\python\\python312\\lib\\site-packages (from scipy->torch-sparse) (1.26.4)\n"
     ]
    },
    {
     "name": "stderr",
     "output_type": "stream",
     "text": [
      "\n",
      "[notice] A new release of pip is available: 24.0 -> 24.1.2\n",
      "[notice] To update, run: python.exe -m pip install --upgrade pip\n"
     ]
    },
    {
     "name": "stdout",
     "output_type": "stream",
     "text": [
      "Looking in links: https://data.pyg.org/whl/nightly/torch-${TORCH}.html\n"
     ]
    },
    {
     "name": "stderr",
     "output_type": "stream",
     "text": [
      "ERROR: Could not find a version that satisfies the requirement pyg-lib (from versions: none)\n",
      "ERROR: No matching distribution found for pyg-lib\n",
      "\n",
      "[notice] A new release of pip is available: 24.0 -> 24.1.2\n",
      "[notice] To update, run: python.exe -m pip install --upgrade pip\n"
     ]
    },
    {
     "name": "stdout",
     "output_type": "stream",
     "text": [
      "Collecting git+https://github.com/pyg-team/pytorch_geometric.git\n",
      "  Cloning https://github.com/pyg-team/pytorch_geometric.git to c:\\users\\jotape\\appdata\\local\\temp\\pip-req-build-xbe4xsz2\n",
      "  Resolved https://github.com/pyg-team/pytorch_geometric.git to commit fbafbc4fc9181e8759ec1f39d9618992793b5fe1\n",
      "  Installing build dependencies: started\n",
      "  Installing build dependencies: finished with status 'done'\n",
      "  Getting requirements to build wheel: started\n",
      "  Getting requirements to build wheel: finished with status 'done'\n",
      "  Preparing metadata (pyproject.toml): started\n",
      "  Preparing metadata (pyproject.toml): finished with status 'done'\n",
      "Requirement already satisfied: aiohttp in c:\\users\\jotape\\appdata\\local\\programs\\python\\python312\\lib\\site-packages (from torch-geometric==2.6.0) (3.9.5)\n",
      "Requirement already satisfied: fsspec in c:\\users\\jotape\\appdata\\local\\programs\\python\\python312\\lib\\site-packages (from torch-geometric==2.6.0) (2024.3.1)\n",
      "Requirement already satisfied: jinja2 in c:\\users\\jotape\\appdata\\local\\programs\\python\\python312\\lib\\site-packages (from torch-geometric==2.6.0) (3.1.4)\n",
      "Requirement already satisfied: numpy in c:\\users\\jotape\\appdata\\local\\programs\\python\\python312\\lib\\site-packages (from torch-geometric==2.6.0) (1.26.4)\n",
      "Requirement already satisfied: psutil>=5.8.0 in c:\\users\\jotape\\appdata\\local\\programs\\python\\python312\\lib\\site-packages (from torch-geometric==2.6.0) (5.9.8)\n",
      "Requirement already satisfied: pyparsing in c:\\users\\jotape\\appdata\\local\\programs\\python\\python312\\lib\\site-packages (from torch-geometric==2.6.0) (3.1.2)\n",
      "Requirement already satisfied: requests in c:\\users\\jotape\\appdata\\local\\programs\\python\\python312\\lib\\site-packages (from torch-geometric==2.6.0) (2.31.0)\n",
      "Requirement already satisfied: tqdm in c:\\users\\jotape\\appdata\\local\\programs\\python\\python312\\lib\\site-packages (from torch-geometric==2.6.0) (4.66.4)\n",
      "Requirement already satisfied: aiosignal>=1.1.2 in c:\\users\\jotape\\appdata\\local\\programs\\python\\python312\\lib\\site-packages (from aiohttp->torch-geometric==2.6.0) (1.3.1)\n",
      "Requirement already satisfied: attrs>=17.3.0 in c:\\users\\jotape\\appdata\\local\\programs\\python\\python312\\lib\\site-packages (from aiohttp->torch-geometric==2.6.0) (23.2.0)\n",
      "Requirement already satisfied: frozenlist>=1.1.1 in c:\\users\\jotape\\appdata\\local\\programs\\python\\python312\\lib\\site-packages (from aiohttp->torch-geometric==2.6.0) (1.4.1)\n",
      "Requirement already satisfied: multidict<7.0,>=4.5 in c:\\users\\jotape\\appdata\\local\\programs\\python\\python312\\lib\\site-packages (from aiohttp->torch-geometric==2.6.0) (6.0.5)\n",
      "Requirement already satisfied: yarl<2.0,>=1.0 in c:\\users\\jotape\\appdata\\local\\programs\\python\\python312\\lib\\site-packages (from aiohttp->torch-geometric==2.6.0) (1.9.4)\n",
      "Requirement already satisfied: MarkupSafe>=2.0 in c:\\users\\jotape\\appdata\\local\\programs\\python\\python312\\lib\\site-packages (from jinja2->torch-geometric==2.6.0) (2.1.5)\n",
      "Requirement already satisfied: charset-normalizer<4,>=2 in c:\\users\\jotape\\appdata\\local\\programs\\python\\python312\\lib\\site-packages (from requests->torch-geometric==2.6.0) (3.3.2)\n",
      "Requirement already satisfied: idna<4,>=2.5 in c:\\users\\jotape\\appdata\\local\\programs\\python\\python312\\lib\\site-packages (from requests->torch-geometric==2.6.0) (3.7)\n",
      "Requirement already satisfied: urllib3<3,>=1.21.1 in c:\\users\\jotape\\appdata\\local\\programs\\python\\python312\\lib\\site-packages (from requests->torch-geometric==2.6.0) (2.2.1)\n",
      "Requirement already satisfied: certifi>=2017.4.17 in c:\\users\\jotape\\appdata\\local\\programs\\python\\python312\\lib\\site-packages (from requests->torch-geometric==2.6.0) (2024.2.2)\n",
      "Requirement already satisfied: colorama in c:\\users\\jotape\\appdata\\local\\programs\\python\\python312\\lib\\site-packages (from tqdm->torch-geometric==2.6.0) (0.4.6)\n"
     ]
    },
    {
     "name": "stderr",
     "output_type": "stream",
     "text": [
      "  Running command git clone --filter=blob:none --quiet https://github.com/pyg-team/pytorch_geometric.git 'C:\\Users\\jotape\\AppData\\Local\\Temp\\pip-req-build-xbe4xsz2'\n",
      "\n",
      "[notice] A new release of pip is available: 24.0 -> 24.1.2\n",
      "[notice] To update, run: python.exe -m pip install --upgrade pip\n"
     ]
    }
   ],
   "source": [
    "import os\n",
    "os.environ['TORCH'] = torch.__version__\n",
    "\n",
    "!pip install torch-scatter -f https://data.pyg.org/whl/torch-${TORCH}.html\n",
    "!pip install torch-sparse -f https://data.pyg.org/whl/torch-${TORCH}.html\n",
    "!pip install pyg-lib -f https://data.pyg.org/whl/nightly/torch-${TORCH}.html\n",
    "!pip install git+https://github.com/pyg-team/pytorch_geometric.git"
   ]
  },
  {
   "cell_type": "code",
   "execution_count": 3,
   "metadata": {},
   "outputs": [],
   "source": [
    "# import torch\n",
    "from torch_geometric.data import Data\n",
    "import torch.nn.functional as F\n",
    "from torch_geometric.loader import DataLoader"
   ]
  },
  {
   "cell_type": "code",
   "execution_count": 4,
   "metadata": {},
   "outputs": [],
   "source": [
    "complete_graph_list = []\n",
    "for i in range(101):\n",
    "    for j in range(101):\n",
    "        if i != j:\n",
    "            complete_graph_list.append([i,j])\n",
    "edge_index = torch.tensor(complete_graph_list, dtype=torch.double).t()\n",
    "n_edges = len(complete_graph_list)"
   ]
  },
  {
   "cell_type": "code",
   "execution_count": 5,
   "metadata": {},
   "outputs": [],
   "source": [
    "from math import sqrt\n",
    "# import torch\n",
    "# from torch_geometric.data import Data\n",
    "from random import randint\n",
    "from sys import float_info"
   ]
  },
  {
   "cell_type": "code",
   "execution_count": 6,
   "metadata": {},
   "outputs": [],
   "source": [
    "instances = {}\n",
    "for k in range(0, 5000):\n",
    "    nodes = {}\n",
    "    for i in range(0, 50):\n",
    "        lat_i = randint(0, 100)\n",
    "        lon_i = randint(0, 100)\n",
    "        node_i = (lat_i, lon_i)\n",
    "        lat_j = randint(0, 100)\n",
    "        lon_j = randint(0, 100)\n",
    "        node_j = (lat_j, lon_j)\n",
    "        nodes[i + 1] = node_i\n",
    "        nodes[i + 51] = node_j\n",
    "\n",
    "    dist = {}\n",
    "    pairs = {}\n",
    "    for i in range(1, 101):\n",
    "        for j in range(1, 101):\n",
    "            if i != j:\n",
    "                dist[i,j] = sqrt( (nodes[i][0] - nodes[j][0])**2 + (nodes[i][1] - nodes[j][1])**2 )\n",
    "            else:\n",
    "                dist[i,j] = float_info.max\n",
    "    for i in range(1, 101):\n",
    "        for j in range(1, 101):\n",
    "            if i not in pairs:\n",
    "                pairs[i] = j\n",
    "            if i != j:\n",
    "                if dist[i,j] < dist[i,pairs[i]]:\n",
    "                    pairs[i] = j\n",
    "\n",
    "    nodes[0] = (0,0)\n",
    "    for i in range(1,101):\n",
    "        dist[0,i] = sqrt( (nodes[0][0] - nodes[i][0])**2 + (nodes[0][1] - nodes[i][1])**2 )\n",
    "        dist[i,0] = dist[0,i]\n",
    "    y = [[0 for _ in range(101)] for _ in range(101)]\n",
    "    for i in range(101):\n",
    "        if i > 0:\n",
    "            y[i][pairs[i]] = 1\n",
    "                \n",
    "    instances[k] = {\"nodes\": nodes, \"dist\": dist, \"y\": y}"
   ]
  },
  {
   "cell_type": "code",
   "execution_count": 7,
   "metadata": {},
   "outputs": [],
   "source": [
    "from torch_geometric.data import HeteroData\n",
    "import torch_geometric.transforms as T"
   ]
  },
  {
   "cell_type": "code",
   "execution_count": null,
   "metadata": {},
   "outputs": [],
   "source": [
    "data = HeteroData()\n",
    "\n",
    "data[\"nodes\"].node_id = torch.arange(101*5000)\n",
    "data[\"tags\"].node_id = torch.arange(101*5000)\n",
    "\n",
    "data[\"nodes\"].x = "
   ]
  },
  {
   "cell_type": "code",
   "execution_count": null,
   "metadata": {},
   "outputs": [],
   "source": [
    "data_list = []\n",
    "for instance_name in instances:\n",
    "    y = torch.tensor(instances[instance_name][\"y\"], dtype=torch.double)\n",
    "    x = torch.tensor([instances[instance_name][\"nodes\"][i] for i in range(0, 101)], dtype=torch.double)\n",
    "    attr = [[i] for i in range(n_edges)]\n",
    "    cnt = -1\n",
    "    for i in range(101):\n",
    "        for j in range(101):\n",
    "            if i != j:\n",
    "                cnt += 1\n",
    "                attr[cnt].append(instances[instance_name][\"dist\"][i,j])\n",
    "    attr = torch.tensor(attr, dtype=torch.double)\n",
    "    pos = []\n",
    "    for i in range(101):\n",
    "        pos.append(instances[instance_name][\"nodes\"][i])\n",
    "    pos = torch.tensor(pos, dtype=torch.double)\n",
    "    # ## filtering by TW, strict\n",
    "    # complete_graph_list = []\n",
    "    # for i in range(101):\n",
    "    #     for j in range(101):\n",
    "    #         if i!=j:\n",
    "    #             try:\n",
    "    #                 if instance_dict[instance_name][i][5] + instance_dict[instance_name][i][6] + loc_dict[i][j] < instance_dict[instance_name][i][5]:\n",
    "    #                     complete_graph_list.append([i,j])\n",
    "    #             except:\n",
    "    #                 continue\n",
    "    # edge_index = torch.tensor(complete_graph_list, dtype=torch.double).t().contiguous()\n",
    "    ## end filtering\n",
    "    data_list.append(Data(x=x, y=y, edge_index=edge_index, pos=pos, edge_attr=attr))"
   ]
  }
 ],
 "metadata": {
  "kernelspec": {
   "display_name": "Python 3",
   "language": "python",
   "name": "python3"
  },
  "language_info": {
   "codemirror_mode": {
    "name": "ipython",
    "version": 3
   },
   "file_extension": ".py",
   "mimetype": "text/x-python",
   "name": "python",
   "nbconvert_exporter": "python",
   "pygments_lexer": "ipython3",
   "version": "3.12.2"
  }
 },
 "nbformat": 4,
 "nbformat_minor": 2
}
